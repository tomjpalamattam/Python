{
 "cells": [
  {
   "cell_type": "code",
   "execution_count": 60,
   "id": "85ad5339-bb4d-49b1-81e0-e5138747b0e3",
   "metadata": {},
   "outputs": [],
   "source": [
    "import torch\n",
    "import torch.nn as nn\n",
    "import torch.optim as optim\n",
    "from torch.utils.data import Dataset, DataLoader\n",
    "from torch.nn.utils.rnn import pad_sequence\n",
    "from transformers import GPT2Tokenizer\n",
    "import string"
   ]
  },
  {
   "cell_type": "code",
   "execution_count": 61,
   "id": "e87aa3cf-c483-4baf-b8fc-501515c94c76",
   "metadata": {},
   "outputs": [],
   "source": [
    "# Load your Shakespeare quotes from input.txt\n",
    "with open(\"input.txt\", \"r\", encoding=\"utf-8\") as file:\n",
    "    shakespeare_quotes = file.read()\n",
    "\n",
    "# Define a simple character-level tokenizer\n",
    "class CharTokenizer:\n",
    "    def __init__(self):\n",
    "        self.char2index = {char: i for i, char in enumerate(string.printable)}\n",
    "        self.index2char = {i: char for i, char in enumerate(string.printable)}\n",
    "\n",
    "    def tokenize(self, text):\n",
    "        return [self.char2index[char] for char in text]\n",
    "\n",
    "    def detokenize(self, indices):\n",
    "        return ''.join([self.index2char[i] for i in indices])\n",
    "\n",
    "# Tokenize the text\n",
    "char_tokenizer = CharTokenizer()\n",
    "tokenized_text = char_tokenizer.tokenize(shakespeare_quotes)\n"
   ]
  },
  {
   "cell_type": "code",
   "execution_count": 62,
   "id": "7ddd0062-cd27-4d2c-a1c1-1da688428aac",
   "metadata": {},
   "outputs": [],
   "source": [
    "\n",
    "# Create a custom dataset\n",
    "class ShakespeareDataset(Dataset):\n",
    "    def __init__(self, data, seq_length=32):\n",
    "        self.data = data\n",
    "        self.seq_length = seq_length\n",
    "\n",
    "    def __len__(self):\n",
    "        return len(self.data) - self.seq_length\n",
    "\n",
    "    def __getitem__(self, idx):\n",
    "        return self.data[idx:idx + self.seq_length]\n",
    "\n",
    "# Pad collate function for DataLoader\n",
    "def pad_collate(batch):\n",
    "    return torch.tensor(batch)"
   ]
  },
  {
   "cell_type": "code",
   "execution_count": 63,
   "id": "2ab59a83-8dc6-4a19-9b12-89d0a52f873a",
   "metadata": {},
   "outputs": [],
   "source": [
    "# Hyperparameters\n",
    "seq_length = 32\n",
    "batch_size = 64\n",
    "epochs = 5\n",
    "lr = 0.001"
   ]
  },
  {
   "cell_type": "code",
   "execution_count": 64,
   "id": "f92d41a7-a40f-4ca6-8d6e-6cf1c1c980e1",
   "metadata": {},
   "outputs": [],
   "source": [
    "# Create dataset and dataloader\n",
    "dataset = ShakespeareDataset(tokenized_text, seq_length=seq_length)\n",
    "dataloader = DataLoader(dataset, batch_size=batch_size, collate_fn=pad_collate, shuffle=True)\n"
   ]
  },
  {
   "cell_type": "code",
   "execution_count": 65,
   "id": "cf20b38a-fe0e-4981-af11-1ca634b3a114",
   "metadata": {},
   "outputs": [
    {
     "data": {
      "text/plain": [
       "2644"
      ]
     },
     "execution_count": 65,
     "metadata": {},
     "output_type": "execute_result"
    }
   ],
   "source": [
    "len(dataset)"
   ]
  },
  {
   "cell_type": "code",
   "execution_count": 66,
   "id": "9f99ce78-5453-41a3-8085-9cdd5dc88250",
   "metadata": {},
   "outputs": [],
   "source": [
    "# Define a simple Transformer model\n",
    "class TransformerModel(nn.Module):\n",
    "    def __init__(self, vocab_size, d_model=512, nhead=8, num_layers=6):\n",
    "        super(TransformerModel, self).__init__()\n",
    "        self.embedding = nn.Embedding(vocab_size, d_model)\n",
    "        self.transformer = nn.Transformer(\n",
    "            d_model=d_model, nhead=nhead, num_encoder_layers=num_layers\n",
    "        )\n",
    "        self.fc = nn.Linear(d_model, vocab_size)\n",
    "\n",
    "    def forward(self, src):\n",
    "        src = self.embedding(src)\n",
    "        src = src.permute(1, 0, 2)  # Change from (seq_len, batch, embed_dim) to (batch, seq_len, embed_dim)\n",
    "        output = self.transformer(src, src)  # Use src as both source and target\n",
    "        output = self.fc(output[-1, :, :])  # Take the last token's output\n",
    "        return output\n",
    "\n"
   ]
  },
  {
   "cell_type": "code",
   "execution_count": 67,
   "id": "dfc7044c-a232-4178-92b3-b15fbf112ee9",
   "metadata": {},
   "outputs": [],
   "source": [
    "# Initialize model, criterion, and optimizer\n",
    "model = TransformerModel(vocab_size)\n",
    "criterion = nn.CrossEntropyLoss()\n",
    "optimizer = optim.Adam(model.parameters(), lr=lr)\n"
   ]
  },
  {
   "cell_type": "code",
   "execution_count": 68,
   "id": "cf79e7bc-f2df-4881-a336-d472a4c51c36",
   "metadata": {},
   "outputs": [
    {
     "name": "stdout",
     "output_type": "stream",
     "text": [
      "Epoch 1, Loss: 4.213603405725388\n",
      "Epoch 2, Loss: 3.3028276420774914\n",
      "Epoch 3, Loss: 3.2914816708791825\n",
      "Epoch 4, Loss: 3.2923165503002347\n",
      "Epoch 5, Loss: 3.285157317206973\n"
     ]
    }
   ],
   "source": [
    "# Training loop\n",
    "for epoch in range(epochs):\n",
    "    total_loss = 0\n",
    "    for batch in dataloader:\n",
    "        optimizer.zero_grad()\n",
    "        output = model(batch)\n",
    "        loss = criterion(output, batch[:, -1])  # Predict the last token in the sequence\n",
    "        loss.backward()\n",
    "        optimizer.step()\n",
    "        total_loss += loss.item()\n",
    "\n",
    "    print(f\"Epoch {epoch + 1}, Loss: {total_loss / len(dataloader)}\")\n",
    "\n",
    "# Save the trained model\n",
    "torch.save(model.state_dict(), \"shakespeare_transformer_model.pth\")\n",
    "\n"
   ]
  },
  {
   "cell_type": "code",
   "execution_count": null,
   "id": "e7e3d271-521f-4987-b509-e5cd1c01036f",
   "metadata": {},
   "outputs": [],
   "source": [
    "# Inference\n",
    "def generate_quote(model, tokenizer, prompt, max_length=50):\n",
    "    model.eval()\n",
    "    prompt = tokenizer.encode(prompt, return_tensors=\"pt\").squeeze()\n",
    "    \n",
    "    with torch.no_grad():\n",
    "        for _ in range(max_length):\n",
    "            output = model(prompt.unsqueeze(0))\n",
    "            predicted_token = torch.argmax(output)\n",
    "            prompt = torch.cat((prompt, predicted_token.unsqueeze(0)))\n",
    "\n",
    "    generated_text = tokenizer.decode(prompt, skip_special_tokens=True)\n",
    "    return generated_text\n",
    "\n",
    "# Load the trained model for inference\n",
    "inference_model = TransformerModel(vocab_size)\n",
    "inference_model.load_state_dict(torch.load(\"shakespeare_transformer_model.pth\"))\n",
    "inference_model.eval()\n",
    "\n",
    "# Example usage\n",
    "prompt = \"To be gone\"\n",
    "generated_quote = generate_quote(inference_model, tokenizer, prompt)\n",
    "print(generated_quote)"
   ]
  }
 ],
 "metadata": {
  "kernelspec": {
   "display_name": "Python 3 (ipykernel)",
   "language": "python",
   "name": "python3"
  },
  "language_info": {
   "codemirror_mode": {
    "name": "ipython",
    "version": 3
   },
   "file_extension": ".py",
   "mimetype": "text/x-python",
   "name": "python",
   "nbconvert_exporter": "python",
   "pygments_lexer": "ipython3",
   "version": "3.11.6"
  }
 },
 "nbformat": 4,
 "nbformat_minor": 5
}
