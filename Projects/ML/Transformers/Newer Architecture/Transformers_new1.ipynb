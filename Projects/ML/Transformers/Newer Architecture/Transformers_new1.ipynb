{
 "cells": [
  {
   "cell_type": "code",
   "execution_count": 21,
   "metadata": {
    "executionInfo": {
     "elapsed": 3,
     "status": "ok",
     "timestamp": 1706013201500,
     "user": {
      "displayName": "Anon User",
      "userId": "09336337215454420289"
     },
     "user_tz": -60
    },
    "id": "epdFYuk9xS64"
   },
   "outputs": [],
   "source": [
    "import torch\n",
    "import torch.nn as nn\n",
    "import torch.optim as optim\n",
    "import torch.utils.data as data\n",
    "import math\n",
    "import copy\n",
    "from torch.utils.data import Dataset, DataLoader"
   ]
  },
  {
   "cell_type": "code",
   "execution_count": 22,
   "metadata": {},
   "outputs": [],
   "source": [
    "device = 'cuda' if torch.cuda.is_available() else 'cpu'"
   ]
  },
  {
   "cell_type": "code",
   "execution_count": 23,
   "metadata": {
    "executionInfo": {
     "elapsed": 238,
     "status": "ok",
     "timestamp": 1706013203799,
     "user": {
      "displayName": "Anon User",
      "userId": "09336337215454420289"
     },
     "user_tz": -60
    },
    "id": "WNOlOsEkyD_1"
   },
   "outputs": [],
   "source": [
    "class MultiHeadAttention(nn.Module):\n",
    "    def __init__(self, d_model, num_heads):\n",
    "        super(MultiHeadAttention, self).__init__()\n",
    "        # Ensure that the model dimension (d_model) is divisible by the number of heads\n",
    "        assert d_model % num_heads == 0, \"d_model must be divisible by num_heads\"\n",
    "\n",
    "        # Initialize dimensions\n",
    "        self.d_model = d_model # Model's dimension\n",
    "        self.num_heads = num_heads # Number of attention heads\n",
    "        self.d_k = d_model // num_heads # Dimension of each head's key, query, and value\n",
    "\n",
    "        # Linear layers for transforming inputs\n",
    "        self.W_q = nn.Linear(d_model, d_model) # Query transformation\n",
    "        self.W_k = nn.Linear(d_model, d_model) # Key transformation\n",
    "        self.W_v = nn.Linear(d_model, d_model) # Value transformation\n",
    "        self.W_o = nn.Linear(d_model, d_model) # Output transformation\n",
    "\n",
    "    def scaled_dot_product_attention(self, Q, K, V, mask=None):\n",
    "        # Calculate attention scores\n",
    "        attn_scores = torch.matmul(Q, K.transpose(-2, -1)) / math.sqrt(self.d_k)\n",
    "\n",
    "        # Apply mask if provided (useful for preventing attention to certain parts like padding)\n",
    "        if mask is not None:\n",
    "            attn_scores = attn_scores.masked_fill(mask == 0, -1e9)\n",
    "\n",
    "        # Softmax is applied to obtain attention probabilities\n",
    "        attn_probs = torch.softmax(attn_scores, dim=-1)\n",
    "\n",
    "        # Multiply by values to obtain the final output\n",
    "        output = torch.matmul(attn_probs, V)\n",
    "        return output\n",
    "\n",
    "    def split_heads(self, x):\n",
    "        # Reshape the input to have num_heads for multi-head attention\n",
    "        batch_size, seq_length, d_model = x.size()\n",
    "        return x.view(batch_size, seq_length, self.num_heads, self.d_k).transpose(1, 2)\n",
    "\n",
    "    def combine_heads(self, x):\n",
    "        # Combine the multiple heads back to original shape\n",
    "        batch_size, _, seq_length, d_k = x.size()\n",
    "        return x.transpose(1, 2).contiguous().view(batch_size, seq_length, self.d_model)\n",
    "\n",
    "    def forward(self, Q, K, V, mask=None):\n",
    "        # Apply linear transformations and split heads\n",
    "        Q = self.split_heads(self.W_q(Q))\n",
    "        K = self.split_heads(self.W_k(K))\n",
    "        V = self.split_heads(self.W_v(V))\n",
    "\n",
    "        # Perform scaled dot-product attention\n",
    "        attn_output = self.scaled_dot_product_attention(Q, K, V, mask)\n",
    "\n",
    "        # Combine heads and apply output transformation\n",
    "        output = self.W_o(self.combine_heads(attn_output))\n",
    "        return output"
   ]
  },
  {
   "cell_type": "code",
   "execution_count": 24,
   "metadata": {
    "executionInfo": {
     "elapsed": 219,
     "status": "ok",
     "timestamp": 1706013206400,
     "user": {
      "displayName": "Anon User",
      "userId": "09336337215454420289"
     },
     "user_tz": -60
    },
    "id": "RrcDkptiyJiC"
   },
   "outputs": [],
   "source": [
    "class PositionWiseFeedForward(nn.Module):\n",
    "    def __init__(self, d_model, d_ff):\n",
    "        super(PositionWiseFeedForward, self).__init__()\n",
    "        self.fc1 = nn.Linear(d_model, d_ff)\n",
    "        self.fc2 = nn.Linear(d_ff, d_model)\n",
    "        self.relu = nn.ReLU()\n",
    "\n",
    "    def forward(self, x):\n",
    "        return self.fc2(self.relu(self.fc1(x)))"
   ]
  },
  {
   "cell_type": "code",
   "execution_count": 25,
   "metadata": {
    "executionInfo": {
     "elapsed": 216,
     "status": "ok",
     "timestamp": 1706013510396,
     "user": {
      "displayName": "Anon User",
      "userId": "09336337215454420289"
     },
     "user_tz": -60
    },
    "id": "ZAN9J84cyQAy"
   },
   "outputs": [],
   "source": [
    "class PositionalEncoding(nn.Module):\n",
    "    def __init__(self, d_model, max_seq_length):\n",
    "        super(PositionalEncoding, self).__init__()\n",
    "\n",
    "        pe = torch.zeros(max_seq_length, d_model)\n",
    "        position = torch.arange(0, max_seq_length, dtype=torch.float).unsqueeze(1)\n",
    "        div_term = torch.exp(torch.arange(0, d_model, 2).float() * -(math.log(10000.0) / d_model))\n",
    "\n",
    "        pe[:, 0::2] = torch.sin(position * div_term)\n",
    "        pe[:, 1::2] = torch.cos(position * div_term)\n",
    "\n",
    "        self.register_buffer('pe', pe.unsqueeze(0))\n",
    "\n",
    "    def forward(self, x):\n",
    "        return x + self.pe[:, :x.size(1)]"
   ]
  },
  {
   "cell_type": "code",
   "execution_count": 26,
   "metadata": {
    "executionInfo": {
     "elapsed": 275,
     "status": "ok",
     "timestamp": 1706013512416,
     "user": {
      "displayName": "Anon User",
      "userId": "09336337215454420289"
     },
     "user_tz": -60
    },
    "id": "CNY0lhCqyThZ"
   },
   "outputs": [],
   "source": [
    "class EncoderLayer(nn.Module):\n",
    "    def __init__(self, d_model, num_heads, d_ff, dropout):\n",
    "        super(EncoderLayer, self).__init__()\n",
    "        self.self_attn = MultiHeadAttention(d_model, num_heads)\n",
    "        self.feed_forward = PositionWiseFeedForward(d_model, d_ff)\n",
    "        self.norm1 = nn.LayerNorm(d_model)\n",
    "        self.norm2 = nn.LayerNorm(d_model)\n",
    "        self.dropout = nn.Dropout(dropout)\n",
    "\n",
    "    def forward(self, x, mask):\n",
    "        attn_output = self.self_attn(x, x, x, mask)\n",
    "        x = self.norm1(x + self.dropout(attn_output))\n",
    "        ff_output = self.feed_forward(x)\n",
    "        x = self.norm2(x + self.dropout(ff_output))\n",
    "        return x"
   ]
  },
  {
   "cell_type": "code",
   "execution_count": 27,
   "metadata": {
    "executionInfo": {
     "elapsed": 220,
     "status": "ok",
     "timestamp": 1706013514429,
     "user": {
      "displayName": "Anon User",
      "userId": "09336337215454420289"
     },
     "user_tz": -60
    },
    "id": "NGs5m3HkyYxK"
   },
   "outputs": [],
   "source": [
    "class DecoderLayer(nn.Module):\n",
    "    def __init__(self, d_model, num_heads, d_ff, dropout):\n",
    "        super(DecoderLayer, self).__init__()\n",
    "        self.self_attn = MultiHeadAttention(d_model, num_heads)\n",
    "        self.cross_attn = MultiHeadAttention(d_model, num_heads)\n",
    "        self.feed_forward = PositionWiseFeedForward(d_model, d_ff)\n",
    "        self.norm1 = nn.LayerNorm(d_model)\n",
    "        self.norm2 = nn.LayerNorm(d_model)\n",
    "        self.norm3 = nn.LayerNorm(d_model)\n",
    "        self.dropout = nn.Dropout(dropout)\n",
    "\n",
    "    def forward(self, x, enc_output, src_mask, tgt_mask):\n",
    "        attn_output = self.self_attn(x, x, x, tgt_mask)\n",
    "        x = self.norm1(x + self.dropout(attn_output))\n",
    "        attn_output = self.cross_attn(x, enc_output, enc_output, src_mask)\n",
    "        x = self.norm2(x + self.dropout(attn_output))\n",
    "        ff_output = self.feed_forward(x)\n",
    "        x = self.norm3(x + self.dropout(ff_output))\n",
    "        return x"
   ]
  },
  {
   "cell_type": "code",
   "execution_count": 28,
   "metadata": {
    "executionInfo": {
     "elapsed": 2,
     "status": "ok",
     "timestamp": 1706013515709,
     "user": {
      "displayName": "Anon User",
      "userId": "09336337215454420289"
     },
     "user_tz": -60
    },
    "id": "yOjrw3sLydei"
   },
   "outputs": [],
   "source": [
    "class Transformer_old(nn.Module):\n",
    "    def __init__(self, src_vocab_size, tgt_vocab_size, d_model, num_heads, num_layers, d_ff, max_seq_length, dropout):\n",
    "        super(Transformer_old, self).__init__()\n",
    "        self.encoder_embedding = nn.Embedding(src_vocab_size, d_model)\n",
    "        self.decoder_embedding = nn.Embedding(tgt_vocab_size, d_model)\n",
    "        self.positional_encoding = PositionalEncoding(d_model, max_seq_length)\n",
    "\n",
    "        self.encoder_layers = nn.ModuleList([EncoderLayer(d_model, num_heads, d_ff, dropout) for _ in range(num_layers)])\n",
    "        self.decoder_layers = nn.ModuleList([DecoderLayer(d_model, num_heads, d_ff, dropout) for _ in range(num_layers)])\n",
    "\n",
    "        self.fc = nn.Linear(d_model, tgt_vocab_size)\n",
    "        self.dropout = nn.Dropout(dropout)\n",
    "\n",
    "    def generate_mask(self, src, tgt):\n",
    "        src_mask = (src != 0).unsqueeze(1).unsqueeze(2)\n",
    "        tgt_mask = (tgt != 0).unsqueeze(1).unsqueeze(3)\n",
    "        seq_length = tgt.size(1)\n",
    "        nopeak_mask = (1 - torch.triu(torch.ones(1, seq_length, seq_length), diagonal=1)).bool()\n",
    "        tgt_mask = tgt_mask & nopeak_mask\n",
    "        return src_mask, tgt_mask\n",
    "\n",
    "    def forward(self, src, tgt=None):\n",
    "        src_mask, tgt_mask = self.generate_mask(src, tgt)\n",
    "        src_embedded = self.dropout(self.positional_encoding(self.encoder_embedding(src)))\n",
    "        tgt_embedded = self.dropout(self.positional_encoding(self.decoder_embedding(tgt)))\n",
    "\n",
    "        enc_output = src_embedded\n",
    "        for enc_layer in self.encoder_layers:\n",
    "            enc_output = enc_layer(enc_output, src_mask)\n",
    "\n",
    "        dec_output = tgt_embedded\n",
    "        for dec_layer in self.decoder_layers:\n",
    "            dec_output = dec_layer(dec_output, enc_output, src_mask, tgt_mask)\n",
    "\n",
    "        output = self.fc(dec_output)\n",
    "        return output\n"
   ]
  },
  {
   "cell_type": "code",
   "execution_count": 29,
   "metadata": {
    "executionInfo": {
     "elapsed": 222,
     "status": "ok",
     "timestamp": 1706013519522,
     "user": {
      "displayName": "Anon User",
      "userId": "09336337215454420289"
     },
     "user_tz": -60
    },
    "id": "Kc1JwIrp12dR"
   },
   "outputs": [],
   "source": [
    "with open('input.txt', 'r', encoding='utf-8') as f:\n",
    "    text = f.read()\n"
   ]
  },
  {
   "cell_type": "code",
   "execution_count": 30,
   "metadata": {
    "executionInfo": {
     "elapsed": 4,
     "status": "ok",
     "timestamp": 1706013520345,
     "user": {
      "displayName": "Anon User",
      "userId": "09336337215454420289"
     },
     "user_tz": -60
    },
    "id": "_0hi-7vf3XtM"
   },
   "outputs": [],
   "source": [
    "# here are all the unique characters that occur in this text\n",
    "chars = sorted(list(set(text)))\n",
    "vocab_size = len(chars)\n",
    "\n",
    "\n",
    "# create a mapping from characters to integers\n",
    "stoi = { ch:i for i,ch in enumerate(chars) }\n",
    "itos = { i:ch for i,ch in enumerate(chars) }\n",
    "encode = lambda s: [stoi[c] for c in s] # encoder: take a string, output a list of integers\n",
    "decode = lambda l: ''.join([itos[i] for i in l]) # decoder: take a list of integers, output a string"
   ]
  },
  {
   "cell_type": "code",
   "execution_count": 31,
   "metadata": {
    "executionInfo": {
     "elapsed": 553,
     "status": "ok",
     "timestamp": 1706013522148,
     "user": {
      "displayName": "Anon User",
      "userId": "09336337215454420289"
     },
     "user_tz": -60
    },
    "id": "4z-RSG8H3kxz"
   },
   "outputs": [],
   "source": [
    "data = torch.tensor(encode(text), dtype=torch.long)"
   ]
  },
  {
   "cell_type": "code",
   "execution_count": 32,
   "metadata": {
    "executionInfo": {
     "elapsed": 229,
     "status": "ok",
     "timestamp": 1706013522691,
     "user": {
      "displayName": "Anon User",
      "userId": "09336337215454420289"
     },
     "user_tz": -60
    },
    "id": "TKsm4iDt3ruk"
   },
   "outputs": [],
   "source": [
    "block_size = 10\n",
    "batch_size = 64\n",
    "\n",
    "from torch.utils.data import Dataset, DataLoader\n",
    "def get_batch(data):\n",
    "    # Generate a small batch of data with inputs x and targets y\n",
    "    ix = torch.randint(len(data) - block_size, (batch_size,))\n",
    "    x = torch.stack([data[i:i+block_size] for i in ix]).to(device)\n",
    "    y = torch.stack([data[i+1:i+block_size+1] for i in ix]).to(device)\n",
    "    return x, y\n",
    "\n",
    "#dataset = get_batch(data)\n",
    "#dataloader = DataLoader(dataset, batch_size=batch_size, shuffle=True)"
   ]
  },
  {
   "cell_type": "code",
   "execution_count": 33,
   "metadata": {
    "colab": {
     "base_uri": "https://localhost:8080/"
    },
    "executionInfo": {
     "elapsed": 221,
     "status": "ok",
     "timestamp": 1706013524580,
     "user": {
      "displayName": "Anon User",
      "userId": "09336337215454420289"
     },
     "user_tz": -60
    },
    "id": "QF7iNoMT6F9C",
    "outputId": "e26312a9-af97-4913-cd7d-bbfe72cef2e1"
   },
   "outputs": [
    {
     "data": {
      "text/plain": [
       "torch.Size([64, 10])"
      ]
     },
     "execution_count": 33,
     "metadata": {},
     "output_type": "execute_result"
    }
   ],
   "source": [
    "src_data, tgt_data = get_batch(data)\n",
    "src_data.shape"
   ]
  },
  {
   "cell_type": "code",
   "execution_count": 34,
   "metadata": {
    "colab": {
     "base_uri": "https://localhost:8080/"
    },
    "executionInfo": {
     "elapsed": 1,
     "status": "ok",
     "timestamp": 1706013525672,
     "user": {
      "displayName": "Anon User",
      "userId": "09336337215454420289"
     },
     "user_tz": -60
    },
    "id": "T91QW4Oy-cPq",
    "outputId": "042e3270-93c3-43e6-e016-7aced70003ea"
   },
   "outputs": [
    {
     "data": {
      "text/plain": [
       "torch.Size([64, 10])"
      ]
     },
     "execution_count": 34,
     "metadata": {},
     "output_type": "execute_result"
    }
   ],
   "source": [
    "tgt_data.shape\n",
    "\n",
    "\n",
    "# The x and y shape are of shape [64 ,10] (where 64 is batch_size and 10 is block size). Its because unlike lstm where the target is the 'price' of the nth day and the input is 'price' values\n",
    "# from (n-1)th to (n-sequence_length-1). Here the target is a sequence of length block_size and the input is from (n-1)th value to block_size length. For example, for block_size 2\n",
    "# For the sentence 'I think tomorrow its raining'. if target is 'tomorrow its raining' the input is 'think tomorrow its'"
   ]
  },
  {
   "cell_type": "code",
   "execution_count": 35,
   "metadata": {},
   "outputs": [],
   "source": [
    "src_data = src_data.to(device)\n",
    "tgt_data = tgt_data.to(device)"
   ]
  },
  {
   "cell_type": "code",
   "execution_count": 36,
   "metadata": {
    "executionInfo": {
     "elapsed": 225,
     "status": "ok",
     "timestamp": 1706017296061,
     "user": {
      "displayName": "Anon User",
      "userId": "09336337215454420289"
     },
     "user_tz": -60
    },
    "id": "CjpuCLDiSmSU"
   },
   "outputs": [],
   "source": [
    "import torch.nn.functional as F\n",
    "\n",
    "class Transformer(nn.Module):\n",
    "    def __init__(self, src_vocab_size, tgt_vocab_size, d_model, num_heads, num_layers, d_ff, max_seq_length, dropout):\n",
    "        super(Transformer, self).__init__()\n",
    "        self.encoder_embedding = nn.Embedding(src_vocab_size, d_model)\n",
    "        self.decoder_embedding = nn.Embedding(tgt_vocab_size, d_model)\n",
    "        self.positional_encoding = PositionalEncoding(d_model, max_seq_length)\n",
    "\n",
    "        self.encoder_layers = nn.ModuleList([EncoderLayer(d_model, num_heads, d_ff, dropout) for _ in range(num_layers)])\n",
    "        self.decoder_layers = nn.ModuleList([DecoderLayer(d_model, num_heads, d_ff, dropout) for _ in range(num_layers)])\n",
    "\n",
    "        self.fc = nn.Linear(d_model, tgt_vocab_size)\n",
    "        self.dropout = nn.Dropout(dropout)\n",
    "\n",
    "    def generate_mask(self, src, tgt=None):\n",
    "        src_mask = (src != 0).unsqueeze(1).unsqueeze(2)\n",
    "\n",
    "        if tgt is not None:\n",
    "            seq_length = tgt.size(1)\n",
    "            tgt_mask = (tgt != 0).unsqueeze(1).unsqueeze(2).to(tgt.device)  # Adjusted to work with both training and generation\n",
    "            nopeak_mask = (1 - torch.triu(torch.ones(1, seq_length, seq_length), diagonal=1)).bool().to(tgt.device)\n",
    "            tgt_mask = tgt_mask & nopeak_mask\n",
    "        else:\n",
    "            tgt_mask = None\n",
    "\n",
    "        return src_mask, tgt_mask\n",
    "\n",
    "\n",
    "\n",
    "    def forward(self, src, tgt=None):\n",
    "        src_mask, tgt_mask = self.generate_mask(src, tgt)\n",
    "\n",
    "        # If tgt is None, use a dummy tensor for tgt_embedded\n",
    "        if tgt is not None:\n",
    "            src_embedded = self.dropout(self.positional_encoding(self.encoder_embedding(src)))\n",
    "            tgt_embedded = self.dropout(self.positional_encoding(self.decoder_embedding(tgt)))\n",
    "        else:\n",
    "            #src_embedded = self.dropout(self.encoder_embedding(src))\n",
    "            src_embedded = self.encoder_embedding(src)\n",
    "            tgt_embedded = torch.zeros_like(src_embedded)  # Dummy tensor for generation\n",
    "\n",
    "        enc_output = src_embedded\n",
    "        for enc_layer in self.encoder_layers:\n",
    "            enc_output = enc_layer(enc_output, src_mask)\n",
    "\n",
    "        dec_output = tgt_embedded\n",
    "        for dec_layer in self.decoder_layers:\n",
    "            dec_output = dec_layer(dec_output, enc_output, src_mask, tgt_mask)\n",
    "\n",
    "        output = self.fc(dec_output)\n",
    "        return output\n",
    "\n",
    "\n",
    "    def generate(self, idx, max_new_tokens):\n",
    "        # idx is (B, T) array of indices in the current context\n",
    "        for _ in range(max_new_tokens):\n",
    "            # Crop idx to the last block_size tokens\n",
    "            idx_cond = idx[:, -block_size:]\n",
    "            # Get the predictions\n",
    "            logits = self(idx_cond)\n",
    "            # Focus only on the last time step\n",
    "            logits = logits[:, -1, :]  # Becomes (B, C)\n",
    "            # Apply softmax to get probabilities\n",
    "            probs = F.softmax(logits, dim=-1)  # (B, C)\n",
    "            # Sample from the distribution\n",
    "            idx_next = torch.multinomial(probs, num_samples=1)  # (B, 1)\n",
    "            # Append sampled index to the running sequence\n",
    "            idx = torch.cat((idx, idx_next), dim=1)  # (B, T+1)\n",
    "        return idx"
   ]
  },
  {
   "cell_type": "code",
   "execution_count": 37,
   "metadata": {
    "executionInfo": {
     "elapsed": 679,
     "status": "ok",
     "timestamp": 1706017298562,
     "user": {
      "displayName": "Anon User",
      "userId": "09336337215454420289"
     },
     "user_tz": -60
    },
    "id": "qgLXmvFl9vUo"
   },
   "outputs": [],
   "source": [
    "src_vocab_size = vocab_size\n",
    "tgt_vocab_size = vocab_size\n",
    "d_model = 512\n",
    "num_heads = 8\n",
    "num_layers = 6\n",
    "d_ff = 2048\n",
    "max_seq_length = block_size\n",
    "dropout = 0.1\n",
    "\n",
    "transformer = Transformer(src_vocab_size, tgt_vocab_size, d_model, num_heads, num_layers, d_ff, max_seq_length, dropout)\n",
    "\n",
    "# Generate random sample data\n",
    "#src_data = torch.randint(1, src_vocab_size, (64, max_seq_length))  # (batch_size, seq_length)\n",
    "#tgt_data = torch.randint(1, tgt_vocab_size, (64, max_seq_length))  # (batch_size, seq_length)"
   ]
  },
  {
   "cell_type": "code",
   "execution_count": 41,
   "metadata": {
    "colab": {
     "base_uri": "https://localhost:8080/"
    },
    "executionInfo": {
     "elapsed": 427753,
     "status": "ok",
     "timestamp": 1706017727427,
     "user": {
      "displayName": "Anon User",
      "userId": "09336337215454420289"
     },
     "user_tz": -60
    },
    "id": "SSAUyOUYyl9M",
    "outputId": "6faaf0c3-9899-4471-a195-de2a9a5fca15"
   },
   "outputs": [
    {
     "name": "stdout",
     "output_type": "stream",
     "text": [
      "Epoch: 1, Loss: 0.010626704432070255\n",
      "Epoch: 2, Loss: 0.5739828944206238\n",
      "Epoch: 3, Loss: 0.04575924202799797\n",
      "Epoch: 4, Loss: 0.20131121575832367\n",
      "Epoch: 5, Loss: 0.18386998772621155\n",
      "Epoch: 6, Loss: 0.25480690598487854\n",
      "Epoch: 7, Loss: 0.0878220647573471\n",
      "Epoch: 8, Loss: 0.14346016943454742\n",
      "Epoch: 9, Loss: 0.055213186889886856\n",
      "Epoch: 10, Loss: 0.032194968312978745\n",
      "Epoch: 11, Loss: 0.027870366349816322\n",
      "Epoch: 12, Loss: 0.03188164159655571\n",
      "Epoch: 13, Loss: 0.03949116915464401\n",
      "Epoch: 14, Loss: 0.02431214600801468\n",
      "Epoch: 15, Loss: 0.02200806699693203\n",
      "Epoch: 16, Loss: 0.022082792595028877\n",
      "Epoch: 17, Loss: 0.01932276040315628\n",
      "Epoch: 18, Loss: 0.026441900059580803\n",
      "Epoch: 19, Loss: 0.018587421625852585\n",
      "Epoch: 20, Loss: 0.01653704047203064\n",
      "Epoch: 21, Loss: 0.016857128590345383\n",
      "Epoch: 22, Loss: 0.013257342390716076\n",
      "Epoch: 23, Loss: 0.011870606802403927\n",
      "Epoch: 24, Loss: 0.011893543414771557\n",
      "Epoch: 25, Loss: 0.0127719696611166\n",
      "Epoch: 26, Loss: 0.010230449959635735\n",
      "Epoch: 27, Loss: 0.010226259008049965\n",
      "Epoch: 28, Loss: 0.010952886193990707\n",
      "Epoch: 29, Loss: 0.009535079821944237\n",
      "Epoch: 30, Loss: 0.009430060163140297\n",
      "Epoch: 31, Loss: 0.009256144054234028\n",
      "Epoch: 32, Loss: 0.009326822124421597\n",
      "Epoch: 33, Loss: 0.01205992791801691\n",
      "Epoch: 34, Loss: 0.007033533416688442\n",
      "Epoch: 35, Loss: 0.007318197283893824\n",
      "Epoch: 36, Loss: 0.009861743077635765\n",
      "Epoch: 37, Loss: 0.0075941067188978195\n",
      "Epoch: 38, Loss: 0.007342935539782047\n",
      "Epoch: 39, Loss: 0.012010263279080391\n",
      "Epoch: 40, Loss: 0.005619705654680729\n",
      "Epoch: 41, Loss: 0.006317779887467623\n",
      "Epoch: 42, Loss: 0.010043089278042316\n",
      "Epoch: 43, Loss: 0.005882041994482279\n",
      "Epoch: 44, Loss: 0.006311104632914066\n",
      "Epoch: 45, Loss: 0.004991953726857901\n",
      "Epoch: 46, Loss: 0.005482633598148823\n",
      "Epoch: 47, Loss: 0.007540062069892883\n",
      "Epoch: 48, Loss: 0.004797283560037613\n",
      "Epoch: 49, Loss: 0.009694969281554222\n",
      "Epoch: 50, Loss: 0.004565179813653231\n",
      "Epoch: 51, Loss: 0.0037151321303099394\n",
      "Epoch: 52, Loss: 0.005011244211345911\n",
      "Epoch: 53, Loss: 0.00493301497772336\n",
      "Epoch: 54, Loss: 0.0071310726925730705\n",
      "Epoch: 55, Loss: 0.004972593393176794\n",
      "Epoch: 56, Loss: 0.003194932360202074\n",
      "Epoch: 57, Loss: 0.004296884406358004\n",
      "Epoch: 58, Loss: 0.007118536159396172\n",
      "Epoch: 59, Loss: 0.012985353358089924\n",
      "Epoch: 60, Loss: 0.005550360307097435\n",
      "Epoch: 61, Loss: 0.004070335533469915\n",
      "Epoch: 62, Loss: 0.005192407872527838\n",
      "Epoch: 63, Loss: 0.005125332158058882\n",
      "Epoch: 64, Loss: 0.007626963313668966\n",
      "Epoch: 65, Loss: 0.005177792627364397\n",
      "Epoch: 66, Loss: 0.00340602220967412\n",
      "Epoch: 67, Loss: 0.005826443899422884\n",
      "Epoch: 68, Loss: 0.004160792101174593\n",
      "Epoch: 69, Loss: 0.005531462375074625\n",
      "Epoch: 70, Loss: 0.0038248866330832243\n",
      "Epoch: 71, Loss: 0.0025385876651853323\n",
      "Epoch: 72, Loss: 0.006373061332851648\n",
      "Epoch: 73, Loss: 0.002664902014657855\n",
      "Epoch: 74, Loss: 0.0037236614152789116\n",
      "Epoch: 75, Loss: 0.0024072688538581133\n",
      "Epoch: 76, Loss: 0.002311093034222722\n",
      "Epoch: 77, Loss: 0.0022722696885466576\n",
      "Epoch: 78, Loss: 0.004924042150378227\n",
      "Epoch: 79, Loss: 0.0042720274068415165\n",
      "Epoch: 80, Loss: 0.007097342982888222\n",
      "Epoch: 81, Loss: 0.002920157741755247\n",
      "Epoch: 82, Loss: 0.010629625990986824\n",
      "Epoch: 83, Loss: 0.008174225687980652\n",
      "Epoch: 84, Loss: 0.002469337312504649\n",
      "Epoch: 85, Loss: 0.0027676436584442854\n",
      "Epoch: 86, Loss: 0.006698614452034235\n",
      "Epoch: 87, Loss: 0.005135309882462025\n",
      "Epoch: 88, Loss: 0.002348031150177121\n",
      "Epoch: 89, Loss: 0.0025587708223611116\n",
      "Epoch: 90, Loss: 0.0037382361479103565\n",
      "Epoch: 91, Loss: 0.002611958421766758\n",
      "Epoch: 92, Loss: 0.002462318865582347\n",
      "Epoch: 93, Loss: 0.008000935427844524\n",
      "Epoch: 94, Loss: 0.00855269655585289\n",
      "Epoch: 95, Loss: 0.0031719296239316463\n",
      "Epoch: 96, Loss: 0.00207250053063035\n",
      "Epoch: 97, Loss: 0.015102509409189224\n",
      "Epoch: 98, Loss: 0.010750149376690388\n",
      "Epoch: 99, Loss: 0.0037013529799878597\n",
      "Epoch: 100, Loss: 0.003363614436239004\n"
     ]
    }
   ],
   "source": [
    "criterion = nn.CrossEntropyLoss(ignore_index=0)\n",
    "optimizer = optim.Adam(transformer.parameters(), lr=0.0001, betas=(0.9, 0.98), eps=1e-9)\n",
    "transformer = transformer.to(device)\n",
    "transformer.train()\n",
    "\n",
    "for epoch in range(100):\n",
    "    optimizer.zero_grad()\n",
    "    output = transformer(src_data, tgt_data[:, :-1])\n",
    "    loss = criterion(output.contiguous().view(-1, tgt_vocab_size), tgt_data[:, 1:].contiguous().view(-1))\n",
    "    loss.backward()\n",
    "    optimizer.step()\n",
    "    print(f\"Epoch: {epoch+1}, Loss: {loss.item()}\")"
   ]
  },
  {
   "cell_type": "code",
   "execution_count": 42,
   "metadata": {
    "colab": {
     "base_uri": "https://localhost:8080/"
    },
    "executionInfo": {
     "elapsed": 177313,
     "status": "ok",
     "timestamp": 1706017906558,
     "user": {
      "displayName": "Anon User",
      "userId": "09336337215454420289"
     },
     "user_tz": -60
    },
    "id": "PW8wqt4gB8jr",
    "outputId": "035d9327-50e3-47df-ec35-ec297b2b515b"
   },
   "outputs": [
    {
     "name": "stdout",
     "output_type": "stream",
     "text": [
      "\n",
      "YAAAAAAAAAAAAAAAAAAAAAAAAAAoAoooooooooooooooooooooooooooooooooooooonoooooooooooooooooooooooooooooooooooooooooooooooooooooooooooooooooooooooooooooooooooooooooooooooooooooooooooooooooooooooooooooooooooooooooooooooooooooooooooooooooooooooooooooooooooooooooooooooooooooooooooooooooooooooooooooooooooooooooooooooooooooooooooooooooooooooooooooooooooooooooooooooooooooooooooooooooooooooooooooooooooooooooooooooooooooooooooooooooooooooooooooooooooooooooooooooooooooooooooooooooooooooooooooooooooooooooooooooooooooooooooooooooooooooooooooooooooooooooooooooooooooooooooooooooooooooooMoooooooooooooooooooooooooooooooooooooooooooooVooooooooooooooooooooooooooooooooooooooooooooooooooooooooooooooooooooooooooooooooooooooooooooohoooooooooooooooooooooooooooooooooooooooooooooooooooooooooooooooooooooooooooooooooooooooooooooooooooooooooooooooooooooooooooooooooooooooooooooooooooooooooooooooooooooooooooooooo.ooooooooooooooooooooooooooooooooooooooooooooooooooooooooooooooooooooooooooooooooooooooooooooooooooooooooooooooooooooooooooooooooooooooooooooooooooooooooooooooooooooooooooooooooooooooooooooooooooooooooooooooooooooooooooooooooooooooooooooooooooooooooooooooooooooooooooooooooooooooooooooooooooooooooooooooooooooooooooooooooooohooooooooooooooooooooooooooooooooooooooooooooooooooooooooooooooooooooooooooooooooooooooooooooooooooooooooooooooooooooooooooooooooooooooooooooooooooooooooooooooooooooooooooooooooooooooooooooooooooooooooooooooooooooooooooooooooooooooooooooooooooooooooooooooooooooooooooooooooooooooooooooooooooooooooooooooooooooooooooooooooooooooooooooooooooooooooooooooooooooooooooooooooooooooooooooooooooooooooooooooooooooooooooooooooooooooooooooooooooooooooooooooooooooooooooooooooooooooooooooooooooooooooMooooooooooooooooooooooooooooooooooooooooooooooooooooooooooooooooooooooooooooooooooooooooooooooooooooooooooooooooooooooooooooooooooooooooooooooooooooooooooooooooooooooooooooooooooooooooooooooooooooooooooooooooooooooooooooooooooooooojoooooooooooooooooooooooooooooooooooooooooooooooooooooooooooooooo\n"
     ]
    }
   ],
   "source": [
    "# generate from the model\n",
    "context = torch.zeros((1, 1), dtype=torch.long, device=device)\n",
    "print(decode(transformer.generate(context, max_new_tokens=2000)[0].tolist()))"
   ]
  },
  {
   "cell_type": "code",
   "execution_count": null,
   "metadata": {},
   "outputs": [],
   "source": [
    "transformer.eval()\n",
    "\n",
    "# Generate random sample validation data\n",
    "val_src_data = torch.randint(1, src_vocab_size, (64, max_seq_length))  # (batch_size, seq_length)\n",
    "val_tgt_data = torch.randint(1, tgt_vocab_size, (64, max_seq_length))  # (batch_size, seq_length)\n",
    "\n",
    "with torch.no_grad():\n",
    "\n",
    "    val_output = transformer(val_src_data, val_tgt_data[:, :-1])\n",
    "    val_loss = criterion(val_output.contiguous().view(-1, tgt_vocab_size), val_tgt_data[:, 1:].contiguous().view(-1))\n",
    "    print(f\"Validation Loss: {val_loss.item()}\")"
   ]
  }
 ],
 "metadata": {
  "accelerator": "TPU",
  "colab": {
   "authorship_tag": "ABX9TyOz1+l/0GM55qsurft6fbf1",
   "mount_file_id": "1K824Ec_1UNhkfYWJKSBBFejq4VSNPLQf",
   "provenance": []
  },
  "kernelspec": {
   "display_name": "Python 3 (ipykernel)",
   "language": "python",
   "name": "python3"
  },
  "language_info": {
   "codemirror_mode": {
    "name": "ipython",
    "version": 3
   },
   "file_extension": ".py",
   "mimetype": "text/x-python",
   "name": "python",
   "nbconvert_exporter": "python",
   "pygments_lexer": "ipython3",
   "version": "3.11.6"
  }
 },
 "nbformat": 4,
 "nbformat_minor": 4
}
