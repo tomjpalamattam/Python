{
 "cells": [
  {
   "cell_type": "code",
   "execution_count": 165,
   "metadata": {
    "executionInfo": {
     "elapsed": 3,
     "status": "ok",
     "timestamp": 1706013201500,
     "user": {
      "displayName": "Anon User",
      "userId": "09336337215454420289"
     },
     "user_tz": -60
    },
    "id": "epdFYuk9xS64"
   },
   "outputs": [],
   "source": [
    "import torch\n",
    "import torch.nn as nn\n",
    "import torch.optim as optim\n",
    "import torch.utils.data as data\n",
    "import math\n",
    "import copy\n",
    "from torch.utils.data import Dataset, DataLoader\n",
    "import string"
   ]
  },
  {
   "cell_type": "code",
   "execution_count": 166,
   "metadata": {},
   "outputs": [],
   "source": [
    "device = 'cuda' if torch.cuda.is_available() else 'cpu'"
   ]
  },
  {
   "cell_type": "code",
   "execution_count": 167,
   "metadata": {
    "executionInfo": {
     "elapsed": 238,
     "status": "ok",
     "timestamp": 1706013203799,
     "user": {
      "displayName": "Anon User",
      "userId": "09336337215454420289"
     },
     "user_tz": -60
    },
    "id": "WNOlOsEkyD_1"
   },
   "outputs": [],
   "source": [
    "class MultiHeadAttention(nn.Module):\n",
    "    def __init__(self, d_model, num_heads):\n",
    "        super(MultiHeadAttention, self).__init__()\n",
    "        # Ensure that the model dimension (d_model) is divisible by the number of heads\n",
    "        assert d_model % num_heads == 0, \"d_model must be divisible by num_heads\"\n",
    "\n",
    "        # Initialize dimensions\n",
    "        self.d_model = d_model # Model's dimension\n",
    "        self.num_heads = num_heads # Number of attention heads\n",
    "        self.d_k = d_model // num_heads # Dimension of each head's key, query, and value\n",
    "\n",
    "        # Linear layers for transforming inputs\n",
    "        self.W_q = nn.Linear(d_model, d_model) # Query transformation\n",
    "        self.W_k = nn.Linear(d_model, d_model) # Key transformation\n",
    "        self.W_v = nn.Linear(d_model, d_model) # Value transformation\n",
    "        self.W_o = nn.Linear(d_model, d_model) # Output transformation\n",
    "\n",
    "    def scaled_dot_product_attention(self, Q, K, V, mask=None):\n",
    "        # Calculate attention scores\n",
    "        attn_scores = torch.matmul(Q, K.transpose(-2, -1)) / math.sqrt(self.d_k)\n",
    "\n",
    "        # Apply mask if provided (useful for preventing attention to certain parts like padding)\n",
    "        if mask is not None:\n",
    "            attn_scores = attn_scores.masked_fill(mask == 0, -1e9)\n",
    "\n",
    "        # Softmax is applied to obtain attention probabilities\n",
    "        attn_probs = torch.softmax(attn_scores, dim=-1)\n",
    "\n",
    "        # Multiply by values to obtain the final output\n",
    "        output = torch.matmul(attn_probs, V)\n",
    "        return output\n",
    "\n",
    "    def split_heads(self, x):\n",
    "        # Reshape the input to have num_heads for multi-head attention\n",
    "        batch_size, seq_length, d_model = x.size()\n",
    "        return x.view(batch_size, seq_length, self.num_heads, self.d_k).transpose(1, 2)\n",
    "\n",
    "    def combine_heads(self, x):\n",
    "        # Combine the multiple heads back to original shape\n",
    "        batch_size, _, seq_length, d_k = x.size()\n",
    "        return x.transpose(1, 2).contiguous().view(batch_size, seq_length, self.d_model)\n",
    "\n",
    "    def forward(self, Q, K, V, mask=None):\n",
    "        # Apply linear transformations and split heads\n",
    "        Q = self.split_heads(self.W_q(Q))\n",
    "        K = self.split_heads(self.W_k(K))\n",
    "        V = self.split_heads(self.W_v(V))\n",
    "\n",
    "        # Perform scaled dot-product attention\n",
    "        attn_output = self.scaled_dot_product_attention(Q, K, V, mask)\n",
    "\n",
    "        # Combine heads and apply output transformation\n",
    "        output = self.W_o(self.combine_heads(attn_output))\n",
    "        return output"
   ]
  },
  {
   "cell_type": "code",
   "execution_count": 168,
   "metadata": {
    "executionInfo": {
     "elapsed": 219,
     "status": "ok",
     "timestamp": 1706013206400,
     "user": {
      "displayName": "Anon User",
      "userId": "09336337215454420289"
     },
     "user_tz": -60
    },
    "id": "RrcDkptiyJiC"
   },
   "outputs": [],
   "source": [
    "class PositionWiseFeedForward(nn.Module):\n",
    "    def __init__(self, d_model, d_ff):\n",
    "        super(PositionWiseFeedForward, self).__init__()\n",
    "        self.fc1 = nn.Linear(d_model, d_ff)\n",
    "        self.fc2 = nn.Linear(d_ff, d_model)\n",
    "        self.relu = nn.ReLU()\n",
    "\n",
    "    def forward(self, x):\n",
    "        return self.fc2(self.relu(self.fc1(x)))"
   ]
  },
  {
   "cell_type": "code",
   "execution_count": 169,
   "metadata": {
    "executionInfo": {
     "elapsed": 216,
     "status": "ok",
     "timestamp": 1706013510396,
     "user": {
      "displayName": "Anon User",
      "userId": "09336337215454420289"
     },
     "user_tz": -60
    },
    "id": "ZAN9J84cyQAy"
   },
   "outputs": [],
   "source": [
    "class PositionalEncoding(nn.Module):\n",
    "    def __init__(self, d_model, max_seq_length):\n",
    "        super(PositionalEncoding, self).__init__()\n",
    "\n",
    "        pe = torch.zeros(max_seq_length, d_model)\n",
    "        position = torch.arange(0, max_seq_length, dtype=torch.float).unsqueeze(1)\n",
    "        div_term = torch.exp(torch.arange(0, d_model, 2).float() * -(math.log(10000.0) / d_model))\n",
    "\n",
    "        pe[:, 0::2] = torch.sin(position * div_term)\n",
    "        pe[:, 1::2] = torch.cos(position * div_term)\n",
    "\n",
    "        self.register_buffer('pe', pe.unsqueeze(0))\n",
    "\n",
    "    def forward(self, x):\n",
    "        return x + self.pe[:, :x.size(1)]"
   ]
  },
  {
   "cell_type": "code",
   "execution_count": 170,
   "metadata": {
    "executionInfo": {
     "elapsed": 275,
     "status": "ok",
     "timestamp": 1706013512416,
     "user": {
      "displayName": "Anon User",
      "userId": "09336337215454420289"
     },
     "user_tz": -60
    },
    "id": "CNY0lhCqyThZ"
   },
   "outputs": [],
   "source": [
    "class EncoderLayer(nn.Module):\n",
    "    def __init__(self, d_model, num_heads, d_ff, dropout):\n",
    "        super(EncoderLayer, self).__init__()\n",
    "        self.self_attn = MultiHeadAttention(d_model, num_heads)\n",
    "        self.feed_forward = PositionWiseFeedForward(d_model, d_ff)\n",
    "        self.norm1 = nn.LayerNorm(d_model)\n",
    "        self.norm2 = nn.LayerNorm(d_model)\n",
    "        self.dropout = nn.Dropout(dropout)\n",
    "\n",
    "    def forward(self, x, mask):\n",
    "        attn_output = self.self_attn(x, x, x, mask)\n",
    "        x = self.norm1(x + self.dropout(attn_output))\n",
    "        ff_output = self.feed_forward(x)\n",
    "        x = self.norm2(x + self.dropout(ff_output))\n",
    "        return x"
   ]
  },
  {
   "cell_type": "code",
   "execution_count": 171,
   "metadata": {
    "executionInfo": {
     "elapsed": 220,
     "status": "ok",
     "timestamp": 1706013514429,
     "user": {
      "displayName": "Anon User",
      "userId": "09336337215454420289"
     },
     "user_tz": -60
    },
    "id": "NGs5m3HkyYxK"
   },
   "outputs": [],
   "source": [
    "class DecoderLayer(nn.Module):\n",
    "    def __init__(self, d_model, num_heads, d_ff, dropout):\n",
    "        super(DecoderLayer, self).__init__()\n",
    "        self.self_attn = MultiHeadAttention(d_model, num_heads)\n",
    "        self.cross_attn = MultiHeadAttention(d_model, num_heads)\n",
    "        self.feed_forward = PositionWiseFeedForward(d_model, d_ff)\n",
    "        self.norm1 = nn.LayerNorm(d_model)\n",
    "        self.norm2 = nn.LayerNorm(d_model)\n",
    "        self.norm3 = nn.LayerNorm(d_model)\n",
    "        self.dropout = nn.Dropout(dropout)\n",
    "\n",
    "    def forward(self, x, enc_output, src_mask, tgt_mask):\n",
    "        attn_output = self.self_attn(x, x, x, tgt_mask)\n",
    "        x = self.norm1(x + self.dropout(attn_output))\n",
    "        attn_output = self.cross_attn(x, enc_output, enc_output, src_mask)\n",
    "        x = self.norm2(x + self.dropout(attn_output))\n",
    "        ff_output = self.feed_forward(x)\n",
    "        x = self.norm3(x + self.dropout(ff_output))\n",
    "        return x"
   ]
  },
  {
   "cell_type": "code",
   "execution_count": 172,
   "metadata": {
    "executionInfo": {
     "elapsed": 222,
     "status": "ok",
     "timestamp": 1706013519522,
     "user": {
      "displayName": "Anon User",
      "userId": "09336337215454420289"
     },
     "user_tz": -60
    },
    "id": "Kc1JwIrp12dR"
   },
   "outputs": [],
   "source": [
    "with open('input.txt', 'r', encoding='utf-8') as f:\n",
    "    text = f.read()\n"
   ]
  },
  {
   "cell_type": "code",
   "execution_count": 173,
   "metadata": {
    "executionInfo": {
     "elapsed": 4,
     "status": "ok",
     "timestamp": 1706013520345,
     "user": {
      "displayName": "Anon User",
      "userId": "09336337215454420289"
     },
     "user_tz": -60
    },
    "id": "_0hi-7vf3XtM"
   },
   "outputs": [],
   "source": [
    "# here are all the unique characters that occur in this text\n",
    "chars = sorted(list(set(text)))\n",
    "vocab_size = len(chars)\n",
    "# create a mapping from characters to integers\n",
    "stoi = { ch:i for i,ch in enumerate(chars) }\n",
    "itos = { i:ch for i,ch in enumerate(chars) }\n",
    "encode = lambda s: [stoi[c] for c in s] # encoder: take a string, output a list of integers\n",
    "decode = lambda l: ''.join([itos[i] for i in l]) # decoder: take a list of integers, output a string\n",
    "\n",
    "# Train and test splits\n",
    "data = torch.tensor(encode(text), dtype=torch.long)\n",
    "n = int(0.9*len(data)) # first 90% will be train, rest val data\n",
    "train_data = data[:n]\n",
    "val_data = data[n:]"
   ]
  },
  {
   "cell_type": "code",
   "execution_count": 174,
   "metadata": {
    "executionInfo": {
     "elapsed": 229,
     "status": "ok",
     "timestamp": 1706013522691,
     "user": {
      "displayName": "Anon User",
      "userId": "09336337215454420289"
     },
     "user_tz": -60
    },
    "id": "TKsm4iDt3ruk"
   },
   "outputs": [],
   "source": [
    "def get_batch(split):\n",
    "    # Generate a small batch of data with inputs x and targets y\n",
    "    data = train_data if split == 'train' else val_data\n",
    "    ix = torch.randint(len(data) - block_size, (batch_size,))\n",
    "    x = torch.stack([data[i:i+block_size] for i in ix]).to(device)\n",
    "    y = torch.stack([data[i+1:i+block_size+1] for i in ix]).to(device)\n",
    "    return x, y\n",
    "\n",
    "@torch.no_grad()\n",
    "def estimate_loss():\n",
    "    out = {}\n",
    "    model.eval()\n",
    "    for split in ['train', 'val']:\n",
    "        losses = torch.zeros(eval_iters)\n",
    "        for k in range(eval_iters):\n",
    "            X, Y = get_batch(split)\n",
    "            logits, loss = model(X, Y)\n",
    "            losses[k] = loss.item()\n",
    "        out[split] = losses.mean()\n",
    "    model.train()\n",
    "    return out"
   ]
  },
  {
   "cell_type": "code",
   "execution_count": 175,
   "metadata": {
    "executionInfo": {
     "elapsed": 225,
     "status": "ok",
     "timestamp": 1706017296061,
     "user": {
      "displayName": "Anon User",
      "userId": "09336337215454420289"
     },
     "user_tz": -60
    },
    "id": "CjpuCLDiSmSU"
   },
   "outputs": [],
   "source": [
    "import torch.nn.functional as F\n",
    "\n",
    "class Transformer(nn.Module):\n",
    "    def __init__(self, src_vocab_size, tgt_vocab_size, d_model, num_heads, num_layers, d_ff, max_seq_length, dropout):\n",
    "        super(Transformer, self).__init__()\n",
    "        self.encoder_embedding = nn.Embedding(src_vocab_size, d_model)\n",
    "        self.decoder_embedding = nn.Embedding(tgt_vocab_size, d_model)\n",
    "        self.positional_encoding = PositionalEncoding(d_model, max_seq_length)\n",
    "\n",
    "        self.encoder_layers = nn.ModuleList([EncoderLayer(d_model, num_heads, d_ff, dropout) for _ in range(num_layers)])\n",
    "        self.decoder_layers = nn.ModuleList([DecoderLayer(d_model, num_heads, d_ff, dropout) for _ in range(num_layers)])\n",
    "\n",
    "        self.fc = nn.Linear(d_model, tgt_vocab_size)\n",
    "        self.dropout = nn.Dropout(dropout)\n",
    "\n",
    "    def generate_mask(self, src, tgt=None):\n",
    "        src_mask = (src != 0).unsqueeze(1).unsqueeze(2)\n",
    "\n",
    "        if tgt is not None:\n",
    "            seq_length = tgt.size(1)\n",
    "            tgt_mask = (tgt != 0).unsqueeze(1).unsqueeze(2).to(tgt.device)  # Adjusted to work with both training and generation\n",
    "            nopeak_mask = (1 - torch.triu(torch.ones(1, seq_length, seq_length), diagonal=1)).bool().to(tgt.device)\n",
    "            tgt_mask = tgt_mask & nopeak_mask\n",
    "        else:\n",
    "            tgt_mask = None\n",
    "\n",
    "        return src_mask, tgt_mask\n",
    "\n",
    "\n",
    "\n",
    "    def forward(self, src, tgt=None):\n",
    "        src_mask, tgt_mask = self.generate_mask(src, tgt)\n",
    "\n",
    "        # If tgt is None, use a dummy tensor for tgt_embedded\n",
    "        if tgt is not None:\n",
    "            src_embedded = self.dropout(self.positional_encoding(self.encoder_embedding(src)))\n",
    "            tgt_embedded = self.dropout(self.positional_encoding(self.decoder_embedding(tgt)))\n",
    "            enc_output = src_embedded\n",
    "            for enc_layer in self.encoder_layers:\n",
    "                enc_output = enc_layer(enc_output, src_mask)\n",
    "    \n",
    "            dec_output = tgt_embedded\n",
    "            for dec_layer in self.decoder_layers:\n",
    "                dec_output = dec_layer(dec_output, enc_output, src_mask, tgt_mask)\n",
    "    \n",
    "            output = self.fc(dec_output)\n",
    "            output_mod = output.view(output.size(0), output.size(1) * output.size(2))\n",
    "            tgt_mod = torch.argmax(tgt, dim=1)\n",
    "            loss = F.cross_entropy(output_mod , tgt_mod)\n",
    "        else:\n",
    "            #src_embedded = self.dropout(self.encoder_embedding(src))\n",
    "            src_embedded = self.encoder_embedding(src)\n",
    "            loss = None\n",
    "            tgt_embedded = torch.zeros_like(src_embedded)  # Dummy tensor for generation\n",
    "\n",
    "            enc_output = src_embedded\n",
    "            for enc_layer in self.encoder_layers:\n",
    "                enc_output = enc_layer(enc_output, src_mask)\n",
    "    \n",
    "            dec_output = tgt_embedded\n",
    "            for dec_layer in self.decoder_layers:\n",
    "                dec_output = dec_layer(dec_output, enc_output, src_mask, tgt_mask)\n",
    "    \n",
    "            output = self.fc(dec_output)\n",
    "        return output , loss\n",
    "\n",
    "\n",
    "    def generate(self, idx, max_new_tokens):\n",
    "        # idx is (B, T) array of indices in the current context\n",
    "        for _ in range(max_new_tokens):\n",
    "            # Crop idx to the last block_size tokens\n",
    "            idx_cond = idx[:, -block_size:]\n",
    "            # Get the predictions\n",
    "            logits , loss = self(idx_cond)\n",
    "            # Focus only on the last time step\n",
    "            logits = logits[:, -1, :]  # Becomes (B, C)\n",
    "            # Apply softmax to get probabilities\n",
    "            probs = F.softmax(logits, dim=-1)  # (B, C)\n",
    "            # Sample from the distribution\n",
    "            idx_next = torch.multinomial(probs, num_samples=1)  # (B, 1)\n",
    "            # Append sampled index to the running sequence\n",
    "            idx = torch.cat((idx, idx_next), dim=1)  # (B, T+1)\n",
    "        return idx"
   ]
  },
  {
   "cell_type": "code",
   "execution_count": 176,
   "metadata": {},
   "outputs": [
    {
     "data": {
      "text/plain": [
       "<torch._C.Generator at 0x712d38d34530>"
      ]
     },
     "execution_count": 176,
     "metadata": {},
     "output_type": "execute_result"
    }
   ],
   "source": [
    "# hyperparameters\n",
    "batch_size = 16 # how many independent sequences will we process in parallel?\n",
    "block_size = 32 # what is the maximum context length for predictions?\n",
    "max_iters = 100\n",
    "eval_interval = 100\n",
    "learning_rate = 1e-3\n",
    "eval_iters = 200\n",
    "n_embd = 64\n",
    "n_head = 4\n",
    "n_layer = 4\n",
    "dropout = 0.0\n",
    "# ------------\n",
    "\n",
    "\n",
    "src_vocab_size = vocab_size\n",
    "tgt_vocab_size = vocab_size\n",
    "d_model = 512\n",
    "num_heads = 8\n",
    "num_layers = 6\n",
    "d_ff = 2048\n",
    "max_seq_length = block_size\n",
    "dropout = 0.1\n",
    "\n",
    "torch.manual_seed(1337)\n"
   ]
  },
  {
   "cell_type": "code",
   "execution_count": 177,
   "metadata": {
    "executionInfo": {
     "elapsed": 679,
     "status": "ok",
     "timestamp": 1706017298562,
     "user": {
      "displayName": "Anon User",
      "userId": "09336337215454420289"
     },
     "user_tz": -60
    },
    "id": "qgLXmvFl9vUo"
   },
   "outputs": [],
   "source": [
    "model = Transformer(src_vocab_size, tgt_vocab_size, d_model, num_heads, num_layers, d_ff, max_seq_length, dropout)\n",
    "\n",
    "# Generate random sample data\n",
    "#src_data = torch.randint(1, src_vocab_size, (64, max_seq_length))  # (batch_size, seq_length)\n",
    "#tgt_data = torch.randint(1, tgt_vocab_size, (64, max_seq_length))  # (batch_size, seq_length)"
   ]
  },
  {
   "cell_type": "code",
   "execution_count": 178,
   "metadata": {},
   "outputs": [
    {
     "data": {
      "text/plain": [
       "torch.Size([16, 32])"
      ]
     },
     "execution_count": 178,
     "metadata": {},
     "output_type": "execute_result"
    }
   ],
   "source": [
    "xb, yb = get_batch('train')\n",
    "xb.shape\n",
    "\n",
    "\n",
    "# The x and y shape are of shape [16 ,32] (where 16 is batch_size and 32 is block size). Its because unlike lstm where the target is the 'price' of the nth day and the input is 'price' values\n",
    "# from (n-1)th to (n-sequence_length-1). Here the target is a sequence of length block_size and the input is from (n-1)th value to block_size length. For example, for block_size 2\n",
    "# For the sentence 'I think tomorrow its raining'. if target is 'tomorrow its raining' the input is 'think tomorrow its'"
   ]
  },
  {
   "cell_type": "code",
   "execution_count": 179,
   "metadata": {
    "colab": {
     "base_uri": "https://localhost:8080/"
    },
    "executionInfo": {
     "elapsed": 427753,
     "status": "ok",
     "timestamp": 1706017727427,
     "user": {
      "displayName": "Anon User",
      "userId": "09336337215454420289"
     },
     "user_tz": -60
    },
    "id": "SSAUyOUYyl9M",
    "outputId": "6faaf0c3-9899-4471-a195-de2a9a5fca15"
   },
   "outputs": [
    {
     "name": "stdout",
     "output_type": "stream",
     "text": [
      "step 0: train loss 7.7711, val loss 7.7881\n",
      "step 100: train loss 7.0845, val loss 7.0761\n",
      "step 200: train loss 7.0162, val loss 7.0198\n",
      "step 300: train loss 7.0439, val loss 7.0376\n",
      "step 400: train loss 6.9767, val loss 6.9883\n",
      "step 500: train loss 6.9793, val loss 6.9937\n",
      "step 600: train loss 6.9853, val loss 7.0027\n",
      "step 700: train loss 6.9828, val loss 6.9958\n",
      "step 800: train loss 6.9693, val loss 6.9817\n",
      "step 900: train loss 6.9696, val loss 6.9842\n",
      "step 1000: train loss 7.0581, val loss 7.0814\n",
      "step 1100: train loss 6.9851, val loss 7.0012\n",
      "step 1200: train loss 7.0368, val loss 7.0399\n",
      "step 1300: train loss 7.0093, val loss 7.0465\n",
      "step 1400: train loss 6.9822, val loss 6.9823\n",
      "step 1500: train loss 6.9425, val loss 6.9631\n",
      "step 1600: train loss 6.9636, val loss 6.9658\n",
      "step 1700: train loss 6.9395, val loss 6.9637\n",
      "step 1800: train loss 6.9529, val loss 6.9630\n",
      "step 1900: train loss 6.9443, val loss 6.9569\n",
      "step 2000: train loss 6.9342, val loss 6.9363\n",
      "step 2100: train loss 6.9389, val loss 6.9490\n",
      "step 2200: train loss 6.9418, val loss 6.9286\n",
      "step 2300: train loss 6.9409, val loss 6.9349\n",
      "step 2400: train loss 6.9489, val loss 6.9339\n",
      "step 2500: train loss 6.9383, val loss 6.9498\n",
      "step 2600: train loss 6.9265, val loss 6.9278\n",
      "step 2700: train loss 6.9257, val loss 6.9280\n",
      "step 2800: train loss 6.9583, val loss 6.9566\n",
      "step 2900: train loss 6.9325, val loss 6.9588\n",
      "step 3000: train loss 6.9432, val loss 6.9468\n",
      "step 3100: train loss 6.9338, val loss 6.9167\n",
      "step 3200: train loss 6.9282, val loss 6.9379\n",
      "step 3300: train loss 6.9277, val loss 6.9305\n",
      "step 3400: train loss 6.9337, val loss 6.9255\n",
      "step 3500: train loss 6.9450, val loss 6.9403\n",
      "step 3600: train loss 6.9127, val loss 6.9237\n",
      "step 3700: train loss 6.9482, val loss 6.9406\n",
      "step 3800: train loss 6.9503, val loss 6.9470\n",
      "step 3900: train loss 6.9359, val loss 6.9332\n",
      "step 4000: train loss 6.9401, val loss 6.9394\n",
      "step 4100: train loss 6.9524, val loss 6.9426\n",
      "step 4200: train loss 6.9308, val loss 6.9386\n",
      "step 4300: train loss 6.9372, val loss 6.9280\n",
      "step 4400: train loss 6.9369, val loss 6.9447\n",
      "step 4500: train loss 6.9147, val loss 6.9199\n",
      "step 4600: train loss 6.9272, val loss 6.9133\n",
      "step 4700: train loss 6.9405, val loss 6.9442\n",
      "step 4800: train loss 6.9256, val loss 6.9238\n",
      "step 4900: train loss 6.9181, val loss 6.9285\n",
      "step 4999: train loss 6.9268, val loss 6.9376\n"
     ]
    }
   ],
   "source": [
    "criterion = nn.CrossEntropyLoss(ignore_index=0)\n",
    "eval_interval = 100\n",
    "max_iters=5000\n",
    "eval_iters = 200\n",
    "block_size = 32\n",
    "model.train()\n",
    "\n",
    "model = model.to(device)\n",
    "\n",
    "# create a PyTorch optimizer\n",
    "optimizer = torch.optim.AdamW(model.parameters(), lr=learning_rate)\n",
    "\n",
    "for iter in range(max_iters):\n",
    "\n",
    "    # every once in a while evaluate the loss on train and val sets\n",
    "    if iter % eval_interval == 0 or iter == max_iters - 1:\n",
    "        losses = estimate_loss()\n",
    "        print(f\"step {iter}: train loss {losses['train']:.4f}, val loss {losses['val']:.4f}\")\n",
    "\n",
    "    # sample a batch of data\n",
    "    xb, yb = get_batch('train')\n",
    "\n",
    "    # evaluate the loss\n",
    "    logits, loss = model(xb, yb)\n",
    "    optimizer.zero_grad(set_to_none=True)\n",
    "    loss.backward()\n",
    "    optimizer.step()"
   ]
  },
  {
   "cell_type": "code",
   "execution_count": 181,
   "metadata": {
    "colab": {
     "base_uri": "https://localhost:8080/"
    },
    "executionInfo": {
     "elapsed": 177313,
     "status": "ok",
     "timestamp": 1706017906558,
     "user": {
      "displayName": "Anon User",
      "userId": "09336337215454420289"
     },
     "user_tz": -60
    },
    "id": "PW8wqt4gB8jr",
    "outputId": "035d9327-50e3-47df-ec35-ec297b2b515b"
   },
   "outputs": [
    {
     "name": "stdout",
     "output_type": "stream",
     "text": [
      "\n",
      "RHH3A'-H'EK:K-KF,K?K!-'-3FHCD,BH-\n",
      "KK3KK-KK-MHBD-C\n",
      ",'KF'\n",
      "FFF FKFS:-LKF'SK\n",
      "K\n",
      "-'D?K&A'K&K:F-!'&\n",
      "KJHA'3-3''KS\n",
      "'-&-\n",
      "?ABF!C!',DFIK-3-'$F&&\n",
      "-KKDD-.A--'-AK-'FF3K$HAKa'3J-.DFS,F-KS-iQKN:!-\n",
      "KK-''i:F3LC-FJ'3ICN3AMKK3D33'-',C-\n",
      "!:C\n",
      "!SAD'SK-3-k,'K-KK\n",
      "KK-KIK3-K3-'!\n",
      ":E'K!!CK?KKD!-C-3-'DN\n",
      "N'$J-DKCSc-\n",
      ",KSCKF\n",
      "FKK.J'-\n",
      ",'F'SL3ESC:KG$3EHKKBDIK $FK3C'K,''&DQK,:-!-FD3-CKK'KK'-K\n",
      "KH$w&',&FD,!M\n",
      "K\n",
      "M--I'K\n",
      "F-&KK\n",
      "-DFKC''3N!'-JK3F'C-S,K,K,K3K'JF,.!?S3K'NK,-KJSKKES,K,$R3.K',-S-3K&;:KKC3-!K,H!'\n",
      "KFK!-D:K'HHQ-I.JKH$F'KG'K!-.$!CKK&AK.-$HC3!-AK:SK,!KKK:K-JK-\n",
      ",,-3o-A!K'K\n",
      "-3!SKK-NKCA'?-\n",
      "K-K,D!:\n",
      "!!KKRF-\n",
      ";CS&K3-I'E':'JM$K''''3',-C-\n",
      ":-EJKE&!3,GvM3P''-':3KQC-KC3O\n",
      "\n",
      "-KC-&:S&'KF'S3'K.KNK&KKA-\n",
      "V-N!:!C-C.K$S$D-3CE?N3E$H:K-'$\n",
      "KKK-K'GK.'cD!'N\n",
      "F'--\n",
      "S\n",
      "-C!3S--K3-F'SJ-K'CKGD-,LIK''I3!''GK--K,'3K !.-FSKGH,K3K-IKCjK&JJ-\n",
      "K,-G'''F3!J'DKK'F-'3',K.-3$-J-Q\n",
      "SSKK:KM'KEK!$DIK','!\n",
      "GK\n",
      ".KD:K-KKK','-E\n",
      "$.'--!FK-K3SK:JNA3\n",
      "K'KSK'-'HKKK!A,K\n",
      "&S-':POSD33\n",
      "AEK--'K3-AA!E3N3CHK-K-H-:''.!SD$KLR'?$C3EK'\n",
      "SKKM:KCJS$DJ-3K'KKKF,\n",
      "Hx'iK--K;NK-3SS'3--KKC-KA-K;.NK;'KK\n",
      "K-L3-!G.MI'H-\n",
      "DXKKK-S\n",
      "KKF&\n",
      "L?K:'-K-G3,3''CK&'C''SK,-3,--S'.?K.\n",
      ",S-KK'.F!KKSD3PK-3KS-3,CMD SD-K3E-K-K'&KGC&&\n",
      "KFJ3GSE3K-''K:C\n",
      "3F'K-\n",
      "KSGKKFK3KF'K3'N\n",
      "',!-KK.DK!!-KK?DK'lH-'S'JF&E\n",
      "'K-SHK\n",
      "'-3K--,KD':--'---- -A--K33KiF-??EDD:'3K\n",
      "\n",
      "K'-!KSFQK3D'SSKK'$K-KKK!KKKK 'QDKC!,KKFN-KKK&KCBKK$K-K.:LK!A-HP-'O:H','-K$;DKCF3BKO-$-FKK!-EK33'-,QKG,;' 'K'KK-AK'!K\n",
      "S-!,'''.,3KK---K-K'-3'K'I&DK\n",
      ",3KK,3$,'K'MCFK.----MK-KS-3bA$3'!FK--ECKKKDNKE,''\n",
      "\n",
      "-'KC3KELKCD!$-EO!K!:-$-'HI3!!QA-FNSF3K$'-\n",
      "-KK'JD\n",
      "S&S-SK\n",
      "!'CKKH,'-!3:--3N-QAK-'IF$DCMH3'K.-3-SCKK!\n",
      "KRC-3LKCD,'--F'\n",
      "-CM3I!KC-.-KKE\n",
      "KCCA3\n",
      "C:3F-L&QK!'K'KK'\n",
      "KKC,KHM-G&,& 3JK3FIt?:''HA'KL'DDKBS.,FS-K'!,:!''E-K\n",
      "CC''KK'-JGKK3KK:SL--CKK?'-K:K'DS,!-KK!DKK3CKK-J:-KK&!S3KKEFK'-'K,--D-DFO:NS'KF?3KJOI!\n",
      "\n",
      ":3K-KC\n",
      "3&3!DS!LKKMC$-JHC''K,,:\n",
      "-DKNF:S'-IK&KK.&--K3I,EDKF!KFK&CK3K?.!&3K:S'KEKSKAKK&3'G!KDKK,3H\n",
      "KGKSDEK!GK3K$KK,.E-S-&,\n",
      "-K\n",
      "K:-D&'D3&KLS!-K\n",
      "L,E-FENKBK'K3-\n",
      "'3$&3K\n",
      "A\n",
      "3AFK-S'KK33B,FS-\n",
      "D3K3S,JJ,SL\n",
      "CE-FNq\n",
      ":-H'-R\n",
      "S&'K:'K'v'K-KKDKKK3--\n",
      ",!MK&--$\n",
      "DS-'KKN&D!-DK-333!-F.MBKKK:'&IKAS-,''D\n",
      "KH\n",
      "KK'N-'-SNC3:KK\n"
     ]
    }
   ],
   "source": [
    "# generate from the model\n",
    "context = torch.zeros((1, 1), dtype=torch.long, device=device)\n",
    "print(decode(model.generate(context, max_new_tokens=2000)[0].tolist()))"
   ]
  },
  {
   "cell_type": "code",
   "execution_count": null,
   "metadata": {
    "colab": {
     "base_uri": "https://localhost:8080/"
    },
    "executionInfo": {
     "elapsed": 14821,
     "status": "ok",
     "timestamp": 1706005270281,
     "user": {
      "displayName": "Anon User",
      "userId": "09336337215454420289"
     },
     "user_tz": -60
    },
    "id": "Ng08edtIywrD",
    "outputId": "e9139051-3377-4415-f4dc-9ec3cca68e41"
   },
   "outputs": [
    {
     "name": "stdout",
     "output_type": "stream",
     "text": [
      "Validation Loss: 8.68002700805664\n"
     ]
    }
   ],
   "source": [
    "transformer.eval()\n",
    "\n",
    "# Generate random sample validation data\n",
    "val_src_data = torch.randint(1, src_vocab_size, (64, max_seq_length))  # (batch_size, seq_length)\n",
    "val_tgt_data = torch.randint(1, tgt_vocab_size, (64, max_seq_length))  # (batch_size, seq_length)\n",
    "\n",
    "with torch.no_grad():\n",
    "\n",
    "    val_output = transformer(val_src_data, val_tgt_data[:, :-1])\n",
    "    val_loss = criterion(val_output.contiguous().view(-1, tgt_vocab_size), val_tgt_data[:, 1:].contiguous().view(-1))\n",
    "    print(f\"Validation Loss: {val_loss.item()}\")"
   ]
  }
 ],
 "metadata": {
  "accelerator": "TPU",
  "colab": {
   "authorship_tag": "ABX9TyOz1+l/0GM55qsurft6fbf1",
   "mount_file_id": "1K824Ec_1UNhkfYWJKSBBFejq4VSNPLQf",
   "provenance": []
  },
  "kernelspec": {
   "display_name": "Python 3 (ipykernel)",
   "language": "python",
   "name": "python3"
  },
  "language_info": {
   "codemirror_mode": {
    "name": "ipython",
    "version": 3
   },
   "file_extension": ".py",
   "mimetype": "text/x-python",
   "name": "python",
   "nbconvert_exporter": "python",
   "pygments_lexer": "ipython3",
   "version": "3.11.6"
  }
 },
 "nbformat": 4,
 "nbformat_minor": 4
}
