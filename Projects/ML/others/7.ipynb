{
 "cells": [
  {
   "cell_type": "code",
   "execution_count": 18,
   "id": "b52b39d1-2d19-494f-95af-9ebb13629a95",
   "metadata": {},
   "outputs": [],
   "source": [
    "import pandas as pd\n",
    "from sklearn.linear_model import LogisticRegression\n",
    "from sklearn.linear_model import LinearRegression\n",
    "from sklearn import preprocessing\n",
    "import numpy as np\n",
    "from sklearn.model_selection import train_test_split\n",
    "from sklearn.neighbors import KNeighborsClassifier\n",
    "from sklearn.tree import DecisionTreeClassifier\n",
    "from sklearn import svm\n",
    "from sklearn.metrics import jaccard_score\n",
    "from sklearn.metrics import f1_score\n",
    "from sklearn.metrics import log_loss\n",
    "from sklearn.metrics import confusion_matrix, accuracy_score\n",
    "import sklearn.metrics as metrics"
   ]
  },
  {
   "cell_type": "code",
   "execution_count": 19,
   "id": "d9d49613-bcdc-4a12-a3f6-e56a08944d82",
   "metadata": {},
   "outputs": [
    {
     "data": {
      "text/plain": [
       "Index(['Date', 'MinTemp', 'MaxTemp', 'Rainfall', 'Evaporation', 'Sunshine',\n",
       "       'WindGustDir', 'WindGustSpeed', 'WindDir9am', 'WindDir3pm',\n",
       "       'WindSpeed9am', 'WindSpeed3pm', 'Humidity9am', 'Humidity3pm',\n",
       "       'Pressure9am', 'Pressure3pm', 'Cloud9am', 'Cloud3pm', 'Temp9am',\n",
       "       'Temp3pm', 'RainToday', 'RainTomorrow'],\n",
       "      dtype='object')"
      ]
     },
     "execution_count": 19,
     "metadata": {},
     "output_type": "execute_result"
    }
   ],
   "source": [
    "df=pd.read_csv(r'/home/tom/Python/Machine learning/Weather_Data.csv')\n",
    "df.head()\n",
    "df.columns"
   ]
  },
  {
   "cell_type": "code",
   "execution_count": 20,
   "id": "121c920b-8114-4e41-baca-11333611fad6",
   "metadata": {},
   "outputs": [],
   "source": [
    "# PreProcessing : Another way of replacing aplphabets with numbers (ignore this cell)\n",
    "\n",
    "from sklearn import preprocessing\n",
    "\n",
    "df_array = df.values\n",
    "\n",
    "YesOrNo = preprocessing.LabelEncoder()\n",
    "\n",
    "YesOrNo.fit(['No', 'Yes'])\n",
    "\n",
    "df_array[:, -2] = YesOrNo.transform(df_array[:, -2]) # RainToday column\n"
   ]
  },
  {
   "cell_type": "code",
   "execution_count": 21,
   "id": "8ca5e2dc-f041-4785-9f04-543d7b1fceab",
   "metadata": {},
   "outputs": [],
   "source": [
    "# Preprocessing method 2 (use this cell)\n",
    "\n",
    "df_sydney_processed = pd.get_dummies(data=df, columns=['RainToday', 'WindGustDir', 'WindDir9am', 'WindDir3pm'])\n",
    "df_sydney_processed.replace(['No', 'Yes'], [0,1], inplace=True)\n"
   ]
  },
  {
   "cell_type": "code",
   "execution_count": 22,
   "id": "eba75964-7e3b-4ecb-89e1-5a3a28320302",
   "metadata": {},
   "outputs": [],
   "source": [
    "df_sydney_processed.drop('Date',axis=1,inplace=True)\n",
    "df_sydney_processed = df_sydney_processed.astype(float)\n",
    "features = df_sydney_processed.drop(columns='RainTomorrow', axis=1) # For X values ?\n",
    "Y = df_sydney_processed['RainTomorrow']  #Y values\n"
   ]
  },
  {
   "cell_type": "code",
   "execution_count": 23,
   "id": "5c391730-3965-494a-81dc-9500b5142182",
   "metadata": {},
   "outputs": [
    {
     "name": "stdout",
     "output_type": "stream",
     "text": [
      "Mean absolute error: 0.26\n",
      "Residual sum of squares (MSE): 0.12\n",
      "R2-score: 0.43\n",
      "0.25631835588062085 0.11572007059217618 0.4271346431527694\n"
     ]
    }
   ],
   "source": [
    "# Multi-Linear Regression\n",
    "\n",
    "from sklearn import linear_model\n",
    "\n",
    "from sklearn.metrics import r2_score, mean_squared_error, mean_absolute_error\n",
    "\n",
    "from sklearn.model_selection import train_test_split\n",
    "\n",
    "x_train, x_test, y_train, y_test = train_test_split( features, Y, test_size=0.2, random_state=10)\n",
    "\n",
    "LinearReg = linear_model.LinearRegression()\n",
    "\n",
    "LinearReg.fit(x_train, y_train)\n",
    "\n",
    "predictions = LinearReg.predict(x_test)\n",
    "\n",
    "\n",
    "LinearRegression_MAE = mean_absolute_error(y_test,predictions)\n",
    "LinearRegression_MSE = mean_squared_error(y_test,predictions)\n",
    "LinearRegression_R2 = r2_score(y_test,predictions)\n",
    "\n",
    "\n",
    "# or\n",
    "\n",
    "\n",
    "print(\"Mean absolute error: %.2f\" % np.mean(np.absolute(predictions - y_test)))\n",
    "print(\"Residual sum of squares (MSE): %.2f\" % np.mean((predictions - y_test) ** 2))\n",
    "print(\"R2-score: %.2f\" % r2_score(y_test,predictions) )\n",
    "\n",
    "print(LinearRegression_MAE, LinearRegression_MSE , LinearRegression_R2)"
   ]
  },
  {
   "cell_type": "code",
   "execution_count": 24,
   "id": "cb5d7c15-a64a-4412-b0aa-cfd4ac01a449",
   "metadata": {},
   "outputs": [],
   "source": [
    "# KNN\n",
    "from sklearn import preprocessing\n",
    "\n",
    "# Preprocessing if needed\n",
    "#x_train = preprocessing.StandardScaler().fit(x_train).transform(x_train.astype(float))\n",
    "#x_test = preprocessing.StandardScaler().fit(x_test).transform(x_test.astype(float))\n",
    "\n",
    "\n",
    "\n",
    "from sklearn.neighbors import KNeighborsClassifier\n",
    "\n",
    "#Train Model and Predict  \n",
    "KNN = KNeighborsClassifier(n_neighbors = 10).fit(x_train,y_train)\n",
    "predictions = KNN.predict(x_test)\n",
    "\n",
    "\n",
    "from sklearn import metrics\n",
    "\n",
    "\n",
    "\n",
    "KNN_Accuracy_Score = metrics.accuracy_score(y_test, predictions)\n",
    "KNN_JaccardIndex = metrics.jaccard_score(y_test, predictions)\n",
    "KNN_F1_Score = metrics.f1_score(y_test, predictions)"
   ]
  },
  {
   "cell_type": "code",
   "execution_count": 25,
   "id": "14a23c8e-ea05-4fdc-8167-2cc106957c46",
   "metadata": {},
   "outputs": [],
   "source": [
    "# DecisionTree\n",
    "\n",
    "Tree = DecisionTreeClassifier(criterion=\"entropy\", max_depth = 4).fit(x_train,y_train)\n",
    "predictions = Tree.predict(x_test)\n",
    "\n",
    "\n",
    "Tree_Accuracy_Score = metrics.accuracy_score(y_test, predictions)\n",
    "Tree_JaccardIndex = metrics.jaccard_score(y_test, predictions)\n",
    "Tree_F1_Score = metrics.f1_score(y_test, predictions)"
   ]
  },
  {
   "cell_type": "code",
   "execution_count": 26,
   "id": "7ffef109-dc56-454e-93bb-0e75c17ae947",
   "metadata": {},
   "outputs": [
    {
     "name": "stdout",
     "output_type": "stream",
     "text": [
      "[[106  76]\n",
      " [ 37 436]]\n"
     ]
    }
   ],
   "source": [
    "# Logistic Regression\n",
    "\n",
    "from sklearn.linear_model import LogisticRegression\n",
    "from sklearn.metrics import confusion_matrix\n",
    "\n",
    "\n",
    "\n",
    "x_train, x_test, y_train, y_test = train_test_split( features, Y, test_size=0.2, random_state=1)\n",
    "\n",
    "LR = LogisticRegression(C=0.01, solver='liblinear').fit(x_train,y_train)\n",
    "\n",
    "predictions = LR.predict(x_test) \n",
    "\n",
    "predict_proba = LR.predict_proba(x_test)\n",
    "\n",
    "print(confusion_matrix(y_test, predictions, labels=[1,0])) # To print confusion matrix (confusion matrix: The diagram inside f1 score disciprtion in notes)\n",
    "\n",
    "LR_Accuracy_Score = metrics.accuracy_score(y_test, predictions)\n",
    "LR_JaccardIndex = metrics.jaccard_score(y_test, predictions)\n",
    "LR_F1_Score = metrics.f1_score(y_test, predictions)\n",
    "LR_Log_Loss = metrics.log_loss(y_test, predictions)\n"
   ]
  },
  {
   "cell_type": "code",
   "execution_count": 27,
   "id": "783a422e-e9af-4187-8394-fe2036890751",
   "metadata": {},
   "outputs": [],
   "source": [
    "# SVM\n",
    "\n",
    "from sklearn import svm\n",
    "SVM = svm.SVC(kernel='rbf').fit(x_train, y_train) \n",
    "predictions= SVM.predict(x_test)\n",
    "\n",
    "\n",
    "\n",
    "SVM_Accuracy_Score = metrics.accuracy_score(y_test, predictions)\n",
    "SVM_JaccardIndex = metrics.jaccard_score(y_test, predictions)\n",
    "SVM_F1_Score = metrics.f1_score(y_test, predictions)\n"
   ]
  },
  {
   "cell_type": "code",
   "execution_count": 29,
   "id": "a3da5fc4-7d4f-4a7e-b474-c034fae11000",
   "metadata": {},
   "outputs": [
    {
     "data": {
      "text/html": [
       "<div>\n",
       "<style scoped>\n",
       "    .dataframe tbody tr th:only-of-type {\n",
       "        vertical-align: middle;\n",
       "    }\n",
       "\n",
       "    .dataframe tbody tr th {\n",
       "        vertical-align: top;\n",
       "    }\n",
       "\n",
       "    .dataframe thead th {\n",
       "        text-align: right;\n",
       "    }\n",
       "</style>\n",
       "<table border=\"1\" class=\"dataframe\">\n",
       "  <thead>\n",
       "    <tr style=\"text-align: right;\">\n",
       "      <th></th>\n",
       "      <th>Accuracy_Score</th>\n",
       "      <th>JaccardIndex</th>\n",
       "      <th>F1 Score</th>\n",
       "      <th>Log Loss</th>\n",
       "    </tr>\n",
       "  </thead>\n",
       "  <tbody>\n",
       "    <tr>\n",
       "      <th>KNN</th>\n",
       "      <td>0.824427</td>\n",
       "      <td>0.439024</td>\n",
       "      <td>0.610169</td>\n",
       "      <td>nan</td>\n",
       "    </tr>\n",
       "    <tr>\n",
       "      <th>Tree</th>\n",
       "      <td>0.818321</td>\n",
       "      <td>0.480349</td>\n",
       "      <td>0.648968</td>\n",
       "      <td>nan</td>\n",
       "    </tr>\n",
       "    <tr>\n",
       "      <th>LR</th>\n",
       "      <td>0.827481</td>\n",
       "      <td>0.484018</td>\n",
       "      <td>0.652308</td>\n",
       "      <td>6.218218</td>\n",
       "    </tr>\n",
       "    <tr>\n",
       "      <th>SVM</th>\n",
       "      <td>0.722137</td>\n",
       "      <td>0.000000</td>\n",
       "      <td>0.000000</td>\n",
       "      <td>nan</td>\n",
       "    </tr>\n",
       "  </tbody>\n",
       "</table>\n",
       "</div>"
      ],
      "text/plain": [
       "      Accuracy_Score  JaccardIndex  F1 Score  Log Loss\n",
       "KNN         0.824427      0.439024  0.610169       nan\n",
       "Tree        0.818321      0.480349  0.648968       nan\n",
       "LR          0.827481      0.484018  0.652308  6.218218\n",
       "SVM         0.722137      0.000000  0.000000       nan"
      ]
     },
     "execution_count": 29,
     "metadata": {},
     "output_type": "execute_result"
    }
   ],
   "source": [
    "index_labels = ['KNN', 'Tree', 'LR', 'SVM']\n",
    "d = {'Accuracy_Score': [KNN_Accuracy_Score, Tree_Accuracy_Score, LR_Accuracy_Score, SVM_Accuracy_Score], 'JaccardIndex': [KNN_JaccardIndex, Tree_JaccardIndex, LR_JaccardIndex, SVM_JaccardIndex], 'F1 Score': [KNN_F1_Score, Tree_F1_Score, LR_F1_Score, SVM_F1_Score], 'Log Loss': ['nan', 'nan', LR_Log_Loss, 'nan']}\n",
    "df = pd.DataFrame(data=d, index=index_labels)\n",
    "df"
   ]
  },
  {
   "cell_type": "code",
   "execution_count": null,
   "id": "737d22af-4ff7-4bd2-b638-02469a20dc5f",
   "metadata": {},
   "outputs": [],
   "source": []
  }
 ],
 "metadata": {
  "kernelspec": {
   "display_name": "Python 3 (ipykernel)",
   "language": "python",
   "name": "python3"
  },
  "language_info": {
   "codemirror_mode": {
    "name": "ipython",
    "version": 3
   },
   "file_extension": ".py",
   "mimetype": "text/x-python",
   "name": "python",
   "nbconvert_exporter": "python",
   "pygments_lexer": "ipython3",
   "version": "3.11.3"
  }
 },
 "nbformat": 4,
 "nbformat_minor": 5
}
