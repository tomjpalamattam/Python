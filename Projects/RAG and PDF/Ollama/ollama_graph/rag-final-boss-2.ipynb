{
 "cells": [
  {
   "cell_type": "markdown",
   "id": "04c82361-4c34-41d3-a17c-c2996cef1bed",
   "metadata": {},
   "source": [
    "### many prompts does not work. It will fail in hallucination grader etc as it will return no value when large source texts can overwhelm the original prompts. Try with larger models and sources that are smaller (like only web search etc)"
   ]
  },
  {
   "cell_type": "code",
   "execution_count": 1,
   "id": "fa402cbe-8d98-4de4-a54f-7e2b96b7142b",
   "metadata": {},
   "outputs": [],
   "source": [
    "from langchain_community.document_loaders import UnstructuredPDFLoader\n",
    "from langchain_community.document_loaders import OnlinePDFLoader\n",
    "from langchain.text_splitter import RecursiveCharacterTextSplitter"
   ]
  },
  {
   "cell_type": "code",
   "execution_count": 2,
   "id": "c67b7e23-4fe2-443b-ab9b-8caf699c3ece",
   "metadata": {},
   "outputs": [
    {
     "name": "stderr",
     "output_type": "stream",
     "text": [
      "100%|███████████████████████████████████████████████████████████████████████| 1/1 [00:00<00:00,  3.52it/s]\n"
     ]
    }
   ],
   "source": [
    "#note: pypdf also records title, page numeber etc required by chain-5\n",
    "\n",
    "from langchain_community.document_loaders import DirectoryLoader, PyMuPDFLoader\n",
    "\n",
    "#loader = DirectoryLoader('/home/tom/Python/Tools/RAG and PDF/docs', glob=\"**/*.pdf\", loader_cls=UnstructuredPDFLoader, show_progress=True)\n",
    "loader = DirectoryLoader('docs', glob=\"**/*.pdf\", loader_cls=PyMuPDFLoader, show_progress=True)\n",
    "repo_files = loader.load()\n"
   ]
  },
  {
   "cell_type": "code",
   "execution_count": 3,
   "id": "605daabc-e835-46cb-82aa-d76ee6ada543",
   "metadata": {},
   "outputs": [
    {
     "name": "stdout",
     "output_type": "stream",
     "text": [
      "Number of files loaded: 13\n",
      "Number of documents : 63\n"
     ]
    }
   ],
   "source": [
    "\n",
    "print(f\"Number of files loaded: {len(repo_files)}\")\n",
    "#\n",
    "text_splitter = RecursiveCharacterTextSplitter(chunk_size=1500, chunk_overlap=150)\n",
    "documents = text_splitter.split_documents(documents=repo_files)\n",
    "print(f\"Number of documents : {len(documents)}\")"
   ]
  },
  {
   "cell_type": "code",
   "execution_count": 4,
   "id": "1f9e48bf-d2d9-402c-a656-1632f33c1bba",
   "metadata": {},
   "outputs": [],
   "source": [
    "from langchain_ollama import OllamaEmbeddings\n",
    "#from langchain_community.vectorstores import Qdrant\n",
    "from langchain_qdrant import Qdrant"
   ]
  },
  {
   "cell_type": "code",
   "execution_count": 5,
   "id": "c8868468-d494-4529-b580-e9069ac3f45d",
   "metadata": {},
   "outputs": [],
   "source": [
    "model_name = \"nomic-embed-text\"\n",
    "embeddings = OllamaEmbeddings(model=model_name)"
   ]
  },
  {
   "cell_type": "code",
   "execution_count": 6,
   "id": "5acb7466-5fc7-4bb2-9059-6c4fe7170c07",
   "metadata": {},
   "outputs": [],
   "source": [
    "#Restore db\n",
    "\n",
    "qdrant = Qdrant.from_existing_collection(\n",
    " embeddings,\n",
    " path=\"langchain_local_qdrant_pdf\",\n",
    " collection_name=\"my_documents\",\n",
    ")"
   ]
  },
  {
   "cell_type": "code",
   "execution_count": null,
   "id": "86d672ef-157b-472c-8721-239cbb48ae33",
   "metadata": {},
   "outputs": [],
   "source": [
    "#Index new docs to db\n",
    "\n",
    "qdrant = Qdrant.from_documents(\n",
    " documents,\n",
    " embeddings,\n",
    " path=\"langchain_local_qdrant_pdf\",\n",
    " collection_name=\"my_documents\",\n",
    ")"
   ]
  },
  {
   "cell_type": "code",
   "execution_count": 7,
   "id": "39d06840-e95f-44f3-852e-3bfa50810019",
   "metadata": {},
   "outputs": [],
   "source": [
    "retriever = qdrant.as_retriever()"
   ]
  },
  {
   "cell_type": "code",
   "execution_count": 8,
   "id": "e3c0ba7d-8bf8-4ef0-90b8-ec69132c7a00",
   "metadata": {},
   "outputs": [],
   "source": [
    "from langchain.prompts import PromptTemplate\n",
    "from langchain_ollama import ChatOllama\n",
    "from langchain_core.output_parsers import JsonOutputParser\n",
    "\n",
    "# LLM from Ollama\n",
    "local_model = \"llama3.2\"\n",
    "llm = ChatOllama(model=local_model, format=\"json\")\n"
   ]
  },
  {
   "cell_type": "code",
   "execution_count": 9,
   "id": "d66672ab-c3ec-4683-b4a9-13ddeee45bfa",
   "metadata": {},
   "outputs": [
    {
     "data": {
      "text/plain": [
       "'\\nquestion = \"What is value Network?\"\\ndocs = retriever.invoke(question)\\n#doc_txt = docs[1].page_content\\nprint(retrieval_grader.invoke({\"question\": question, \"document\": docs}))\\n\\n'"
      ]
     },
     "execution_count": 9,
     "metadata": {},
     "output_type": "execute_result"
    }
   ],
   "source": [
    "prompt = PromptTemplate(\n",
    "    template=\"\"\"You are a grader assessing relevance \n",
    "    of a retrieved document to a user question. If the document contains any information or keywords related to the user question, \n",
    "    grade it as relevant. This is a very lenient test - the document does not need to fully answer the question to be considered relevant.\n",
    "    \n",
    "    Give a binary score 'yes' or 'no' to indicate whether the document is relevant to the question.\n",
    "    Also provide a brief explanation for your decision.\n",
    "    \n",
    "    Return your response as a JSON with two keys: 'score' (either 'yes' or 'no') and 'explanation'.\n",
    "     \n",
    "    Here is the retrieved document: \n",
    "    {document}\n",
    "    \n",
    "    Here is the user question: \n",
    "    {question}\n",
    "    \"\"\",\n",
    "    input_variables=[\"question\", \"document\"],\n",
    ")\n",
    "\n",
    "retrieval_grader = prompt | llm | JsonOutputParser()\n",
    "\n",
    "\"\"\"\n",
    "question = \"What is value Network?\"\n",
    "docs = retriever.invoke(question)\n",
    "#doc_txt = docs[1].page_content\n",
    "print(retrieval_grader.invoke({\"question\": question, \"document\": docs}))\n",
    "\n",
    "\"\"\""
   ]
  },
  {
   "cell_type": "code",
   "execution_count": 10,
   "id": "c0c5e91b-ed0d-4f8c-a33e-3d6b96770067",
   "metadata": {},
   "outputs": [
    {
     "data": {
      "text/plain": [
       "'\\n\\nchunks_answer = []\\nfor chunk in retrieval_grader.stream({\"question\":question,\"document\":docs}):\\n    print(chunk, end=\\'\\')\\n    chunks_answer.append(chunk)\\n'"
      ]
     },
     "execution_count": 10,
     "metadata": {},
     "output_type": "execute_result"
    }
   ],
   "source": [
    "\"\"\"\n",
    "\n",
    "chunks_answer = []\n",
    "for chunk in retrieval_grader.stream({\"question\":question,\"document\":docs}):\n",
    "    print(chunk, end='')\n",
    "    chunks_answer.append(chunk)\n",
    "\"\"\""
   ]
  },
  {
   "cell_type": "code",
   "execution_count": 11,
   "id": "4f8081e5-cc86-4b31-9f96-8f481132b93b",
   "metadata": {},
   "outputs": [
    {
     "data": {
      "text/plain": [
       "'\\n# Run\\nquestion = \"What is agent memory?\"\\ndocs = retriever.invoke(question)\\ngeneration = rag_chain.invoke({\"context\": docs, \"question\": question})\\nprint(generation)\\n\\n'"
      ]
     },
     "execution_count": 11,
     "metadata": {},
     "output_type": "execute_result"
    }
   ],
   "source": [
    "### Generate\n",
    "\n",
    "from langchain.prompts import PromptTemplate\n",
    "from langchain import hub\n",
    "from langchain_core.output_parsers import StrOutputParser\n",
    "\n",
    "# Prompt\n",
    "prompt = PromptTemplate(\n",
    "    template=\"\"\"You are an assistant for question-answering tasks. \n",
    "    Use the following pieces of retrieved context to answer the question. If you don't know the answer, just say that you don't know. \n",
    "    Use three sentences maximum and keep the answer concise:\n",
    "    Question: {question} \n",
    "    Context: {context} \n",
    "    Answer: \n",
    "    \"\"\",\n",
    "    input_variables=[\"question\", \"document\"],\n",
    ")\n",
    "\n",
    "llm = ChatOllama(model=local_model, temperature=0)\n",
    "\n",
    "# Post-processing\n",
    "def format_docs(docs):\n",
    "    return \"\\n\\n\".join(doc.page_content for doc in docs)\n",
    "\n",
    "# Chain\n",
    "rag_chain = prompt | llm | StrOutputParser()\n",
    "\n",
    "\"\"\"\n",
    "# Run\n",
    "question = \"What is agent memory?\"\n",
    "docs = retriever.invoke(question)\n",
    "generation = rag_chain.invoke({\"context\": docs, \"question\": question})\n",
    "print(generation)\n",
    "\n",
    "\"\"\""
   ]
  },
  {
   "cell_type": "code",
   "execution_count": 12,
   "id": "2db3b242-1f78-47ca-abfb-e9b126db82fa",
   "metadata": {},
   "outputs": [
    {
     "data": {
      "text/plain": [
       "'\\n# Ensure the correct input structure for the chain\\ngeneration = rag_chain_with_source.invoke({\\n    \"context\": docs, \\n#     \"context\": docs, ## for no sources/metadata    \\n    \"question\": question\\n})\\n\\nprint(generation)\\n\\n'"
      ]
     },
     "execution_count": 12,
     "metadata": {},
     "output_type": "execute_result"
    }
   ],
   "source": [
    "### Generate-2\n",
    "\n",
    "from langchain.prompts import PromptTemplate\n",
    "from langchain_core.runnables import RunnableParallel\n",
    "from langchain import hub\n",
    "from langchain_core.output_parsers import StrOutputParser\n",
    "from langchain_core.runnables import RunnablePassthrough\n",
    "from langgraph.checkpoint.memory import MemorySaver\n",
    "\n",
    "# Prompt template\n",
    "prompt = PromptTemplate(\n",
    "    template=\"\"\"You are an assistant for question-answering tasks. \n",
    "    Use the following pieces of retrieved context to answer the question. If you don't know the answer, just say that you don't know. \n",
    "    Use three sentences maximum and keep the answer concise:\n",
    "    Question: {question} \n",
    "    Context: {context} \n",
    "    Answer: \n",
    "    \"\"\",\n",
    "    input_variables=[\"question\", \"context\"],\n",
    ")\n",
    "\n",
    "def format_docs(docs):\n",
    "    return \"\\n\\n\".join(doc.page_content for doc in docs)\n",
    "\n",
    "    \n",
    "# Chain for retrieval-augmented generation\n",
    "rag_chain_from_docs = (\n",
    "    RunnablePassthrough.assign(context=(lambda x: x[\"context\"]))\n",
    "    | prompt\n",
    "    | llm\n",
    "    | StrOutputParser()\n",
    ")\n",
    "\n",
    "\n",
    "rag_chain_with_source = RunnableParallel(\n",
    "    {\n",
    "        \"context\": RunnablePassthrough(),  # Direct passthrough for the formatted context\n",
    "        \"question\": RunnablePassthrough()  # Direct passthrough for the question\n",
    "    }\n",
    ").assign(answer=rag_chain_from_docs)\n",
    "\n",
    "\n",
    "# Run pipeline\n",
    "question = \"What is value network?\"\n",
    "docs = retriever.invoke(question)  \n",
    "formatted_docs = format_docs(docs)  \n",
    "\n",
    "\n",
    "\"\"\"\n",
    "# Ensure the correct input structure for the chain\n",
    "generation = rag_chain_with_source.invoke({\n",
    "    \"context\": docs, \n",
    "#     \"context\": docs, ## for no sources/metadata    \n",
    "    \"question\": question\n",
    "})\n",
    "\n",
    "print(generation)\n",
    "\n",
    "\"\"\""
   ]
  },
  {
   "cell_type": "code",
   "execution_count": 12,
   "id": "7bad3593-a371-4f4b-be7f-4d75e3264639",
   "metadata": {},
   "outputs": [
    {
     "data": {
      "text/plain": [
       "'\\nhallucination_grader.invoke({\"documents\": docs, \"generation\": generation})\\n'"
      ]
     },
     "execution_count": 12,
     "metadata": {},
     "output_type": "execute_result"
    }
   ],
   "source": [
    "### Hallucination Grader \n",
    "\n",
    "# LLM\n",
    "llm = ChatOllama(model=local_model, format=\"json\", temperature=0)\n",
    "\n",
    "# Prompt\n",
    "prompt = PromptTemplate(\n",
    "    template=\"\"\"You are a grader assessing whether \n",
    "    an answer is grounded in / supported by a set of facts. Give a binary score 'yes' or 'no' score to indicate \n",
    "    whether the answer is grounded in / supported by a set of facts. Provide the binary score as a JSON with a \n",
    "    single key 'score' and no preamble or explanation.\n",
    "    \n",
    "    Here are the facts:\n",
    "    {documents} \n",
    "\n",
    "    Here is the answer: \n",
    "    {generation}\n",
    "    \"\"\",\n",
    "    input_variables=[\"generation\", \"documents\"],\n",
    ")\n",
    "\n",
    "hallucination_grader = prompt | llm | JsonOutputParser()\n",
    "\n",
    "\"\"\"\n",
    "hallucination_grader.invoke({\"documents\": docs, \"generation\": generation})\n",
    "\"\"\""
   ]
  },
  {
   "cell_type": "code",
   "execution_count": 13,
   "id": "529d6a0d-c5d4-4695-90d1-08c6b9726954",
   "metadata": {},
   "outputs": [
    {
     "data": {
      "text/plain": [
       "'\\nanswer_grader.invoke({\"question\": question,\"generation\": generation})\\n\\n'"
      ]
     },
     "execution_count": 13,
     "metadata": {},
     "output_type": "execute_result"
    }
   ],
   "source": [
    "### Answer Grader \n",
    "\n",
    "# LLM\n",
    "llm = ChatOllama(model=local_model, format=\"json\", temperature=0)\n",
    "\n",
    "# Prompt\n",
    "prompt = PromptTemplate(\n",
    "    template=\"\"\"You are a grader assessing whether an \n",
    "    answer is useful to resolve a question. Give a binary score 'yes' or 'no' to indicate whether the answer is \n",
    "    useful to resolve a question. Provide the binary score as a JSON with a single key 'score' and no preamble or explanation.\n",
    "     \n",
    "    Here is the answer:\n",
    "    {generation} \n",
    "\n",
    "    Here is the question: {question}\n",
    "    \"\"\",\n",
    "    input_variables=[\"generation\", \"question\"],\n",
    ")\n",
    "\n",
    "answer_grader = prompt | llm | JsonOutputParser()\n",
    "\n",
    "\"\"\"\n",
    "answer_grader.invoke({\"question\": question,\"generation\": generation})\n",
    "\n",
    "\"\"\""
   ]
  },
  {
   "cell_type": "code",
   "execution_count": 14,
   "id": "dd482f30-4780-47d8-a1fc-47a6aeacbd0f",
   "metadata": {},
   "outputs": [
    {
     "data": {
      "text/plain": [
       "'\\nprint(question_router.invoke({\"question\": \"When will the Euro of Football take place?\"}))\\nprint(question_router.invoke({\"question\": \"What are the types of agent memory?\"})) ### Index\\n\\nprint(question_router.invoke({\"question\": \"What are the basic approaches for prompt engineering?\"})) ### Index\\n\\n'"
      ]
     },
     "execution_count": 14,
     "metadata": {},
     "output_type": "execute_result"
    }
   ],
   "source": [
    "### Router\n",
    "\n",
    "from langchain.prompts import PromptTemplate\n",
    "from langchain_core.output_parsers import JsonOutputParser\n",
    "\n",
    "# LLM\n",
    "llm = ChatOllama(model=local_model, format=\"json\")\n",
    "\n",
    "prompt = PromptTemplate(\n",
    "    template=\"\"\"You are an expert at routing a \n",
    "    user question to a vectorstore or web search. Use the vectorstore for questions on LLM agents, \n",
    "    prompt engineering, prompting, and adversarial attacks. You can also use words that are similar to those, \n",
    "    no need to have exactly those words. Otherwise, use web-search. \n",
    "\n",
    "    Give a binary choice 'web_search' or 'vectorstore' based on the question. Return the a JSON with a single key 'datasource' and \n",
    "    no preamble or explanation.\n",
    "    \n",
    "    Examples:\n",
    "    Question: When will the Euro of Football take place?\n",
    "    Answer: {{\"datasource\": \"web_search\"}}\n",
    "\n",
    "    Question: What are the types of agent memory?\n",
    "    Answer: {{\"datasource\": \"vectorstore\"}}\n",
    "\n",
    "    Question: What are the basic approaches for prompt engineering?\n",
    "    Answer: {{\"datasource\": \"vectorstore\"}}\n",
    "\n",
    "    Question: What is prompt engineering?\n",
    "    Answer: {{\"datasource\": \"vectorstore\"}}\n",
    "    \n",
    "    Question to route: \n",
    "    {question}\"\"\",\n",
    "    input_variables=[\"question\"],\n",
    ")\n",
    "\n",
    "\n",
    "question_router = prompt | llm | JsonOutputParser()\n",
    "\n",
    "\"\"\"\n",
    "print(question_router.invoke({\"question\": \"When will the Euro of Football take place?\"}))\n",
    "print(question_router.invoke({\"question\": \"What are the types of agent memory?\"})) ### Index\n",
    "\n",
    "print(question_router.invoke({\"question\": \"What are the basic approaches for prompt engineering?\"})) ### Index\n",
    "\n",
    "\"\"\""
   ]
  },
  {
   "cell_type": "code",
   "execution_count": 15,
   "id": "d0d58643-f287-4ca0-a043-095a8fbd5654",
   "metadata": {},
   "outputs": [],
   "source": [
    "### Search\n",
    "\n",
    "from langchain_community.tools.tavily_search import TavilySearchResults\n",
    "import os\n",
    "\n",
    "#!export TAVILY_API_KEY=\"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\"\n",
    "os.environ[\"TAVILY_API_KEY\"] = \"PUT YOUR API KEY HERE\"\n",
    "web_search_tool = TavilySearchResults(k=3)"
   ]
  },
  {
   "cell_type": "code",
   "execution_count": 16,
   "id": "99772349-0c3f-41f9-ac65-13792f7adf1a",
   "metadata": {},
   "outputs": [
    {
     "data": {
      "text/plain": [
       "<langgraph.graph.state.StateGraph at 0x7b827bcbbe50>"
      ]
     },
     "execution_count": 16,
     "metadata": {},
     "output_type": "execute_result"
    }
   ],
   "source": [
    "from typing_extensions import TypedDict\n",
    "from typing import List\n",
    "\n",
    "### State\n",
    "\n",
    "class GraphState(TypedDict):\n",
    "    \"\"\"\n",
    "    Represents the state of our graph.\n",
    "\n",
    "    Attributes:\n",
    "        question: question\n",
    "        generation: LLM generation\n",
    "        web_search: whether to add search\n",
    "        documents: list of documents \n",
    "    \"\"\"\n",
    "    question : str\n",
    "    generation : str\n",
    "    web_search : str\n",
    "    documents : List[str]\n",
    "\n",
    "from langchain.schema import Document\n",
    "\n",
    "### Nodes\n",
    "\n",
    "def retrieve(state):\n",
    "    \"\"\"\n",
    "    Retrieve documents from vectorstore\n",
    "\n",
    "    Args:\n",
    "        state (dict): The current graph state\n",
    "\n",
    "    Returns:\n",
    "        state (dict): New key added to state, documents, that contains retrieved documents\n",
    "    \"\"\"\n",
    "    print(\"---RETRIEVE---\")\n",
    "    question = state[\"question\"]\n",
    "\n",
    "    # Retrieval\n",
    "    documents = retriever.invoke(question)\n",
    "    return {\"documents\": documents, \"question\": question}\n",
    "\n",
    "def generate(state):\n",
    "    \"\"\"\n",
    "    Generate answer using RAG on retrieved documents\n",
    "\n",
    "    Args:\n",
    "        state (dict): The current graph state\n",
    "\n",
    "    Returns:\n",
    "        state (dict): New key added to state, generation, that contains LLM generation\n",
    "    \"\"\"\n",
    "    print(\"---GENERATE---\")\n",
    "    question = state[\"question\"]\n",
    "    documents = state[\"documents\"]\n",
    "    \n",
    "    # RAG generation\n",
    "    generation = rag_chain.invoke({\"context\": documents, \"question\": question})\n",
    "    return {\"documents\": documents, \"question\": question, \"generation\": generation}\n",
    "\n",
    "def grade_documents(state):\n",
    "    \"\"\"\n",
    "    Determines whether the retrieved documents are relevant to the question\n",
    "    If any document is not relevant, we will set a flag to run web search\n",
    "\n",
    "    Args:\n",
    "        state (dict): The current graph state\n",
    "\n",
    "    Returns:\n",
    "        state (dict): Filtered out irrelevant documents and updated web_search state\n",
    "    \"\"\"\n",
    "\n",
    "    print(\"---CHECK DOCUMENT RELEVANCE TO QUESTION---\")\n",
    "    question = state[\"question\"]\n",
    "    documents = state[\"documents\"]\n",
    "    \n",
    "    # Score each doc\n",
    "    filtered_docs = []\n",
    "    web_search = \"No\"\n",
    "    for d in documents:\n",
    "        score = retrieval_grader.invoke({\"question\": question, \"document\": d.page_content})\n",
    "        grade = score['score']\n",
    "        # Document relevant\n",
    "        if grade.lower() == \"yes\":\n",
    "            print(\"---GRADE: DOCUMENT RELEVANT---\")\n",
    "            filtered_docs.append(d)\n",
    "        # Document not relevant\n",
    "        else:\n",
    "            print(\"---GRADE: DOCUMENT NOT RELEVANT---\")\n",
    "            # We do not include the document in filtered_docs\n",
    "            # We set a flag to indicate that we want to run web search\n",
    "            web_search = \"Yes\"\n",
    "            continue\n",
    "    return {\"documents\": filtered_docs, \"question\": question, \"web_search\": web_search}\n",
    "    \n",
    "def web_search(state):\n",
    "    \"\"\"\n",
    "    Web search based based on the question\n",
    "\n",
    "    Args:\n",
    "        state (dict): The current graph state\n",
    "\n",
    "    Returns:\n",
    "        state (dict): Appended web results to documents\n",
    "    \"\"\"\n",
    "\n",
    "    print(\"---WEB SEARCH---\")\n",
    "    question = state[\"question\"]\n",
    "    #documents = state[\"documents\"]\n",
    "\n",
    "    \n",
    "\n",
    "    # The question_router() in route_question(), which is executed first, was originally designed to handle specific types of questions (read the funtion). \n",
    "    # This makes it unsuitable for our use case, so we have to rewrite the function for each use case depending on the topic of the pdf files.\n",
    "\n",
    "    # In the original implementation, the web search function was intended to run only after the \"retrieve\" function which will fail if we ask non topic question. (see the code: documents = retriever.invoke(question) which will be our state[documents])\n",
    "    # Its purpose was to add more sources to the vectorstore.\n",
    "\n",
    "    # To address this limitation, I added code to perform a simple search in cases where \"web_search\" is executed \n",
    "    # before the \"retrieve\" function. This ensures that documents are properly initialized, even if the router \n",
    "    # calls \"web_search\" prematurely (e.g., when \"state['documents']\" is undefined).\n",
    "\n",
    "    \n",
    "    \n",
    "    try:\n",
    "        documents = state[\"documents\"]\n",
    "    except KeyError:  \n",
    "        docs = web_search_tool.invoke({\"query\": question})\n",
    "        web_results = \"\\n\".join([d[\"content\"] for d in docs])\n",
    "        documents = [web_results]\n",
    "        return {\"documents\": documents, \"question\": question}\n",
    "    else:\n",
    "        documents = state[\"documents\"]\n",
    "    \n",
    "\n",
    "    # Web search\n",
    "    docs = web_search_tool.invoke({\"query\": question})\n",
    "    web_results = \"\\n\".join([d[\"content\"] for d in docs])\n",
    "    web_results = Document(page_content=web_results)\n",
    "    if documents is not None:\n",
    "        documents.append(web_results)\n",
    "    else:\n",
    "        documents = [web_results]\n",
    "    return {\"documents\": documents, \"question\": question}\n",
    "\n",
    "### Conditional edge\n",
    "\n",
    "def route_question(state):\n",
    "    \"\"\"\n",
    "    Route question to web search or RAG.\n",
    "\n",
    "    Args:\n",
    "        state (dict): The current graph state\n",
    "\n",
    "    Returns:\n",
    "        str: Next node to call\n",
    "    \"\"\"\n",
    "\n",
    "    print(\"---ROUTE QUESTION---\")\n",
    "    question = state[\"question\"]\n",
    "    print(question)\n",
    "    source = question_router.invoke({\"question\": question})  \n",
    "    print(source)\n",
    "    print(source['datasource'])\n",
    "    if source['datasource'] == 'web_search':\n",
    "        print(\"---ROUTE QUESTION TO WEB SEARCH---\")\n",
    "        return \"websearch\"\n",
    "    elif source['datasource'] == 'vectorstore':\n",
    "        print(\"---ROUTE QUESTION TO RAG---\")\n",
    "        return \"vectorstore\"\n",
    "\n",
    "def decide_to_generate(state):\n",
    "    \"\"\"\n",
    "    Determines whether to generate an answer, or add web search\n",
    "\n",
    "    Args:\n",
    "        state (dict): The current graph state\n",
    "\n",
    "    Returns:\n",
    "        str: Binary decision for next node to call\n",
    "    \"\"\"\n",
    "\n",
    "    print(\"---ASSESS GRADED DOCUMENTS---\")\n",
    "    question = state[\"question\"]\n",
    "    web_search = state[\"web_search\"]\n",
    "    filtered_documents = state[\"documents\"]\n",
    "\n",
    "    if web_search == \"Yes\":\n",
    "        # All documents have been filtered check_relevance\n",
    "        # We will re-generate a new query\n",
    "        print(\"---DECISION: ALL DOCUMENTS ARE NOT RELEVANT TO QUESTION, INCLUDE WEB SEARCH---\")\n",
    "        return \"websearch\"\n",
    "    else:\n",
    "        # We have relevant documents, so generate answer\n",
    "        print(\"---DECISION: GENERATE---\")\n",
    "        return \"generate\"\n",
    "\n",
    "### Conditional edge\n",
    "\n",
    "def grade_generation_v_documents_and_question(state):\n",
    "    \"\"\"\n",
    "    Determines whether the generation is grounded in the document and answers question.\n",
    "\n",
    "    Args:\n",
    "        state (dict): The current graph state\n",
    "\n",
    "    Returns:\n",
    "        str: Decision for next node to call\n",
    "    \"\"\"\n",
    "\n",
    "    print(\"---CHECK HALLUCINATIONS---\")\n",
    "    question = state[\"question\"]\n",
    "    documents = state[\"documents\"]\n",
    "    generation = state[\"generation\"]\n",
    "\n",
    "    score = hallucination_grader.invoke({\"documents\": documents, \"generation\": generation})\n",
    "    grade = score['score']\n",
    "\n",
    "    # Check hallucination\n",
    "    if grade == \"yes\":\n",
    "        print(\"---DECISION: GENERATION IS GROUNDED IN DOCUMENTS---\")\n",
    "        # Check question-answering\n",
    "        print(\"---GRADE GENERATION vs QUESTION---\")\n",
    "        score = answer_grader.invoke({\"question\": question,\"generation\": generation})\n",
    "        grade = score['score']\n",
    "        if grade == \"yes\":\n",
    "            print(\"---DECISION: GENERATION ADDRESSES QUESTION---\")\n",
    "            return \"useful\"\n",
    "        else:\n",
    "            print(\"---DECISION: GENERATION DOES NOT ADDRESS QUESTION---\")\n",
    "            return \"not useful\"\n",
    "    else:\n",
    "        print(\"---DECISION: GENERATION IS NOT GROUNDED IN DOCUMENTS, RE-TRY---\")\n",
    "        print(f'question: {question}, documents: {documents}, generation: {generation}, grade: {grade}')\n",
    "        return \"not supported\"\n",
    "\n",
    "from langgraph.graph import END, StateGraph\n",
    "workflow = StateGraph(GraphState)\n",
    "\n",
    "# Define the nodes\n",
    "workflow.add_node(\"websearch\", web_search) # web search\n",
    "workflow.add_node(\"retrieve\", retrieve) # retrieve\n",
    "workflow.add_node(\"grade_documents\", grade_documents) # grade documents\n",
    "workflow.add_node(\"generate\", generate) # generatae"
   ]
  },
  {
   "cell_type": "code",
   "execution_count": 17,
   "id": "236f5262-db00-4708-ad40-dc11ff3be6ee",
   "metadata": {},
   "outputs": [
    {
     "data": {
      "text/plain": [
       "<langgraph.graph.state.StateGraph at 0x7b827bcbbe50>"
      ]
     },
     "execution_count": 17,
     "metadata": {},
     "output_type": "execute_result"
    }
   ],
   "source": [
    "# Build graph\n",
    "\n",
    "# Set the conditional entry point for the workflow:\n",
    "# - If route_question returns \"websearch\", the workflow starts with the websearch() function.\n",
    "# - If route_question returns \"vectorstore\", the workflow starts with the retrieve() function.\n",
    "# The entry point defines the starting node in the graph workflow.\n",
    "workflow.set_conditional_entry_point(\n",
    "    route_question,\n",
    "    {\n",
    "        \"websearch\": \"websearch\",  # If route_question returns \"websearch\", the workflow starts with websearch().\n",
    "        \"vectorstore\": \"retrieve\", # If route_question returns \"vectorstore\", the workflow starts with retrieve().\n",
    "    },\n",
    ")\n",
    "\n",
    "# After retrieve() completes, it transitions to the grade_documents() node.\n",
    "# This is a direct connection between the \"retrieve\" node and the \"grade_documents\" node.\n",
    "workflow.add_edge(\"retrieve\", \"grade_documents\")\n",
    "\n",
    "# After grade_documents() completes, the next step is determined by the decision made in decide_to_generate().\n",
    "# This is where conditional edges come into play, and based on the result of decide_to_generate(), we can either:\n",
    "# - Move to \"websearch\" if the result is \"websearch\"\n",
    "# - Move to \"generate\" if the result is \"generate\"\n",
    "# The decision function (decide_to_generate) is evaluated after \"grade_documents\" completes, determining the next node.\n",
    "workflow.add_conditional_edges(\n",
    "    \"grade_documents\",  # This is the current node where the transition begins after \"grade_documents\" ends.\n",
    "    decide_to_generate, # The function that makes a decision on whether to move to \"websearch\" or \"generate\".\n",
    "    {\n",
    "        \"websearch\": \"websearch\", # If the decide_to_generate returns \"websearch\", move to the \"websearch\" node.\n",
    "        \"generate\": \"generate\",   # If the decide_to_generate returns \"generate\", move to the \"generate\" node.\n",
    "    },\n",
    ")\n",
    "\n",
    "# After websearch() completes, the next node is generate().\n",
    "# This is a direct transition from \"websearch\" to \"generate\".\n",
    "workflow.add_edge(\"websearch\", \"generate\")\n",
    "\n",
    "# After generate() completes, the next step is determined by the decision made in grade_generation_v_documents_and_question().\n",
    "# This decision function evaluates whether the generated answer is grounded in the documents and addresses the question.\n",
    "# Based on the result, we either:\n",
    "# - Retry \"generate\" if the result is \"not supported\"\n",
    "# - End the workflow if the result is \"useful\"\n",
    "# - Retry \"websearch\" if the result is \"not useful\" and continue with generate again.\n",
    "workflow.add_conditional_edges(\n",
    "    \"generate\",  # This is the current node where the decision function is evaluated after \"generate\" completes.\n",
    "    grade_generation_v_documents_and_question, # The function that checks the quality of the generation.\n",
    "    {\n",
    "        \"not supported\": \"generate\", # If grade_generation_v_documents_and_question returns \"not supported\", retry generate().\n",
    "        \"useful\": END,               # If grade_generation_v_documents_and_question returns \"useful\", end the workflow.\n",
    "        \"not useful\": \"websearch\",   # If grade_generation_v_documents_and_question returns \"not useful\", go back to websearch().\n",
    "    },\n",
    ")\n"
   ]
  },
  {
   "cell_type": "code",
   "execution_count": 18,
   "id": "5290c26b-d7fb-493f-8c13-83f3c198672b",
   "metadata": {},
   "outputs": [
    {
     "name": "stdout",
     "output_type": "stream",
     "text": [
      "---ROUTE QUESTION---\n",
      "What is prompt engineering?\n",
      "{'datasource': 'vectorstore'}\n",
      "vectorstore\n",
      "---ROUTE QUESTION TO RAG---\n",
      "---RETRIEVE---\n",
      "'Finished running: retrieve:'\n",
      "---CHECK DOCUMENT RELEVANCE TO QUESTION---\n",
      "---GRADE: DOCUMENT NOT RELEVANT---\n",
      "---GRADE: DOCUMENT NOT RELEVANT---\n",
      "---GRADE: DOCUMENT NOT RELEVANT---\n",
      "---GRADE: DOCUMENT NOT RELEVANT---\n",
      "---ASSESS GRADED DOCUMENTS---\n",
      "---DECISION: ALL DOCUMENTS ARE NOT RELEVANT TO QUESTION, INCLUDE WEB SEARCH---\n",
      "'Finished running: grade_documents:'\n",
      "---WEB SEARCH---\n",
      "'Finished running: websearch:'\n",
      "---GENERATE---\n",
      "---CHECK HALLUCINATIONS---\n",
      "---DECISION: GENERATION IS GROUNDED IN DOCUMENTS---\n",
      "---GRADE GENERATION vs QUESTION---\n",
      "---DECISION: GENERATION ADDRESSES QUESTION---\n",
      "'Finished running: generate:'\n",
      "('Prompt engineering is the process of creating effective prompts that enable '\n",
      " 'AI models to generate responses based on given inputs. It involves designing '\n",
      " 'inputs for AI tools that will produce optimal outputs, and skilled prompt '\n",
      " 'engineers interact optimally with other inputs in a generative AI tool. The '\n",
      " 'goal of prompt engineering is to create better services, such as chatbots or '\n",
      " 'legal contracts, by understanding how to get the best results out of various '\n",
      " 'generative AI models.')\n"
     ]
    }
   ],
   "source": [
    "# Compile\n",
    "from langgraph.checkpoint.memory import MemorySaver\n",
    "import uuid\n",
    "\n",
    "\n",
    "memory = MemorySaver()\n",
    "app = workflow.compile(\n",
    "    checkpointer=memory\n",
    ")\n",
    "\n",
    "thread_id = uuid.uuid4()\n",
    "config = {\"configurable\": {\"thread_id\": thread_id}}\n",
    "\n",
    "\n",
    "# Test\n",
    "from pprint import pprint\n",
    "inputs = {\"question\": \"What is prompt engineering?\"}\n",
    "for output in app.stream(inputs, config):\n",
    "    for key, value in output.items():\n",
    "        pprint(f\"Finished running: {key}:\")\n",
    "pprint(value[\"generation\"])"
   ]
  },
  {
   "cell_type": "code",
   "execution_count": 19,
   "id": "e733c3dd-7760-434f-832e-64eae5c76115",
   "metadata": {},
   "outputs": [
    {
     "data": {
      "image/png": "[encoded data removed]",
      "text/plain": [
       "<IPython.core.display.Image object>"
      ]
     },
     "metadata": {},
     "output_type": "display_data"
    }
   ],
   "source": [
    "from IPython.display import Image, display\n",
    "\n",
    "try:\n",
    "    display(Image(app.get_graph(xray=True).draw_mermaid_png()))\n",
    "except:\n",
    "    pass"
   ]
  },
  {
   "cell_type": "code",
   "execution_count": null,
   "id": "0b48d05f-dfd0-4882-a92d-8debf450fb08",
   "metadata": {},
   "outputs": [],
   "source": [
    "output"
   ]
  }
 ],
 "metadata": {
  "kernelspec": {
   "display_name": "Python 3 (ipykernel)",
   "language": "python",
   "name": "python3"
  },
  "language_info": {
   "codemirror_mode": {
    "name": "ipython",
    "version": 3
   },
   "file_extension": ".py",
   "mimetype": "text/x-python",
   "name": "python",
   "nbconvert_exporter": "python",
   "pygments_lexer": "ipython3",
   "version": "3.11.9"
  }
 },
 "nbformat": 4,
 "nbformat_minor": 5
}
