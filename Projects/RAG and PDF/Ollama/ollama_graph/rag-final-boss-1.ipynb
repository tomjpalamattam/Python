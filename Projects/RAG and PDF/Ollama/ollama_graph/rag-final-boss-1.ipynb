{
 "cells": [
  {
   "cell_type": "markdown",
   "id": "e801c106-2c79-40fc-81ac-ec9921a6e1a7",
   "metadata": {},
   "source": [
    "# LANGCHAIN"
   ]
  },
  {
   "cell_type": "code",
   "execution_count": 1,
   "id": "6c5534af-e7e5-4138-936d-f0ccbb559400",
   "metadata": {},
   "outputs": [],
   "source": [
    "from typing import List, TypedDict\n",
    "from langchain_community.document_loaders import DirectoryLoader, PyMuPDFLoader\n",
    "from langchain.text_splitter import RecursiveCharacterTextSplitter\n",
    "from langchain_ollama import OllamaEmbeddings, ChatOllama\n",
    "from langchain_qdrant import Qdrant\n",
    "from langchain.prompts import PromptTemplate\n",
    "from langchain_core.output_parsers import StrOutputParser\n",
    "from langgraph.graph import START, StateGraph, MessagesState\n",
    "from langgraph.checkpoint.memory import MemorySaver\n",
    "from langchain.schema import Document\n"
   ]
  },
  {
   "cell_type": "code",
   "execution_count": 2,
   "id": "497d2e6b-bc28-4cc9-a54a-ce6a77501a93",
   "metadata": {},
   "outputs": [
    {
     "name": "stderr",
     "output_type": "stream",
     "text": [
      "100%|███████████████████████████████████████████████████████████████████████| 1/1 [00:00<00:00,  3.11it/s]\n"
     ]
    }
   ],
   "source": [
    "#note: pypdf also records title, page numeber etc required by chain-5\n",
    "\n",
    "from langchain_community.document_loaders import DirectoryLoader, PyMuPDFLoader\n",
    "\n",
    "#loader = DirectoryLoader('/home/tom/Python/Tools/RAG and PDF/docs', glob=\"**/*.pdf\", loader_cls=UnstructuredPDFLoader, show_progress=True)\n",
    "loader = DirectoryLoader('docs', glob=\"**/*.pdf\", loader_cls=PyMuPDFLoader, show_progress=True)\n",
    "repo_files = loader.load()\n"
   ]
  },
  {
   "cell_type": "code",
   "execution_count": 3,
   "id": "c0b22ab9-3f2b-4345-b6de-152f3c55af58",
   "metadata": {},
   "outputs": [
    {
     "name": "stdout",
     "output_type": "stream",
     "text": [
      "Number of files loaded: 13\n",
      "Number of documents : 63\n"
     ]
    }
   ],
   "source": [
    "\n",
    "print(f\"Number of files loaded: {len(repo_files)}\")\n",
    "#\n",
    "text_splitter = RecursiveCharacterTextSplitter(chunk_size=1500, chunk_overlap=150)\n",
    "documents = text_splitter.split_documents(documents=repo_files)\n",
    "print(f\"Number of documents : {len(documents)}\")"
   ]
  },
  {
   "cell_type": "code",
   "execution_count": 4,
   "id": "5528a1d9-04fb-4b23-bf15-2bcaa05833bd",
   "metadata": {},
   "outputs": [],
   "source": [
    "from langchain_ollama import OllamaEmbeddings\n",
    "#from langchain_community.vectorstores import Qdrant\n",
    "from langchain_qdrant import Qdrant"
   ]
  },
  {
   "cell_type": "code",
   "execution_count": 5,
   "id": "1ad982c8-ad89-4195-9678-4aa7cb56c6fa",
   "metadata": {},
   "outputs": [],
   "source": [
    "model_name = \"nomic-embed-text\"\n",
    "embeddings = OllamaEmbeddings(model=model_name)"
   ]
  },
  {
   "cell_type": "code",
   "execution_count": 6,
   "id": "156b80fc-aa42-416a-aeb7-3af00b3a8c1e",
   "metadata": {},
   "outputs": [],
   "source": [
    "#Restore db\n",
    "\n",
    "qdrant = Qdrant.from_existing_collection(\n",
    " embeddings,\n",
    " path=\"langchain_local_qdrant_pdf_orig\",\n",
    " collection_name=\"my_documents\",\n",
    ")"
   ]
  },
  {
   "cell_type": "code",
   "execution_count": 7,
   "id": "25c3f0f4-77ee-4d23-b7bc-a42c943c490d",
   "metadata": {},
   "outputs": [],
   "source": [
    "retriever = qdrant.as_retriever()"
   ]
  },
  {
   "cell_type": "code",
   "execution_count": 8,
   "id": "7fe4f782-6a58-48fa-913a-cd851818596c",
   "metadata": {},
   "outputs": [],
   "source": [
    "import os\n",
    "api_key = 'PUT THE KEY HERE'\n",
    "#os.environ[\"OPENAI_API_KEY\"] = api_key"
   ]
  },
  {
   "cell_type": "markdown",
   "id": "6fc055ed-87ec-4255-b204-f1842b1225d6",
   "metadata": {},
   "source": [
    "### use it as an llm"
   ]
  },
  {
   "cell_type": "code",
   "execution_count": 9,
   "id": "4347a269-3298-4755-abcb-e811dcc76893",
   "metadata": {},
   "outputs": [],
   "source": [
    "import requests\n",
    "import json\n",
    "\n",
    "\n",
    "response = requests.post(\n",
    "    url=\"https://openrouter.ai/api/v1/chat/completions\",\n",
    "    headers={\n",
    "        \"Authorization\": f\"Bearer {api_key}\",\n",
    "    },\n",
    "    data=json.dumps({\n",
    "        \"model\": \"deepseek/deepseek-r1-distill-llama-70b:free\",  # Optional\n",
    "        \"messages\": [\n",
    "            {\n",
    "                \"role\": \"user\",\n",
    "                \"content\": \"What is the meaning of life?\"\n",
    "            }\n",
    "        ],\n",
    "        \"provider\": {\n",
    "            \"order\": [\n",
    "                \"Together\",\n",
    "                \"Targon\"              \n",
    "            ]\n",
    "        }\n",
    "    })\n",
    ")\n"
   ]
  },
  {
   "cell_type": "code",
   "execution_count": 10,
   "id": "6c2e2cd6-3283-43a5-97cc-1e1b226cfcb3",
   "metadata": {},
   "outputs": [
    {
     "name": "stdout",
     "output_type": "stream",
     "text": [
      "The meaning of life is a deeply personal and subjective question, with answers varying widely among individuals. Here are the key points that encapsulate the exploration:\n",
      "\n",
      "1. **Diverse Perspectives**: Different people have varied beliefs, ranging from religious views, scientific explanations, to philosophical stances like existentialism, which emphasizes self-defined meaning.\n",
      "\n",
      "2. **Personal Fulfillment**: Each individual may find their own meaning through personal growth, relationships, career, or hobbies, suggesting that life's meaning is not universal but unique to each person.\n",
      "\n",
      "3. **Evolutionary View**: From a scientific perspective, life's purpose might be tied to survival and reproduction, yet humans often seek more complex forms of meaning beyond basic instincts.\n",
      "\n",
      "4. **Dynamic Meaning**: The meaning of life can evolve over time, influenced by different life stages and experiences, shifting from growth and learning to legacy and contribution.\n",
      "\n",
      "5. **Happiness and Contentment**: While happiness is a common source, it varies individually, and circumstances can affect its pursuit, suggesting adaptability in finding meaning.\n",
      "\n",
      "6. **Freedom and Responsibility**: Without an inherent meaning, individuals have the freedom to create their own, which can be both empowering and challenging.\n",
      "\n",
      "7. **Self-Reflection and Engagement**: Finding meaning might involve setting goals, building relationships, contributing to society, and engaging in challenging activities that foster growth.\n",
      "\n",
      "In conclusion, the meaning of life is not static or universal. It is a dynamic, personal journey where each individual shapes their own meaning through experiences, values, and aspirations.\n"
     ]
    }
   ],
   "source": [
    "# Check for errors and print response\n",
    "if response.status_code == 200:\n",
    "    result = response.json()\n",
    "    print(result[\"choices\"][0][\"message\"][\"content\"])\n",
    "else:\n",
    "    print(f\"Error: {response.status_code}, {response.text}\")"
   ]
  },
  {
   "cell_type": "markdown",
   "id": "20500f13-5dc6-41ce-b92a-c5bb1f09b727",
   "metadata": {},
   "source": [
    "### definition for llm in langchain (doesnt have tool integration)"
   ]
  },
  {
   "cell_type": "code",
   "execution_count": 10,
   "id": "1183936f-6de4-42ae-8b63-0f420b195859",
   "metadata": {},
   "outputs": [],
   "source": [
    "from langchain_core.language_models import LLM\n",
    "import requests\n",
    "import json\n",
    "\n",
    "class OpenRouterLLM(LLM):\n",
    "    openrouter_api_key: str\n",
    "    model: str\n",
    "    provider_order: list\n",
    "\n",
    "    def _call(self, prompt: str, stop=None) -> str:\n",
    "        \"\"\"Calls OpenRouter API and returns a response.\"\"\"\n",
    "        headers = {\n",
    "            \"Authorization\": f\"Bearer {self.openrouter_api_key}\",\n",
    "            \"Content-Type\": \"application/json\",\n",
    "        }\n",
    "\n",
    "        data = {\n",
    "            \"model\": self.model,\n",
    "            \"messages\": [{\"role\": \"user\", \"content\": prompt}],\n",
    "            \"provider\": {\"order\": self.provider_order},  # Provider preference\n",
    "        }\n",
    "\n",
    "        response = requests.post(\n",
    "            url=\"https://openrouter.ai/api/v1/chat/completions\",\n",
    "            headers=headers,\n",
    "            data=json.dumps(data)\n",
    "        )\n",
    "\n",
    "        if response.status_code == 200:\n",
    "            result = response.json()\n",
    "            return result[\"choices\"][0][\"message\"][\"content\"]\n",
    "        else:\n",
    "            raise ValueError(f\"Error {response.status_code}: {response.text}\")\n",
    "\n",
    "    @property\n",
    "    def _identifying_params(self):\n",
    "        \"\"\"Defines unique parameters for this LLM.\"\"\"\n",
    "        return {\"model\": self.model, \"provider_order\": self.provider_order}\n",
    "\n",
    "    @property\n",
    "    def _llm_type(self):\n",
    "        return \"custom_openrouter\"\n",
    "\n",
    "\n",
    "\n",
    "# Define LLM with provider preference\n",
    "llm = OpenRouterLLM(\n",
    "    openrouter_api_key=api_key,\n",
    "    model=\"deepseek/deepseek-r1-distill-llama-70b:free\",\n",
    "    #model=\"qwen/qwen-turbo\",\n",
    "    #model=\"qwen/qwen-vl-plus:free\",\n",
    "    #model=\"qwen/qwen-turbo\",    \n",
    "    provider_order=[\"Alibaba\", \"Together\", \"Targon\"]  # Provider preference\n",
    ")        \n",
    "\n",
    "LLM_TYPE=\"custom\""
   ]
  },
  {
   "cell_type": "markdown",
   "id": "18abb1f0-37d9-412d-ac00-73d34e63bb24",
   "metadata": {},
   "source": [
    "### llm definition using openai config"
   ]
  },
  {
   "cell_type": "code",
   "execution_count": null,
   "id": "a873c32e-d605-4181-81e9-193ba8af1ca8",
   "metadata": {},
   "outputs": [],
   "source": [
    "from langchain_openai import ChatOpenAI\n",
    "llm = ChatOpenAI(\n",
    "        temperature=0.7,\n",
    "        model=\"qwen/qwen-turbo\", \n",
    "        openai_api_key=api_key,\n",
    "        openai_api_base=\"https://openrouter.ai/api/v1\",\n",
    "        #provider_order=['DeepInfra','Together'],\n",
    "        #headers={\"HTTP-Referer\": constants.OPENROUTER_REFERRER},    \n",
    "    )\n",
    "\n",
    "LLM_TYPE=\"openai_type\""
   ]
  },
  {
   "cell_type": "code",
   "execution_count": 10,
   "id": "0a1ced32-da7a-41cf-9fee-5e04fc06add5",
   "metadata": {},
   "outputs": [],
   "source": [
    "#local_model = \"llama3.2\"\n",
    "#llm = ChatOllama(model=local_model)\n",
    "#LLM_TYPE=\"ollama\""
   ]
  },
  {
   "cell_type": "markdown",
   "id": "b7faec16-4d6c-4b52-95d9-fe57f350296f",
   "metadata": {},
   "source": [
    "## METHOD 1: FAST REPLY"
   ]
  },
  {
   "cell_type": "code",
   "execution_count": null,
   "id": "f35d8c6d-aea6-404c-8359-6257cd766c79",
   "metadata": {},
   "outputs": [],
   "source": [
    "from langchain import hub\n",
    "\n",
    "prompt = hub.pull(\"rlm/rag-prompt\")\n",
    "Prompt: ChatPromptTemplate(input_variables=['context', 'question'], messages=[HumanMessagePromptTemplate(prompt=PromptTemplate(input_variables=['context', 'question'], template=\"You are an assistant for question-answering tasks. Use the following pieces of retrieved context to answer the question. If you don't know the answer, just say that you don't know. Use three sentences maximum and keep the answer concise.\\nQuestion: {question} \\nContext: {context} \\nAnswer:\"))])\n",
    "chain = prompt | llm | StrOutputParser()\n",
    "\n",
    "\n",
    "chunks_answer = []\n",
    "for chunk in chain.stream({\"question\":query,\"context\":found_docs}):\n",
    "    print(chunk, end='')\n",
    "    chunks_answer.append(chunk)"
   ]
  },
  {
   "cell_type": "markdown",
   "id": "dfc45d7f-75e0-433d-8395-907172293b6b",
   "metadata": {},
   "source": [
    "## METHOD 2 : NO TOOL OR MEMORY , BUT SOURCES (compatable with all llms including qwen/qwen-vl-plus:free)"
   ]
  },
  {
   "cell_type": "code",
   "execution_count": 20,
   "id": "4298d8ba-ebfe-4c5f-a69a-962b1cb66505",
   "metadata": {},
   "outputs": [
    {
     "name": "stderr",
     "output_type": "stream",
     "text": [
      "/home/tom/apps/cache/python-envs/ML/lib/python3.11/site-packages/langsmith/client.py:241: LangSmithMissingAPIKeyWarning: API key must be provided when using hosted LangSmith API\n",
      "  warnings.warn(\n"
     ]
    }
   ],
   "source": [
    "from langchain import hub\n",
    "from langchain_core.documents import Document\n",
    "from langgraph.graph import START, StateGraph\n",
    "from typing_extensions import List, TypedDict\n",
    "\n",
    "# Define prompt for question-answering\n",
    "prompt = hub.pull(\"rlm/rag-prompt\")\n",
    "\n",
    "\n",
    "# Define state for application\n",
    "class State(TypedDict):\n",
    "    question: str\n",
    "    context: List[Document]\n",
    "    answer: str\n",
    "\n",
    "\n",
    "# Define application steps\n",
    "def retrieve(state: State):\n",
    "    retrieved_docs = qdrant.similarity_search(state[\"question\"])\n",
    "    return {\"context\": retrieved_docs}\n",
    "\n",
    "#use this generate function in case of openai format or ollama.\n",
    "def generate_orig(state: State):\n",
    "    docs_content = \"\\n\\n\".join(doc.page_content for doc in state[\"context\"])\n",
    "    messages = prompt.invoke({\"question\": state[\"question\"], \"context\": docs_content})\n",
    "    response = llm.invoke(messages)\n",
    "    return {\"answer\": response.content}\n",
    "\n",
    "##use this generate function in case of openrouter from scratch (llm in langhain)\n",
    "def generate(state: State):\n",
    "    docs_content = \"\\n\\n\".join(doc.page_content for doc in state[\"context\"])\n",
    "    \n",
    "    # Ensure the correct format for messages\n",
    "    messages = prompt.invoke({\"question\": state[\"question\"], \"context\": docs_content})\n",
    "\n",
    "    # OpenRouterLLM returns a string, so no `.content` attribute\n",
    "    response_text = llm.invoke(messages)  # This is already a string\n",
    "\n",
    "    return {\"answer\": response_text}  # Directly return the string\n",
    "    "
   ]
  },
  {
   "cell_type": "code",
   "execution_count": 21,
   "id": "72debefc-af63-4b37-8cd4-48aa5e55616d",
   "metadata": {},
   "outputs": [],
   "source": [
    "# Compile application and test\n",
    "\n",
    "if LLM_TYPE == \"ollama\" or LLM_TYPE == \"openai_type\":\n",
    "    graph_builder = StateGraph(State).add_sequence([retrieve, generate_orig])\n",
    "\n",
    "if LLM_TYPE == \"custom\":\n",
    "    graph_builder = StateGraph(State).add_sequence([retrieve, generate])\n",
    "\n",
    "graph_builder.add_edge(START, \"retrieve\")\n",
    "graph = graph_builder.compile()"
   ]
  },
  {
   "cell_type": "code",
   "execution_count": 22,
   "id": "c756feac-b99d-47af-a90c-494c177369f1",
   "metadata": {},
   "outputs": [
    {
     "data": {
      "image/png": "[encoded data removed]",
      "text/plain": [
       "<IPython.core.display.Image object>"
      ]
     },
     "metadata": {},
     "output_type": "display_data"
    }
   ],
   "source": [
    "from IPython.display import Image, display\n",
    "\n",
    "display(Image(graph.get_graph().draw_mermaid_png()))"
   ]
  },
  {
   "cell_type": "code",
   "execution_count": 23,
   "id": "df35bfe3-d81d-467c-ba25-3263e9f65a37",
   "metadata": {},
   "outputs": [
    {
     "name": "stdout",
     "output_type": "stream",
     "text": [
      "Context: [Document(metadata={'source': 'docs/todi2021.pdf', 'file_path': 'docs/todi2021.pdf', 'page': 7, 'total_pages': 13, 'format': 'PDF 1.7', 'title': 'Adapting User Interfaces with Model-based Reinforcement Learning', 'author': 'Kashyap Todi', 'subject': '-  Human-centered computing  ->  Interactive systems and tools.', 'keywords': 'Adaptive User Interfaces; Reinforcement Learning; Predictive Models; Monte Carlo Tree Search', 'creator': 'LaTeX with acmart 2020/11/15 v1.75 Typesetting articles for the Association for Computing Machinery and hyperref 2018/02/06 v6.86b Hypertext links for LaTeX', 'producer': 'pdfTeX-1.40.19', 'creationDate': 'D:20210314174636Z', 'modDate': \"D:20210318182844+02'00'\", 'trapped': '', '_id': 'cad0e432b27849789d833f9fd19fc6cb', '_collection_name': 'my_documents'}, page_content='then passed to a fully connected layer. Finally, the click history \\nis passed to an LSTM layer, which models sequential data and is \\nDesign Data\\nCurrent\\nMatrix\\nAdapted\\nMatrix\\nUser Data`\\nLSTM\\nDropout\\nFully\\nConnected\\nDifference\\nLSTM\\nDropout\\nFully\\nConnected\\nCurrent\\nFrequency\\nEstimated\\nFrequency\\nConcatenator\\nEmbedding\\nFlatten\\nDropout\\nFully\\nConnected\\nAdapted\\nMenu\\nDropout\\nFully\\nConnected\\nFully\\nConnected\\nReward\\nSerial\\nDropout\\nFully\\nConnected\\nFully\\nConnected\\nReward\\nSerial\\nDropout\\nFully\\nConnected\\nFully\\nConnected\\nReward\\nSerial\\nDifference\\nFigure 6: Our value network architecture takes menu design \\nand user features as input to provide individual reward pre\\xad\\ndictions.'), Document(metadata={'source': 'docs/todi2021.pdf', 'file_path': 'docs/todi2021.pdf', 'page': 8, 'total_pages': 13, 'format': 'PDF 1.7', 'title': 'Adapting User Interfaces with Model-based Reinforcement Learning', 'author': 'Kashyap Todi', 'subject': '-  Human-centered computing  ->  Interactive systems and tools.', 'keywords': 'Adaptive User Interfaces; Reinforcement Learning; Predictive Models; Monte Carlo Tree Search', 'creator': 'LaTeX with acmart 2020/11/15 v1.75 Typesetting articles for the Association for Computing Machinery and hyperref 2018/02/06 v6.86b Hypertext links for LaTeX', 'producer': 'pdfTeX-1.40.19', 'creationDate': 'D:20210314174636Z', 'modDate': \"D:20210318182844+02'00'\", 'trapped': '', '_id': '662096a58cd04835bb50d0569583a8b3', '_collection_name': 'my_documents'}, page_content='wards: model-based simulations and value neural network predictions. \\nWith model-based simulations, predictive models are used during \\nroll-outs to estimate rewards for each state. With value network \\npredictions, our pre-trained network models are used to predict \\nvalue estimates for each state. \\n6.1.2 Implementation. Our MCTS-based planning algorithm, and \\nthe predictive menu models, are implemented in Python 3.7. The \\nvalue neural network is implemented with TensorFlow 2.0.0. We \\nGloves: 0.6\\nCarrot: 0.16\\nPanda: 0.1\\nTable: 0.06\\nBeans: 0.06\\nBikini: 0.02\\n(Others: 0)\\nUser Interest\\n(Frequencies)\\nPredicted Average\\nSelection Time (s)\\n13.6s\\n7.2s\\nCurrent\\nAdapted\\nAdapt x 3\\nFigure 7: A sample result from the simulation study, for a 15\\xad\\nitem menu design. In 3 steps, the menu was adapted to better \\nsuit the given user’s interests (‘Gloves’ group moved to the \\ntop), and improved some grouping (‘Carrot’ with ‘Potato’) as \\nwell. \\nused a GNU/Linux server with an Intel Xeon Gold CPU @ 2.10 GHz \\n(64 bit processor) for simulations. The execution of the study was \\nautomated such that trials were conducted sequentially, to avoid \\nvariations in computational resource usage. \\nDuring each trial, a combination of {menu size × user history × \\nmenu design × objective function × reward source} was selected, \\nand given as input to the system. In a constrained setting, the MCTS \\nalgorithm was allowed 400 iterations, and a shallow roll-out horizon'), Document(metadata={'source': 'docs/todi2021.pdf', 'file_path': 'docs/todi2021.pdf', 'page': 4, 'total_pages': 13, 'format': 'PDF 1.7', 'title': 'Adapting User Interfaces with Model-based Reinforcement Learning', 'author': 'Kashyap Todi', 'subject': '-  Human-centered computing  ->  Interactive systems and tools.', 'keywords': 'Adaptive User Interfaces; Reinforcement Learning; Predictive Models; Monte Carlo Tree Search', 'creator': 'LaTeX with acmart 2020/11/15 v1.75 Typesetting articles for the Association for Computing Machinery and hyperref 2018/02/06 v6.86b Hypertext links for LaTeX', 'producer': 'pdfTeX-1.40.19', 'creationDate': 'D:20210314174636Z', 'modDate': \"D:20210318182844+02'00'\", 'trapped': '', '_id': 'dc11c6746b0246b4aad20597660a17c1', '_collection_name': 'my_documents'}, page_content='unexplored states. \\n...\\n...\\n...\\n...\\nConcatenation\\nInput Branches \\n(Model)\\nInput\\nDesign\\nFeatures\\nUser\\nFeatures\\nOutput Branches\\n(Model)\\nValue\\nPredictions\\nModel-based\\nTraining Data\\nFigure 3: Neural network architecture for obtaining value \\nestimates. Training data is generated using HCI models. \\nAs illustrated in Figure 3, we propose an m-headed n-tailed ar\\xad\\nchitecture that is trained end-to-end with backpropagation. Each of \\nthe m input parameters is treated as an independent model branch \\n(head) that is eventually concatenated and passed to n independent \\nmodel branches (tails). During ofine training, model-based data \\nis generated using MCTS roll-outs from randomly sampled initial \\nstates. Value estimates, along with state (design and user) informa\\xad\\ntion, are given as input samples to a deep neural network model. \\nElementary design and user features are parameterised with the \\nneural network model. This is then used to predict value estimates \\nfor any given state in an online setting. Note that we decouple \\nvalue estimations from objective functions (see above), leaving it \\nup to the adaptive system to decide how to use information from \\nmultiple models. The main advantages of using neural networks \\nfor estimation are that they have high learning capacity, and can \\nevaluate thousands of states in real-time without running expensive \\nsimulations. \\n4.3 Applications in Adaptive Interfaces \\nWith certain conditions we outline here, the approach we outline'), Document(metadata={'source': 'docs/todi2021.pdf', 'file_path': 'docs/todi2021.pdf', 'page': 9, 'total_pages': 13, 'format': 'PDF 1.7', 'title': 'Adapting User Interfaces with Model-based Reinforcement Learning', 'author': 'Kashyap Todi', 'subject': '-  Human-centered computing  ->  Interactive systems and tools.', 'keywords': 'Adaptive User Interfaces; Reinforcement Learning; Predictive Models; Monte Carlo Tree Search', 'creator': 'LaTeX with acmart 2020/11/15 v1.75 Typesetting articles for the Association for Computing Machinery and hyperref 2018/02/06 v6.86b Hypertext links for LaTeX', 'producer': 'pdfTeX-1.40.19', 'creationDate': 'D:20210314174636Z', 'modDate': \"D:20210318182844+02'00'\", 'trapped': '', '_id': '6cb458a7f86c4b2387ea096bd7b38c94', '_collection_name': 'my_documents'}, page_content='CHI ’21, May 8–13, 2021, Yokohama, Japan \\nKashyap Todi, Gilles Bailly, Luis A. Leiva, and Anti Oulasvirta \\nSimulation\\nValue Network\\n4\\n6\\n8\\n10\\n0\\n10\\n20\\n30\\n40\\n50\\nCompletion Time in s (400 iterations)\\nSearch Depth (Horizon)\\nFigure 8: Computation time for planning adaptations via \\nmodel-based simulations vs. value network for varying \\nsearch depths. Our value network exhibited consistent per\\xad\\nformance for longer horizons. \\n6, 8, and 10 – depicting a range of planning horizons, from short \\nsequences to longer sequences. \\nFigure 8 illustrates computation time results for each depth level \\n(for 400 MCTS iterations). We observe that for depths ≤ 4, the value \\nnetwork does not provide much beneft. However, as search depth \\nincreases, while the computation time with our value network \\nremains constant (mean M = 7.77s, SD = 1.0), it drastically increases \\nwith simulations (from M = 7.9s, SD = 3.5s at depth 4 to M = 39.0s, \\nSD = 7.4 at depth 10). \\n6.2 Empirical Evaluation \\nThe primary goal of this evaluation is to test whether our planning \\napproach (henceforth MCTS) applied to linear menus improves \\nperformance in comparison with static menus (Static), and with \\nthe well-known frequency-based adaptive approach (Freqency) \\nas a baseline (e.g. as in [34]). In MCTS, the menu adapts after each \\nblock by planning adaptations; in Static, the menu does not adapt \\nover time; in Freqency, the menu adapts based on the frequency \\nof clicks on menu items. To this end, we conducted a lab study')]\n",
      "\n",
      "\n",
      "Answer: A value network is a neural network model that predicts reward values for different states, using design and user features as inputs. It is trained to provide efficient, real-time value estimates, avoiding the computational cost of simulations, and is particularly effective for planning in applications like adaptive menu systems.\n"
     ]
    }
   ],
   "source": [
    "result = graph.invoke({\"question\": \"What is value network?\"})\n",
    "\n",
    "print(f'Context: {result[\"context\"]}\\n\\n')\n",
    "print(f'Answer: {result[\"answer\"]}')"
   ]
  },
  {
   "cell_type": "code",
   "execution_count": null,
   "id": "08eaace3-b18a-46ba-aba1-ecbc6df4c0ae",
   "metadata": {},
   "outputs": [],
   "source": [
    "result"
   ]
  },
  {
   "cell_type": "markdown",
   "id": "17b653f4-0cf8-421c-90e8-872aa1a97eda",
   "metadata": {},
   "source": [
    "## METHOD 3 : WITH MEMORY AND SOURCES (needs tool support in model, works with ollama and other paid models)"
   ]
  },
  {
   "cell_type": "code",
   "execution_count": 12,
   "id": "3a057940-5fbf-416e-abd2-50f5e8bd22e8",
   "metadata": {},
   "outputs": [],
   "source": [
    "from langchain_core.tools import tool\n",
    "\n",
    "\n",
    "@tool(response_format=\"content_and_artifact\")\n",
    "def retrieve(query: str):\n",
    "    \"\"\"Retrieve information related to a query.\"\"\"\n",
    "    retrieved_docs = qdrant.similarity_search(query, k=2)\n",
    "    serialized = \"\\n\\n\".join(\n",
    "        (f\"Source: {doc.metadata}\\n\" f\"Content: {doc.page_content}\")\n",
    "        for doc in retrieved_docs\n",
    "    )\n",
    "    return serialized, retrieved_docs"
   ]
  },
  {
   "cell_type": "code",
   "execution_count": 13,
   "id": "507d2787-a439-4d97-b8be-50feb25a67dc",
   "metadata": {},
   "outputs": [],
   "source": [
    "from langchain_core.messages import SystemMessage\n",
    "from langgraph.graph import END, MessagesState, StateGraph\n",
    "from langgraph.prebuilt import ToolNode, tools_condition\n",
    "import re\n",
    "from langchain_core.messages import AIMessage, HumanMessage\n",
    "import json\n",
    "\n",
    "\n",
    "class State(MessagesState):\n",
    "    context: List[Document]\n",
    "\n",
    "def create_prompt(state: State):\n",
    "    \"\"\"Formats the chat history and retrieved context into a proper prompt.\"\"\"\n",
    "    history = [\n",
    "        message for message in state[\"messages\"] if isinstance(message, (AIMessage, HumanMessage))\n",
    "    ]\n",
    "    \n",
    "    docs_content = \"\".join(state.get(\"context\", []))  # Retrieved documents\n",
    "    system_message = SystemMessage(\n",
    "        \"You are an assistant for question-answering tasks. \"\n",
    "        \"Use the following retrieved context to provide answers. \"\n",
    "        \"If the answer isn't available in the context, say you don't know.\"\n",
    "        f\"\\n\\nContext:\\n{docs_content}\"\n",
    "    )\n",
    "\n",
    "    return [system_message] + history\n",
    "\n",
    "\n",
    "\n",
    "# Step 1: Generate an AIMessage that may include a tool-call to be sent.\n",
    "\n",
    "#use this generate function in case of openai format or ollama.\n",
    "def query_or_respond_orig(state: State):\n",
    "    \"\"\"Generate tool call for retrieval or respond.\"\"\"\n",
    "    llm_with_tools = llm.bind_tools([retrieve]) \n",
    "    response = llm_with_tools.invoke(state[\"messages\"]) \n",
    "    # MessagesState appends messages to state instead of overwriting\n",
    "    return {\"messages\": [response]}\n",
    "\n",
    "#use this generate function in case of openrouter from scratch (llm in langhain)\n",
    "def query_or_respond(state: State):\n",
    "    \"\"\"Determine whether to retrieve documents or respond directly.\"\"\"\n",
    "    user_message = state[\"messages\"][-1]  # Get the latest user message\n",
    "\n",
    "    retrieved_docs = retrieve.invoke({\"query\": user_message.content})\n",
    "\n",
    "    #print('retreived docs 1',retrieved_docs)\n",
    "    \n",
    "    state['context'] = retrieved_docs\n",
    "    # Proceed with processing\n",
    "    prompt = create_prompt({\"messages\": state[\"messages\"], \"context\": state[\"context\"]})\n",
    "    response_text = llm.invoke(prompt)\n",
    "    response = AIMessage(content=response_text)\n",
    "    \n",
    "    return {\"messages\": [response]}\n",
    "\n",
    "# Step 2: Execute the retrieval.\n",
    "tools = ToolNode([retrieve])\n",
    "\n",
    "\n",
    "# Step 3: Generate a response using the retrieved content.\n",
    "#use this generate function in case of openai format or ollama.\n",
    "def generate_orig(state: MessagesState):\n",
    "    \"\"\"Generate answer.\"\"\"\n",
    "    # Get generated ToolMessages\n",
    "    recent_tool_messages = []\n",
    "    for message in reversed(state[\"messages\"]):\n",
    "        if message.type == \"tool\":\n",
    "            recent_tool_messages.append(message)\n",
    "        else:\n",
    "            break\n",
    "    tool_messages = recent_tool_messages[::-1]\n",
    "\n",
    "    # Format into prompt\n",
    "    docs_content = \"\\n\\n\".join(doc.content for doc in tool_messages)\n",
    "    system_message_content = (\n",
    "        \"You are an assistant for question-answering tasks. \"\n",
    "        \"Use the following pieces of retrieved context to answer \"\n",
    "        \"the question. If you don't know the answer, say that you \"\n",
    "        \"don't know. Use three sentences maximum and keep the \"\n",
    "        \"answer concise.\"\n",
    "        \"\\n\\n\"\n",
    "        f\"{docs_content}\"\n",
    "    )\n",
    "    conversation_messages = [\n",
    "        message\n",
    "        for message in state[\"messages\"]\n",
    "        if message.type in (\"human\", \"system\")\n",
    "        or (message.type == \"ai\" and not message.tool_calls)\n",
    "    ]\n",
    "    prompt = [SystemMessage(system_message_content)] + conversation_messages\n",
    "\n",
    "    # Run\n",
    "    response = llm.invoke(prompt)\n",
    "    context = []\n",
    "    for tool_message in tool_messages:\n",
    "        context.extend(tool_message.artifact)\n",
    "    return {\"messages\": [response], \"context\": context}\n",
    "\n",
    "\n",
    "#use this generate function in case of openrouter from scratch (llm in langhain)\n",
    "def generate(state: MessagesState):\n",
    "    \"\"\"Generate answer.\"\"\"\n",
    "    # Get generated ToolMessages\n",
    "    print('executed')\n",
    "    recent_tool_messages = []\n",
    "    for message in reversed(state[\"messages\"]):\n",
    "        if message.type == \"tool\":\n",
    "            recent_tool_messages.append(message)\n",
    "        else:\n",
    "            break\n",
    "    tool_messages = recent_tool_messages[::-1]\n",
    "\n",
    "    # Format into prompt\n",
    "    docs_content = \"\\n\\n\".join(doc.content for doc in tool_messages)\n",
    "    system_message_content = (\n",
    "        \"You are an assistant for question-answering tasks. \"\n",
    "        \"Use the following pieces of retrieved context to answer \"\n",
    "        \"the question. If you don't know the answer, say that you \"\n",
    "        \"don't know. Use three sentences maximum and keep the \"\n",
    "        \"answer concise.\"\n",
    "        \"\\n\\n\"\n",
    "        f\"{docs_content}\"\n",
    "    )\n",
    "    conversation_messages = [\n",
    "        message\n",
    "        for message in state[\"messages\"]\n",
    "        if message.type in (\"human\", \"system\")\n",
    "        or (message.type == \"ai\" and not message.tool_calls)\n",
    "    ]\n",
    "    prompt = [SystemMessage(system_message_content)] + conversation_messages\n",
    "\n",
    "    # Run LLM\n",
    "    response_text = llm.invoke(prompt)  # OpenRouterLLM returns a string\n",
    "\n",
    "    # Convert response string into AIMessage (fixes the issue)\n",
    "    response = AIMessage(content=response_text)\n",
    "\n",
    "    # Extract context from tool messages\n",
    "    context = []\n",
    "    for tool_message in tool_messages:\n",
    "        context.extend(tool_message.artifact)\n",
    "\n",
    "    return {\"messages\": [response], \"context\": context}    "
   ]
  },
  {
   "cell_type": "code",
   "execution_count": 14,
   "id": "e63dfbad-0adb-4764-b79d-1cbc15dd317f",
   "metadata": {},
   "outputs": [],
   "source": [
    "graph_builder = StateGraph(MessagesState)\n",
    "\n",
    "\n",
    "if LLM_TYPE == \"ollama\" or LLM_TYPE == \"openai_type\":\n",
    "    graph_builder.add_node(query_or_respond_orig)\n",
    "    graph_builder.add_node(tools)\n",
    "    graph_builder.add_node(generate_orig)\n",
    "    \n",
    "    graph_builder.set_entry_point(\"query_or_respond_orig\")\n",
    "    graph_builder.add_conditional_edges(\n",
    "        \"query_or_respond_orig\",\n",
    "        tools_condition,\n",
    "        {END: END, \"tools\": \"tools\"},\n",
    "    )\n",
    "    graph_builder.add_edge(\"tools\", \"generate_orig\")\n",
    "    graph_builder.add_edge(\"generate_orig\", END)\n",
    "\n",
    "if LLM_TYPE == \"custom\":\n",
    "    graph_builder.add_node(query_or_respond)\n",
    "    graph_builder.add_node(tools)\n",
    "    graph_builder.add_node(generate)\n",
    "    \n",
    "    graph_builder.set_entry_point(\"query_or_respond\")\n",
    "    graph_builder.add_conditional_edges(\n",
    "        \"query_or_respond\",\n",
    "        tools_condition,\n",
    "        {END: END, \"tools\": \"tools\"},\n",
    "    )\n",
    "    graph_builder.add_edge(\"tools\", \"generate\")\n",
    "    graph_builder.add_edge(\"generate\", END)\n",
    "\n",
    "from langgraph.checkpoint.memory import MemorySaver\n",
    "\n",
    "memory = MemorySaver()\n",
    "graph = graph_builder.compile(checkpointer=memory)\n",
    "\n",
    "# Specify an ID for the thread\n",
    "config = {\"configurable\": {\"thread_id\": \"abc123\"}}"
   ]
  },
  {
   "cell_type": "code",
   "execution_count": 15,
   "id": "385f235d-f9c6-46bf-b8e1-614c64a99bd2",
   "metadata": {},
   "outputs": [
    {
     "data": {
      "image/png": "[encoded data removed]",
      "text/plain": [
       "<IPython.core.display.Image object>"
      ]
     },
     "metadata": {},
     "output_type": "display_data"
    }
   ],
   "source": [
    "from IPython.display import Image, display\n",
    "display(Image(graph.get_graph().draw_mermaid_png()))"
   ]
  },
  {
   "cell_type": "code",
   "execution_count": null,
   "id": "e0c3cec5-1382-4006-9ca7-109c302086b7",
   "metadata": {},
   "outputs": [
    {
     "name": "stdout",
     "output_type": "stream",
     "text": [
      "================================\u001b[1m Human Message \u001b[0m=================================\n",
      "\n",
      "tell me about mcts\n"
     ]
    }
   ],
   "source": [
    "input_message = \"tell me about mcts\"\n",
    "\n",
    "for step in graph.stream(\n",
    "    {\"messages\": [{\"role\": \"user\", \"content\": input_message}]},\n",
    "    config,\n",
    "    stream_mode=\"values\",\n",
    "):\n",
    "    step[\"messages\"][-1].pretty_print()"
   ]
  },
  {
   "cell_type": "code",
   "execution_count": 17,
   "id": "9e7b5d41-56f7-45c1-8908-d78d66344c24",
   "metadata": {},
   "outputs": [],
   "source": [
    "input_message = \"whats value network?\"\n",
    "\n",
    "response = graph.invoke({\"messages\": [{\"role\": \"user\", \"content\": input_message}]},config,stream_mode=\"values\",)\n"
   ]
  },
  {
   "cell_type": "code",
   "execution_count": null,
   "id": "5c42622b-6de3-4b54-bc35-c030a868e597",
   "metadata": {},
   "outputs": [],
   "source": [
    "response"
   ]
  },
  {
   "cell_type": "markdown",
   "id": "37d52b2f-ddf5-4d87-9947-b58bc0cfb969",
   "metadata": {},
   "source": [
    "## METHOD 4: CONVERSATIONAL RAG CHAIN (supports all)"
   ]
  },
  {
   "cell_type": "code",
   "execution_count": 17,
   "id": "a3ff8d3f-6c2e-41dc-be17-62a95034d675",
   "metadata": {},
   "outputs": [],
   "source": [
    "\n",
    "from langchain_core.prompts import ChatPromptTemplate, MessagesPlaceholder\n",
    "from langchain.chains import create_history_aware_retriever, create_retrieval_chain\n",
    "from langchain.chains.combine_documents import create_stuff_documents_chain\n",
    "from langchain_core.chat_history import BaseChatMessageHistory\n",
    "from langchain_core.runnables.history import RunnableWithMessageHistory\n",
    "from langchain_community.chat_message_histories import ChatMessageHistory\n",
    "\n",
    "### Contextualize question ###\n",
    "contextualize_q_system_prompt = (\n",
    "    \"Given a chat history and the latest user question \"\n",
    "    \"which might reference context in the chat history, \"\n",
    "    \"formulate a standalone question which can be understood \"\n",
    "    \"without the chat history. Do NOT answer the question, \"\n",
    "    \"just reformulate it if needed and otherwise return it as is.\"\n",
    ")\n",
    "contextualize_q_prompt = ChatPromptTemplate.from_messages(\n",
    "    [\n",
    "        (\"system\", contextualize_q_system_prompt),\n",
    "        MessagesPlaceholder(\"chat_history\"),\n",
    "        (\"human\", \"{input}\"),\n",
    "    ]\n",
    ")\n",
    "history_aware_retriever = create_history_aware_retriever(\n",
    "    llm, retriever, contextualize_q_prompt\n",
    ")\n",
    "\n",
    "\n",
    "### Answer question ###\n",
    "system_prompt = (\n",
    "    \"You are an assistant for question-answering tasks. \"\n",
    "    \"Use the following pieces of retrieved context to answer \"\n",
    "    \"the question. If you don't know the answer, say that you \"\n",
    "    \"don't know. Use three sentences maximum and keep the \"\n",
    "    \"answer concise.\"\n",
    "    \"\\n\\n\"\n",
    "    \"{context}\"\n",
    ")\n",
    "qa_prompt = ChatPromptTemplate.from_messages(\n",
    "    [\n",
    "        (\"system\", system_prompt),\n",
    "        MessagesPlaceholder(\"chat_history\"),\n",
    "        (\"human\", \"{input}\"),\n",
    "    ]\n",
    ")\n",
    "question_answer_chain = create_stuff_documents_chain(llm, qa_prompt)\n",
    "\n",
    "rag_chain = create_retrieval_chain(history_aware_retriever, question_answer_chain)\n",
    "\n",
    "\n",
    "### Statefully manage chat history ###\n",
    "store = {}\n",
    "\n",
    "\n",
    "def get_session_history(session_id: str) -> BaseChatMessageHistory:\n",
    "    if session_id not in store:\n",
    "        store[session_id] = ChatMessageHistory()\n",
    "    return store[session_id]\n",
    "\n",
    "\n",
    "conversational_rag_chain = RunnableWithMessageHistory(\n",
    "    rag_chain,\n",
    "    get_session_history,\n",
    "    input_messages_key=\"input\",\n",
    "    history_messages_key=\"chat_history\",\n",
    "    output_messages_key=\"answer\",\n",
    ")\n",
    "\n"
   ]
  },
  {
   "cell_type": "code",
   "execution_count": 18,
   "id": "cd91c90a-c535-48d7-95b1-68a28cf09b70",
   "metadata": {},
   "outputs": [
    {
     "name": "stdout",
     "output_type": "stream",
     "text": [
      "The system uses a neural network architecture to predict value estimates for adaptive interfaces, handling design and user features through concatenated branches. It leverages Monte Carlo Tree Search (MCTS) for training data generation and processes sequential user interactions using LSTM layers. This setup allows efficient, real-time predictions without costly simulations, supporting dynamic applications effectively."
     ]
    }
   ],
   "source": [
    "chunks = []\n",
    "for chunk in conversational_rag_chain.stream({\"input\": \"tell me a bit more?\"}, config={\"configurable\": {\"session_id\": \"abc123\"}}):\n",
    "    chunks.append(chunk)\n",
    "    if 'answer' in chunk:\n",
    "        print(chunk['answer'], end='')\n",
    "    else:\n",
    "        pass"
   ]
  },
  {
   "cell_type": "code",
   "execution_count": 19,
   "id": "e6a2ab82-3e41-4e9e-bd30-608e69040eb3",
   "metadata": {},
   "outputs": [
    {
     "name": "stdout",
     "output_type": "stream",
     "text": [
      "Context: [Document(metadata={'source': 'docs/todi2021.pdf', 'file_path': 'docs/todi2021.pdf', 'page': 4, 'total_pages': 13, 'format': 'PDF 1.7', 'title': 'Adapting User Interfaces with Model-based Reinforcement Learning', 'author': 'Kashyap Todi', 'subject': '-  Human-centered computing  ->  Interactive systems and tools.', 'keywords': 'Adaptive User Interfaces; Reinforcement Learning; Predictive Models; Monte Carlo Tree Search', 'creator': 'LaTeX with acmart 2020/11/15 v1.75 Typesetting articles for the Association for Computing Machinery and hyperref 2018/02/06 v6.86b Hypertext links for LaTeX', 'producer': 'pdfTeX-1.40.19', 'creationDate': 'D:20210314174636Z', 'modDate': \"D:20210318182844+02'00'\", 'trapped': '', '_id': 'dc11c6746b0246b4aad20597660a17c1', '_collection_name': 'my_documents'}, page_content='unexplored states. \\n...\\n...\\n...\\n...\\nConcatenation\\nInput Branches \\n(Model)\\nInput\\nDesign\\nFeatures\\nUser\\nFeatures\\nOutput Branches\\n(Model)\\nValue\\nPredictions\\nModel-based\\nTraining Data\\nFigure 3: Neural network architecture for obtaining value \\nestimates. Training data is generated using HCI models. \\nAs illustrated in Figure 3, we propose an m-headed n-tailed ar\\xad\\nchitecture that is trained end-to-end with backpropagation. Each of \\nthe m input parameters is treated as an independent model branch \\n(head) that is eventually concatenated and passed to n independent \\nmodel branches (tails). During ofine training, model-based data \\nis generated using MCTS roll-outs from randomly sampled initial \\nstates. Value estimates, along with state (design and user) informa\\xad\\ntion, are given as input samples to a deep neural network model. \\nElementary design and user features are parameterised with the \\nneural network model. This is then used to predict value estimates \\nfor any given state in an online setting. Note that we decouple \\nvalue estimations from objective functions (see above), leaving it \\nup to the adaptive system to decide how to use information from \\nmultiple models. The main advantages of using neural networks \\nfor estimation are that they have high learning capacity, and can \\nevaluate thousands of states in real-time without running expensive \\nsimulations. \\n4.3 Applications in Adaptive Interfaces \\nWith certain conditions we outline here, the approach we outline'), Document(metadata={'source': 'docs/todi2021.pdf', 'file_path': 'docs/todi2021.pdf', 'page': 8, 'total_pages': 13, 'format': 'PDF 1.7', 'title': 'Adapting User Interfaces with Model-based Reinforcement Learning', 'author': 'Kashyap Todi', 'subject': '-  Human-centered computing  ->  Interactive systems and tools.', 'keywords': 'Adaptive User Interfaces; Reinforcement Learning; Predictive Models; Monte Carlo Tree Search', 'creator': 'LaTeX with acmart 2020/11/15 v1.75 Typesetting articles for the Association for Computing Machinery and hyperref 2018/02/06 v6.86b Hypertext links for LaTeX', 'producer': 'pdfTeX-1.40.19', 'creationDate': 'D:20210314174636Z', 'modDate': \"D:20210318182844+02'00'\", 'trapped': '', '_id': '662096a58cd04835bb50d0569583a8b3', '_collection_name': 'my_documents'}, page_content='wards: model-based simulations and value neural network predictions. \\nWith model-based simulations, predictive models are used during \\nroll-outs to estimate rewards for each state. With value network \\npredictions, our pre-trained network models are used to predict \\nvalue estimates for each state. \\n6.1.2 Implementation. Our MCTS-based planning algorithm, and \\nthe predictive menu models, are implemented in Python 3.7. The \\nvalue neural network is implemented with TensorFlow 2.0.0. We \\nGloves: 0.6\\nCarrot: 0.16\\nPanda: 0.1\\nTable: 0.06\\nBeans: 0.06\\nBikini: 0.02\\n(Others: 0)\\nUser Interest\\n(Frequencies)\\nPredicted Average\\nSelection Time (s)\\n13.6s\\n7.2s\\nCurrent\\nAdapted\\nAdapt x 3\\nFigure 7: A sample result from the simulation study, for a 15\\xad\\nitem menu design. In 3 steps, the menu was adapted to better \\nsuit the given user’s interests (‘Gloves’ group moved to the \\ntop), and improved some grouping (‘Carrot’ with ‘Potato’) as \\nwell. \\nused a GNU/Linux server with an Intel Xeon Gold CPU @ 2.10 GHz \\n(64 bit processor) for simulations. The execution of the study was \\nautomated such that trials were conducted sequentially, to avoid \\nvariations in computational resource usage. \\nDuring each trial, a combination of {menu size × user history × \\nmenu design × objective function × reward source} was selected, \\nand given as input to the system. In a constrained setting, the MCTS \\nalgorithm was allowed 400 iterations, and a shallow roll-out horizon'), Document(metadata={'source': 'docs/todi2021.pdf', 'file_path': 'docs/todi2021.pdf', 'page': 4, 'total_pages': 13, 'format': 'PDF 1.7', 'title': 'Adapting User Interfaces with Model-based Reinforcement Learning', 'author': 'Kashyap Todi', 'subject': '-  Human-centered computing  ->  Interactive systems and tools.', 'keywords': 'Adaptive User Interfaces; Reinforcement Learning; Predictive Models; Monte Carlo Tree Search', 'creator': 'LaTeX with acmart 2020/11/15 v1.75 Typesetting articles for the Association for Computing Machinery and hyperref 2018/02/06 v6.86b Hypertext links for LaTeX', 'producer': 'pdfTeX-1.40.19', 'creationDate': 'D:20210314174636Z', 'modDate': \"D:20210318182844+02'00'\", 'trapped': '', '_id': '8d46fd8470684d86b876bc20fa332141', '_collection_name': 'my_documents'}, page_content='costly changes. \\nWe support several ways for selecting adaptation that allows \\ncontrolling for the trade-of between risk and gain. Our approach \\nassumes that there are multiple predictive HCI models that bound \\nthe true behaviour, for example by ofering best-case and (realistic) \\nworst-case estimates. Alternatively, predictive models can be in\\xad\\ncluded to address multiple objectives, such as task completion time, \\ncognitive load, and disruption [25]. Combining value estimations \\nfrom all models, we can implement diferent objective functions, \\nsuch as: \\n(1) Average: The mean of rewards from each model gives total \\nreward r, thus accounting for varying user strategies. \\n(2) Optimistic: The system assumes optimal user strategy, and \\nselects the model that maximises rewards. \\n(3) Conservative: The system ensures that no user strategy is \\nharmed by selecting the lowest-possible reward, and penal\\xad\\nising negative rewards. \\n4.2 Value Estimation with Deep Neural \\nNetworks \\nTo address large problem sizes in online settings, where repeating \\na sufcient number of MCTS simulations to attain robust estimates \\nis infeasible, we develop a deep neural network architecture that \\ncan efciently provide predictions in real-time. In place of roll-\\nouts, where simulations can be costly for longer horizons, a pre\\xad\\ntrained value network is used to directly obtain value estimates for \\nunexplored states. \\n...\\n...\\n...\\n...\\nConcatenation\\nInput Branches \\n(Model)\\nInput\\nDesign\\nFeatures\\nUser\\nFeatures'), Document(metadata={'source': 'docs/todi2021.pdf', 'file_path': 'docs/todi2021.pdf', 'page': 1, 'total_pages': 13, 'format': 'PDF 1.7', 'title': 'Adapting User Interfaces with Model-based Reinforcement Learning', 'author': 'Kashyap Todi', 'subject': '-  Human-centered computing  ->  Interactive systems and tools.', 'keywords': 'Adaptive User Interfaces; Reinforcement Learning; Predictive Models; Monte Carlo Tree Search', 'creator': 'LaTeX with acmart 2020/11/15 v1.75 Typesetting articles for the Association for Computing Machinery and hyperref 2018/02/06 v6.86b Hypertext links for LaTeX', 'producer': 'pdfTeX-1.40.19', 'creationDate': 'D:20210314174636Z', 'modDate': \"D:20210318182844+02'00'\", 'trapped': '', '_id': '89dfa7f68d184695853357e2a1c43cb7', '_collection_name': 'my_documents'}, page_content='CHI ’21, May 8–13, 2021, Yokohama, Japan \\nKashyap Todi, Gilles Bailly, Luis A. Leiva, and Anti Oulasvirta \\n1 INTRODUCTION \\nAdaptive user interfaces can autonomously change the content, \\nlayout, or style of an interface to improve their ft with the user’s \\ncapabilities and interests. This paper looks at a foundational tech\\xad\\nnical problem of adaptive interfaces that lies at the intersection \\nof human–computer interaction and machine learning research: \\nHow to select adaptations? An adaptive system must decide what to \\nadapt, and when – or when not – to make changes. Diferent com\\xad\\nputational approaches to this problem have been studied, among \\nothers, rule-based systems, heuristics, bandits, Bayesian optimisa\\xad\\ntion, and supervised learning (see section 2). Although positive em\\xad\\npirical results have been obtained (e.g., [4, 13, 17, 46, 49, 51, 52, 54]), \\nknown approaches have been criticised for being unpredictable and \\nunreliable; they pick detrimental adaptations unacceptably often \\n[16, 22, 33, 36, 56]. \\nEstimation of utility is required for selecting an adaptation. Utility \\n– in this case – refers to the usefulness of an adaptation to the user, \\nor how it is perceived to beneft interaction when possible costs \\nare taken into account. Picking an adaptation can be considered \\na hypothesis on how useful it is for user. Unfortunately, utility \\nis very hard to estimate accurately – hard both at design time \\nas well as interactively from the kind of data these systems have')]\n",
      "\n",
      "\n",
      "Answer: The value network is a deep neural network that predicts value estimates for states in adaptive interfaces. It is trained using model-based data generated by Monte Carlo Tree Search (MCTS) roll-outs and processes design and user features through a multi-headed, multi-tailed architecture. This allows the system to make real-time predictions efficiently without relying on costly simulations.\n"
     ]
    }
   ],
   "source": [
    "result = conversational_rag_chain.invoke({\"input\": \"what is value network?\"}, config={\"configurable\": {\"session_id\": \"abc123\"}})\n",
    "\n",
    "print(f'Context: {result[\"context\"]}\\n\\n')\n",
    "print(f'Answer: {result[\"answer\"]}')"
   ]
  },
  {
   "cell_type": "markdown",
   "id": "5bcf0cd8-65ec-431c-9a39-b76ec2361055",
   "metadata": {},
   "source": [
    "## METHOD 5: AGENT EXECUTOR METHOD (support ollama and paid models, doesnt work with openrouter from scratch (custom))"
   ]
  },
  {
   "cell_type": "code",
   "execution_count": 31,
   "id": "70f01dce-5fdc-4314-8fc4-2e2d073852c2",
   "metadata": {},
   "outputs": [],
   "source": [
    "from langchain.tools.retriever import create_retriever_tool\n",
    "from langgraph.checkpoint.memory import MemorySaver\n",
    "from langgraph.prebuilt import create_react_agent\n",
    "from langchain_core.messages import AIMessage, HumanMessage\n",
    "### Build retriever tool ###\n",
    "tool = create_retriever_tool(\n",
    "    retriever,\n",
    "    \"blog_post_retriever\",\n",
    "    \"Searches and returns excerpts from the Autonomous Agents blog post.\",\n",
    ")\n",
    "tools = [tool]\n",
    "memory = MemorySaver()\n",
    "\n",
    "agent_executor = create_react_agent(llm, tools, checkpointer=memory)"
   ]
  },
  {
   "cell_type": "code",
   "execution_count": 32,
   "id": "599efd40-2391-4a6c-9cd1-cff7f43b0cc0",
   "metadata": {},
   "outputs": [
    {
     "name": "stdout",
     "output_type": "stream",
     "text": [
      "{'agent': {'messages': [AIMessage(content=\"It seems like your question is about a specific implementation, but it lacks context regarding what you're referring to. Could you please provide more details? For instance, are you asking about the implementation of a certain feature on a website, an algorithm, or perhaps a project related to autonomous agents? The more specifics you can give me, the better I can assist you with your query.\", additional_kwargs={'refusal': None}, response_metadata={'token_usage': {'completion_tokens': 76, 'prompt_tokens': 190, 'total_tokens': 266, 'completion_tokens_details': None, 'prompt_tokens_details': None}, 'model_name': 'qwen/qwen-turbo', 'system_fingerprint': None, 'finish_reason': 'stop', 'logprobs': None}, id='run-14d7e0af-ff71-4456-8ed2-34d5974f75a8-0', usage_metadata={'input_tokens': 190, 'output_tokens': 76, 'total_tokens': 266, 'input_token_details': {}, 'output_token_details': {}})]}}\n",
      "----\n"
     ]
    }
   ],
   "source": [
    "query = \"How was it implemented?\"\n",
    "# Specify an ID for the thread\n",
    "config = {\"configurable\": {\"thread_id\": \"abc123\"}}\n",
    "\n",
    "for s in agent_executor.stream(\n",
    "    {\"messages\": [HumanMessage(content=query)]}, config=config\n",
    "):\n",
    "    print(s)\n",
    "    print(\"----\")"
   ]
  },
  {
   "cell_type": "code",
   "execution_count": null,
   "id": "c7262193-694c-423f-a60d-9e698654dfbb",
   "metadata": {},
   "outputs": [],
   "source": [
    "query = \"whats value network?\"\n",
    "# Specify an ID for the thread\n",
    "config = {\"configurable\": {\"thread_id\": \"abc123\"}}\n",
    "\n",
    "response = agent_executor.invoke({\"messages\": [HumanMessage(content=query)]}, config=config)"
   ]
  },
  {
   "cell_type": "code",
   "execution_count": null,
   "id": "5b1c9bb7-b0ab-4a4a-acac-748ad3ee9cf9",
   "metadata": {},
   "outputs": [],
   "source": [
    "response"
   ]
  },
  {
   "cell_type": "markdown",
   "id": "486d2df4-0dd5-4e3f-b363-0d21ccef5d3e",
   "metadata": {},
   "source": [
    "# LLAMAINDEX"
   ]
  },
  {
   "cell_type": "code",
   "execution_count": null,
   "id": "b9eb84a7-3a7c-418b-b924-a3f4eb601099",
   "metadata": {},
   "outputs": [],
   "source": [
    "from llama_index.core import SimpleDirectoryReader\n",
    "documents = SimpleDirectoryReader(\"docs4\").load_data()"
   ]
  },
  {
   "cell_type": "code",
   "execution_count": null,
   "id": "a416cf1b-286a-4273-807e-95889f02018a",
   "metadata": {},
   "outputs": [],
   "source": [
    "#import ollama\n",
    "from llama_index.llms.ollama import Ollama\n",
    "\n",
    "llm = Ollama(model=\"llama3.1\", request_timeout=300.0)\n",
    "#llm = Ollama(model=\"llama3\",base_url=\"http://192.168.1.232:11435\") #llm = Ollama(model=\"llama2\")"
   ]
  },
  {
   "cell_type": "code",
   "execution_count": null,
   "id": "a26e949a-2658-48a1-93af-fb35b40da1d8",
   "metadata": {},
   "outputs": [],
   "source": [
    "from llama_index.core import (\n",
    "    SimpleDirectoryReader,\n",
    "    VectorStoreIndex,\n",
    "    Settings,\n",
    "    ServiceContext,\n",
    "    StorageContext,\n",
    "    load_index_from_storage,\n",
    ")\n",
    "\n",
    "from llama_index.core.tools import QueryEngineTool, ToolMetadata"
   ]
  },
  {
   "cell_type": "code",
   "execution_count": null,
   "id": "eb66caf2-3c75-4c82-b218-5fb94d6bfa82",
   "metadata": {},
   "outputs": [],
   "source": [
    "#embed_model = HuggingFaceEmbedding(model_name=\"BAAI/bge-small-en-v1.5\")\n",
    "#from llama_index.embeddings.huggingface import HuggingFaceEmbedding\n",
    "\n",
    "\n",
    "from llama_index.embeddings.ollama import OllamaEmbedding\n",
    "\n",
    "ollama_embedding = OllamaEmbedding(\n",
    "    model_name=\"mxbai-embed-large\",\n",
    "    #base_url=\"http://localhost:11434\",\n",
    "    ollama_additional_kwargs={\"mirostat\": 0},\n",
    ")"
   ]
  },
  {
   "cell_type": "code",
   "execution_count": null,
   "id": "dae78d59-2df9-4282-a05c-1b9ad26bebe7",
   "metadata": {},
   "outputs": [],
   "source": [
    "#set global parameters\n",
    "from llama_index.core.node_parser import SentenceSplitter\n",
    "\n",
    "Settings.llm = llm\n",
    "Settings.embed_model = ollama_embedding\n",
    "Settings.node_parser = SentenceSplitter(chunk_size=512, chunk_overlap=20)\n",
    "Settings.num_output = 512\n",
    "Settings.context_window = 3900\n"
   ]
  },
  {
   "cell_type": "code",
   "execution_count": null,
   "id": "f88c17d9-c2c0-47ec-bcca-09f3517f480e",
   "metadata": {},
   "outputs": [],
   "source": [
    "#Save to disc (Only execute this block if you have additional documents to be added to the database)\n",
    "\n",
    "import qdrant_client\n",
    "from llama_index.vector_stores.qdrant import QdrantVectorStore\n",
    "from llama_index.core import VectorStoreIndex\n",
    "\n",
    "\n",
    "client = qdrant_client.QdrantClient(path=\"./llamaindex_local_qdrant_pdf\")\n",
    "\n",
    "vector_store = QdrantVectorStore(client=client, collection_name=\"usability\")\n",
    "\n",
    "storage_context = StorageContext.from_defaults(vector_store=vector_store)\n",
    "index_usability = VectorStoreIndex.from_documents( documents, storage_context=storage_context, embed_model=ollama_embedding, llm=llm, node_parser = SentenceSplitter(chunk_size=512, chunk_overlap=20), num_output = 512, context_window = 3900, show_progress=True)\n",
    "\n",
    "index_usability.storage_context.persist(persist_dir=\"./llamaindex_local_qdrant_pdf\")"
   ]
  },
  {
   "cell_type": "code",
   "execution_count": null,
   "id": "1be44569-042e-4614-a0c4-edcbd7d5bce2",
   "metadata": {},
   "outputs": [],
   "source": [
    "#Load from disc\n",
    "import qdrant_client\n",
    "from llama_index.vector_stores.qdrant import QdrantVectorStore\n",
    "from llama_index.core import VectorStoreIndex\n",
    "\n",
    "\n",
    "client = qdrant_client.QdrantClient(path=\"./llamaindex_local_qdrant_pdf\")\n",
    "\n",
    "vector_store = QdrantVectorStore(client=client, collection_name=\"usability\")\n",
    "\n",
    "storage_context = StorageContext.from_defaults(vector_store=vector_store, persist_dir=\"./llamaindex_local_qdrant_pdf\")\n",
    "\n",
    "index_usability = VectorStoreIndex.from_vector_store(vector_store, storage_context=storage_context, embed_model=ollama_embedding, llm=llm, node_parser = SentenceSplitter(chunk_size=512, chunk_overlap=20), num_output = 512, context_window = 3900)"
   ]
  },
  {
   "cell_type": "markdown",
   "id": "57c0094a-dc27-499d-833d-8f9a393d8b3b",
   "metadata": {},
   "source": [
    "### Q AND A"
   ]
  },
  {
   "cell_type": "code",
   "execution_count": null,
   "id": "9ac07b44-289c-4ef3-9ad0-773ee1423034",
   "metadata": {},
   "outputs": [],
   "source": [
    "from llama_index.core import Prompt\n",
    "from llama_index.core import PromptTemplate\n",
    "\n",
    "template = (\n",
    "    \"We have provided trusted context information below. \\n\"\n",
    "    \"---------------------\\n\"\n",
    "    \"{context_str}\"\n",
    "    \"\\n---------------------\\n\"\n",
    "    \"Given this trusted and cientific information, please answer the question: {query_str}. Remember that the statements of the context are verfied and come from trusted sources.\\n\"\n",
    ")\n",
    "qa_template = Prompt(template)\n",
    "\n",
    "new_summary_tmpl_str = (\n",
    "    \"The original query is as follows: {query_str}\"\n",
    "    \"We have provided an existing answer: {existing_answer}\"\n",
    "    \"We have the opportunity to refine the existing answer (only if needed) with some more trusted context below. Remember that the statements of the context are verfied and come from trusted sources.\"\n",
    "    \"------------\"\n",
    "    \"{context_msg}\"\n",
    "    \"------------\"\n",
    "    \"Given the new trusted context, refine the original answer to better answer the query. If the context isn't useful, return the original answer. Remember that the statements of the new context are verfied and come from trusted sources.\"\n",
    "    \"Refined Answer: sure thing! \"\n",
    ")\n",
    "new_summary_tmpl = PromptTemplate(new_summary_tmpl_str)"
   ]
  },
  {
   "cell_type": "code",
   "execution_count": null,
   "id": "0d101a8a-8715-4205-a8b5-de7d68e31d21",
   "metadata": {},
   "outputs": [],
   "source": [
    "from llama_index.core.retrievers import BaseRetriever, VectorIndexRetriever, KeywordTableSimpleRetriever\n",
    "from llama_index.core import get_response_synthesizer\n",
    "from llama_index.core.query_engine import RetrieverQueryEngine\n",
    "\n",
    "retriever = VectorIndexRetriever(\n",
    "    index=index_usability,\n",
    "    similarity_top_k=4, # Change this to lower value for higher performance\n",
    ")\n",
    "\n",
    "response_synthesizer = get_response_synthesizer( ##try compact?\n",
    "    text_qa_template=qa_template,\n",
    "    streaming=True,\n",
    "    refine_template=new_summary_tmpl\n",
    ")\n",
    "query_engine3 = RetrieverQueryEngine(\n",
    "    retriever=retriever,\n",
    "    response_synthesizer=response_synthesizer,\n",
    "    # node_postprocessors=[\n",
    "    #     SimilarityPostprocessor(similarity_cutoff=0.7)\n",
    "    # ]\n",
    ")"
   ]
  },
  {
   "cell_type": "code",
   "execution_count": null,
   "id": "da62ac98-4274-4642-9a2a-dd13444a0a3f",
   "metadata": {},
   "outputs": [],
   "source": [
    "response = query_engine3.query(\"Explain value network?\")"
   ]
  },
  {
   "cell_type": "code",
   "execution_count": null,
   "id": "7e599dd7-e685-4bef-ab9f-08ce88e08d8a",
   "metadata": {},
   "outputs": [],
   "source": [
    "response.print_response_stream()"
   ]
  },
  {
   "cell_type": "code",
   "execution_count": null,
   "id": "1bed5d4c-5594-4ee0-ad9e-2b4d61c7e642",
   "metadata": {},
   "outputs": [],
   "source": [
    "print(response)"
   ]
  },
  {
   "cell_type": "markdown",
   "id": "34325fab-4830-4380-8016-064e9c19e2b0",
   "metadata": {},
   "source": [
    "### chat"
   ]
  },
  {
   "cell_type": "code",
   "execution_count": null,
   "id": "67ae75b6-c564-4398-9bb5-997ac2bbb105",
   "metadata": {},
   "outputs": [],
   "source": [
    "from llama_index.core import PromptTemplate\n",
    "from llama_index.core.llms import ChatMessage, MessageRole\n",
    "from llama_index.core.chat_engine import CondenseQuestionChatEngine\n",
    "\n",
    "custom_prompt = PromptTemplate(\n",
    "    \"\"\"\\\n",
    "Given a conversation (between Human and Assistant) and a follow up message from Human, \\\n",
    "rewrite the message to be a standalone question that captures all relevant context \\\n",
    "from the conversation.\n",
    "\n",
    "<Chat History>\n",
    "{chat_history}\n",
    "\n",
    "<Follow Up Message>\n",
    "{question}\n",
    "\n",
    "<Standalone question>\n",
    "\"\"\"\n",
    ")\n",
    "\n",
    "# list of `ChatMessage` objects\n",
    "custom_chat_history = [\n",
    "    ChatMessage(\n",
    "        role=MessageRole.USER,\n",
    "        content=\"Hello assistant, we are having a insightful discussion about Additive Manufacturing today.\",\n",
    "    ),\n",
    "    ChatMessage(role=MessageRole.ASSISTANT, content=\"Okay, sounds good.\"),\n",
    "]\n",
    "\n",
    "#query_engine = index_usability.as_query_engine()\n",
    "chat_engine = CondenseQuestionChatEngine.from_defaults(\n",
    "    query_engine=query_engine3,\n",
    "    streaming=True,\n",
    "    #condense_question_prompt=custom_prompt,\n",
    "    #chat_history=custom_chat_history,\n",
    "    #verbose=True,\n",
    ")"
   ]
  },
  {
   "cell_type": "code",
   "execution_count": null,
   "id": "7c0e5054-c7ad-4e84-b2ba-c690b71648e3",
   "metadata": {},
   "outputs": [],
   "source": [
    "response = chat_engine.stream_chat(\"what all is composed in value network?\")"
   ]
  },
  {
   "cell_type": "code",
   "execution_count": null,
   "id": "7219f28c-d956-48fe-b4b0-e3493cf7a06f",
   "metadata": {},
   "outputs": [],
   "source": [
    "response.print_response_stream()"
   ]
  },
  {
   "cell_type": "code",
   "execution_count": null,
   "id": "f5697b3d-6315-45b3-8915-9c1d86673dfd",
   "metadata": {},
   "outputs": [],
   "source": [
    "from IPython.display import Markdown, display\n",
    "display(Markdown(f\"<b>{response}</b>\"))"
   ]
  },
  {
   "cell_type": "markdown",
   "id": "7724e57b-bb44-4214-ae9b-4b055adf6e44",
   "metadata": {},
   "source": [
    "### sources available only in Q an A"
   ]
  },
  {
   "cell_type": "code",
   "execution_count": null,
   "id": "35d8d287-7503-4dc6-9e37-116664f8eea8",
   "metadata": {},
   "outputs": [],
   "source": [
    "response.metadata"
   ]
  },
  {
   "cell_type": "code",
   "execution_count": null,
   "id": "62fdb1a0-adae-4204-aae3-16b6f168f0ee",
   "metadata": {},
   "outputs": [],
   "source": [
    "import re\n",
    "if hasattr(response, 'metadata'):\n",
    "    document_info = str(response.metadata)\n",
    "    find = re.findall(r\"'page_label': '[^']*', 'file_name': '[^']*'\", document_info)\n",
    "\n",
    "    print('\\n'+'=' * 60+'\\n')\n",
    "    print('Context Information')\n",
    "    print(str(find))\n",
    "    print('\\n'+'=' * 60+'\\n')"
   ]
  }
 ],
 "metadata": {
  "kernelspec": {
   "display_name": "Python 3 (ipykernel)",
   "language": "python",
   "name": "python3"
  },
  "language_info": {
   "codemirror_mode": {
    "name": "ipython",
    "version": 3
   },
   "file_extension": ".py",
   "mimetype": "text/x-python",
   "name": "python",
   "nbconvert_exporter": "python",
   "pygments_lexer": "ipython3",
   "version": "3.11.11"
  }
 },
 "nbformat": 4,
 "nbformat_minor": 5
}
