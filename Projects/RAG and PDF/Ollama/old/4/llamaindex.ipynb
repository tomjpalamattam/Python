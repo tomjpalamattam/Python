{
 "cells": [
  {
   "cell_type": "code",
   "execution_count": 24,
   "id": "d1d7baa0-3d32-4a77-a490-3407b7b7b122",
   "metadata": {
    "tags": []
   },
   "outputs": [
    {
     "name": "stdout",
     "output_type": "stream",
     "text": [
      "Note: you may need to restart the kernel to use updated packages.\n"
     ]
    }
   ],
   "source": [
    "pip install -q llama-index-core llama-index-readers-file llama-index-llms-ollama\n",
    "pip install -q llama-index-embeddings-ollama"
   ]
  },
  {
   "cell_type": "code",
   "execution_count": 1,
   "id": "1d4fe458-f8dd-4ba4-90f3-5472df57e216",
   "metadata": {
    "tags": []
   },
   "outputs": [],
   "source": [
    "from llama_index.core import SimpleDirectoryReader\n",
    "documents = SimpleDirectoryReader(\"docs\").load_data()"
   ]
  },
  {
   "cell_type": "code",
   "execution_count": 2,
   "id": "01d8b9af-dcf6-4e84-9eae-3d3a1284b51c",
   "metadata": {
    "tags": []
   },
   "outputs": [],
   "source": [
    "#import ollama\n",
    "from llama_index.llms.ollama import Ollama\n",
    "\n",
    "llm = Ollama(model=\"llama3\", request_timeout=300.0)\n",
    "#llm = Ollama(model=\"llama3\",base_url=\"http://192.168.1.232:11435\") #llm = Ollama(model=\"llama2\")"
   ]
  },
  {
   "cell_type": "code",
   "execution_count": 3,
   "id": "8114bacd-54e0-41e3-a76f-c6dde583ed3b",
   "metadata": {
    "tags": []
   },
   "outputs": [],
   "source": [
    "from llama_index.core import (\n",
    "    SimpleDirectoryReader,\n",
    "    VectorStoreIndex,\n",
    "    Settings,\n",
    "    ServiceContext,\n",
    "    StorageContext,\n",
    "    load_index_from_storage,\n",
    ")\n",
    "\n",
    "from llama_index.core.tools import QueryEngineTool, ToolMetadata"
   ]
  },
  {
   "cell_type": "code",
   "execution_count": 4,
   "id": "dadeb8ed-e536-4db6-8408-0225aef81b5b",
   "metadata": {
    "tags": []
   },
   "outputs": [],
   "source": [
    "#embed_model = HuggingFaceEmbedding(model_name=\"BAAI/bge-small-en-v1.5\")\n",
    "#from llama_index.embeddings.huggingface import HuggingFaceEmbedding\n",
    "\n",
    "\n",
    "from llama_index.embeddings.ollama import OllamaEmbedding\n",
    "\n",
    "ollama_embedding = OllamaEmbedding(\n",
    "    model_name=\"nomic-embed-text\",\n",
    "    #base_url=\"http://localhost:11434\",\n",
    "    ollama_additional_kwargs={\"mirostat\": 0},\n",
    ")"
   ]
  },
  {
   "cell_type": "code",
   "execution_count": null,
   "id": "44b6395a-e63f-4c51-af38-8d93a02f1ef1",
   "metadata": {},
   "outputs": [],
   "source": [
    "#Dont use this block. Use the one below\n",
    "#depreciated block- set global parameters\n",
    "\n",
    "service_context = ServiceContext.from_defaults(\n",
    "    llm = llm,\n",
    "    embed_model = ollama_embedding,\n",
    "    chunk_size=256,\n",
    ")\n",
    "\n",
    "set_global_service_context(service_context)"
   ]
  },
  {
   "cell_type": "code",
   "execution_count": 9,
   "id": "cfad68d8-f1ab-4f9f-8a98-c9dd52f3d917",
   "metadata": {
    "tags": []
   },
   "outputs": [
    {
     "name": "stdout",
     "output_type": "stream",
     "text": [
      "Note: you may need to restart the kernel to use updated packages.\n"
     ]
    }
   ],
   "source": [
    "pip install -q chromadb llama-index-vector-stores-chroma"
   ]
  },
  {
   "cell_type": "markdown",
   "id": "074b2fe0-cbf6-4a34-b040-7a79717d7dd2",
   "metadata": {},
   "source": [
    "### For CSV"
   ]
  },
  {
   "cell_type": "code",
   "execution_count": null,
   "id": "e902d6d7-1752-44e7-ad55-e214a50afe35",
   "metadata": {},
   "outputs": [],
   "source": [
    "#Use this and dont use the block above \n",
    "#set global parameters\n",
    "from llama_index.core.node_parser import SentenceSplitter\n",
    "\n",
    "Settings.llm = llm\n",
    "Settings.embed_model = ollama_embedding\n",
    "#Settings.node_parser = SentenceSplitter(chunk_size=512, chunk_overlap=20)\n",
    "#Settings.num_output = 512\n",
    "#Settings.context_window = 3900\n"
   ]
  },
  {
   "cell_type": "code",
   "execution_count": 6,
   "id": "3b353f6d-1a87-4a28-bd6a-f2f2206eb103",
   "metadata": {
    "tags": []
   },
   "outputs": [],
   "source": [
    "#Save to disc (Only execute this block if you have additional documents to be added to the database)\n",
    "\n",
    "import chromadb\n",
    "from llama_index.core import VectorStoreIndex\n",
    "from llama_index.vector_stores.chroma import ChromaVectorStore\n",
    "db = chromadb.PersistentClient(path=\"./chroma_db\")\n",
    "chroma_collection = db.get_or_create_collection(\"usability\")\n",
    "vector_store = ChromaVectorStore(chroma_collection=chroma_collection)\n",
    "storage_context = StorageContext.from_defaults(vector_store=vector_store)\n",
    "#service_context = ServiceContext.from_defaults(embed_model=embed_model)\n",
    "#index_finance = VectorStoreIndex.from_documents( documentsNassim, storage_context=storage_context, service_context=service_context )\n",
    "#index_usability = VectorStoreIndex.from_documents( documents, storage_context=storage_context, embed_model=ollama_embedding, llm=llm, node_parser = SentenceSplitter(chunk_size=512, chunk_overlap=20), num_output = 512, context_window = 3900)\n",
    "index_usability = VectorStoreIndex.from_documents( documents, llm=llm, storage_context=storage_context, embed_model=ollama_embedding, show_progress=True)\n",
    "\n",
    "index_usability.storage_context.persist(persist_dir=\"./chroma_db\")"
   ]
  },
  {
   "cell_type": "code",
   "execution_count": 6,
   "id": "f4df40d5-4e81-414b-affb-4ab672a4b375",
   "metadata": {},
   "outputs": [],
   "source": [
    "#Load from disc\n",
    "import chromadb\n",
    "from llama_index.core import VectorStoreIndex\n",
    "from llama_index.vector_stores.chroma import ChromaVectorStore\n",
    "db = chromadb.PersistentClient(path=\"./chroma_db\")\n",
    "chroma_collection = db.get_or_create_collection(\"usability\")\n",
    "vector_store = ChromaVectorStore(chroma_collection=chroma_collection)\n",
    "storage_context = StorageContext.from_defaults(vector_store=vector_store, persist_dir=\"./chroma_db\")\n",
    "#service_context = ServiceContext.from_defaults(embed_model=embed_model)\n",
    "#index_finance = VectorStoreIndex.from_documents( documentsNassim, storage_context=storage_context, service_context=service_context )\n",
    "#index_usability = VectorStoreIndex.from_documents( documents, storage_context=storage_context, embed_model=ollama_embedding, llm=llm, node_parser = SentenceSplitter(chunk_size=512, chunk_overlap=20), num_output = 512, context_window = 3900)\n",
    "index_usability = VectorStoreIndex.from_vector_store(vector_store, llm=llm, storage_context=storage_context, embed_model=ollama_embedding)"
   ]
  },
  {
   "cell_type": "markdown",
   "id": "52d31680-f4d9-4846-ada0-46af23c33486",
   "metadata": {},
   "source": [
    "### For PDF"
   ]
  },
  {
   "cell_type": "code",
   "execution_count": null,
   "id": "f0022136-c83f-49a4-90a4-b9536c74ef38",
   "metadata": {},
   "outputs": [],
   "source": [
    "#Use this and dont use the block above \n",
    "#set global parameters\n",
    "from llama_index.core.node_parser import SentenceSplitter\n",
    "\n",
    "Settings.llm = llm\n",
    "Settings.embed_model = ollama_embedding\n",
    "Settings.node_parser = SentenceSplitter(chunk_size=512, chunk_overlap=20)\n",
    "Settings.num_output = 512\n",
    "Settings.context_window = 3900\n"
   ]
  },
  {
   "cell_type": "code",
   "execution_count": null,
   "id": "05a040a4-dfa3-4d81-b3cd-2434f5909199",
   "metadata": {},
   "outputs": [],
   "source": [
    "#Save to disc (Only execute this block if you have additional documents to be added to the database)\n",
    "\n",
    "import chromadb\n",
    "from llama_index.core import VectorStoreIndex\n",
    "from llama_index.vector_stores.chroma import ChromaVectorStore\n",
    "db = chromadb.PersistentClient(path=\"./chroma_db\")\n",
    "chroma_collection = db.get_or_create_collection(\"usability\")\n",
    "vector_store = ChromaVectorStore(chroma_collection=chroma_collection)\n",
    "storage_context = StorageContext.from_defaults(vector_store=vector_store)\n",
    "#service_context = ServiceContext.from_defaults(embed_model=embed_model)\n",
    "#index_finance = VectorStoreIndex.from_documents( documentsNassim, storage_context=storage_context, service_context=service_context )\n",
    "index_usability = VectorStoreIndex.from_documents( documents, storage_context=storage_context, embed_model=ollama_embedding, llm=llm, node_parser = SentenceSplitter(chunk_size=512, chunk_overlap=20), num_output = 512, context_window = 3900, show_progress=True)\n",
    "#index_usability = VectorStoreIndex.from_documents( documents, storage_context=storage_context, embed_model=ollama_embedding)\n",
    "\n",
    "index_usability.storage_context.persist(persist_dir=\"./chroma_db\")"
   ]
  },
  {
   "cell_type": "code",
   "execution_count": null,
   "id": "86d9cb3a-2f15-4fe7-a1d3-0170018b0489",
   "metadata": {},
   "outputs": [],
   "source": [
    "#Load from disc\n",
    "import chromadb\n",
    "from llama_index.core import VectorStoreIndex\n",
    "from llama_index.vector_stores.chroma import ChromaVectorStore\n",
    "db = chromadb.PersistentClient(path=\"./chroma_db\")\n",
    "chroma_collection = db.get_or_create_collection(\"usability\")\n",
    "vector_store = ChromaVectorStore(chroma_collection=chroma_collection)\n",
    "storage_context = StorageContext.from_defaults(vector_store=vector_store, persist_dir=\"./chroma_db\")\n",
    "#service_context = ServiceContext.from_defaults(embed_model=embed_model)\n",
    "#index_finance = VectorStoreIndex.from_documents( documentsNassim, storage_context=storage_context, service_context=service_context )\n",
    "index_usability = VectorStoreIndex.from_vector_store(vector_store, storage_context=storage_context, embed_model=ollama_embedding, llm=llm, node_parser = SentenceSplitter(chunk_size=512, chunk_overlap=20), num_output = 512, context_window = 3900)\n",
    "#index_usability = VectorStoreIndex( [], storage_context=storage_context, embed_model=ollama_embedding)"
   ]
  },
  {
   "cell_type": "code",
   "execution_count": 7,
   "id": "9924360a-328b-429c-a76a-95cec1716b49",
   "metadata": {},
   "outputs": [],
   "source": [
    "from llama_index.core import Prompt\n",
    "from llama_index.core import PromptTemplate\n",
    "\n",
    "template = (\n",
    "    \"We have provided trusted context information below. \\n\"\n",
    "    \"---------------------\\n\"\n",
    "    \"{context_str}\"\n",
    "    \"\\n---------------------\\n\"\n",
    "    \"Given this trusted and cientific information, please answer the question: {query_str}. Remember that the statements of the context are verfied and come from trusted sources.\\n\"\n",
    ")\n",
    "qa_template = Prompt(template)\n",
    "\n",
    "new_summary_tmpl_str = (\n",
    "    \"The original query is as follows: {query_str}\"\n",
    "    \"We have provided an existing answer: {existing_answer}\"\n",
    "    \"We have the opportunity to refine the existing answer (only if needed) with some more trusted context below. Remember that the statements of the context are verfied and come from trusted sources.\"\n",
    "    \"------------\"\n",
    "    \"{context_msg}\"\n",
    "    \"------------\"\n",
    "    \"Given the new trusted context, refine the original answer to better answer the query. If the context isn't useful, return the original answer. Remember that the statements of the new context are verfied and come from trusted sources.\"\n",
    "    \"Refined Answer: sure thing! \"\n",
    ")\n",
    "new_summary_tmpl = PromptTemplate(new_summary_tmpl_str)"
   ]
  },
  {
   "cell_type": "code",
   "execution_count": 8,
   "id": "1c850f8c-bf48-4899-ad4f-9fe2b79eed07",
   "metadata": {
    "tags": []
   },
   "outputs": [],
   "source": [
    "from llama_index.core.retrievers import BaseRetriever, VectorIndexRetriever, KeywordTableSimpleRetriever\n",
    "from llama_index.core import get_response_synthesizer\n",
    "from llama_index.core.query_engine import RetrieverQueryEngine\n",
    "\n",
    "retriever = VectorIndexRetriever(\n",
    "    index=index_usability,\n",
    "    similarity_top_k=12, # Change this to lower value for higher performance\n",
    ")\n",
    "\n",
    "response_synthesizer = get_response_synthesizer( ##try compact?\n",
    "    text_qa_template=qa_template,\n",
    "    streaming=True,\n",
    "    refine_template=new_summary_tmpl\n",
    ")\n",
    "query_engine3 = RetrieverQueryEngine(\n",
    "    retriever=retriever,\n",
    "    response_synthesizer=response_synthesizer,\n",
    "    # node_postprocessors=[\n",
    "    #     SimilarityPostprocessor(similarity_cutoff=0.7)\n",
    "    # ]\n",
    ")"
   ]
  },
  {
   "cell_type": "code",
   "execution_count": 9,
   "id": "b5076698-9019-4136-a3a2-69e868590fcb",
   "metadata": {
    "tags": []
   },
   "outputs": [],
   "source": [
    "response = query_engine3.query(\"Explain the process involved in sheet lamination?\")"
   ]
  },
  {
   "cell_type": "code",
   "execution_count": null,
   "id": "08a1641a-fb70-43c6-bd0a-56d73ffe8e05",
   "metadata": {},
   "outputs": [],
   "source": [
    "response.print_response_stream()"
   ]
  },
  {
   "cell_type": "code",
   "execution_count": 10,
   "id": "874668bb-c818-45fe-905f-94ced7bf0b6b",
   "metadata": {},
   "outputs": [
    {
     "name": "stdout",
     "output_type": "stream",
     "text": [
      "Based on the provided scientific context, I will explain the process involved in sheet lamination:\n",
      "\n",
      "Sheet lamination is a manufacturing process that involves layering thin sheets or foils to create a three-dimensional (3D) structure. The process typically starts with the preparation of individual sheets or foils made from various materials such as metal, polymer, ceramic, or paper.\n",
      "\n",
      "There are several methods used in sheet lamination, including:\n",
      "\n",
      "1. **Form-Then-Bond Process**: This method involves creating the desired shape of the part using a mold or tool, and then bonding the layers together using an adhesive material. The bond is created by applying pressure and heat to the layers.\n",
      "2. **Bond-Then-Form Process** (Research-based): In this method, layers are bonded together first, and then the resulting structure is shaped using computer-aided manufacturing (CAM) or other techniques. This process allows for greater control over the bonding process and can produce complex geometries.\n",
      "\n",
      "The specific steps involved in sheet lamination may vary depending on the chosen method:\n",
      "\n",
      "* **Form-Then-Bond Process**:\n",
      "\t1. Placing the laminate over previous layers.\n",
      "\t2. Bonding it to the substrate using a heated roller that melts the adhesive material.\n",
      "\t3. Cutting the laminated structure according to the slice contour, leaving unused material as support material.\n",
      "\n",
      "* **Bond-Then-Form Process** (Research-based):\n",
      "\t1. Placing the laminate over previous layers.\n",
      "\t2. Bonding it to the substrate using an adhesive material.\n",
      "\t3. Cutting the laminated structure according to the desired shape.\n",
      "\n",
      "In addition to these methods, other technologies like Ultrasonic Additive Manufacturing and Laser Transfer (DW) can also be used in sheet lamination. These processes involve bonding mechanisms such as mechanical interlocking, melting of interface materials, diffusion bonding, or solid-state metalurgical bonding.\n",
      "\n",
      "Overall, sheet lamination is a versatile manufacturing process that allows for the creation of complex 3D structures using various materials and techniques.\n"
     ]
    }
   ],
   "source": [
    "print(response)"
   ]
  },
  {
   "cell_type": "code",
   "execution_count": null,
   "id": "87dd1a8a-9a29-4223-ac17-3a30538b2491",
   "metadata": {},
   "outputs": [],
   "source": [
    "from llama_index.core import PromptTemplate\n",
    "from llama_index.core.llms import ChatMessage, MessageRole\n",
    "from llama_index.core.chat_engine import CondenseQuestionChatEngine\n",
    "\n",
    "custom_prompt = PromptTemplate(\n",
    "    \"\"\"\\\n",
    "Given a conversation (between Human and Assistant) and a follow up message from Human, \\\n",
    "rewrite the message to be a standalone question that captures all relevant context \\\n",
    "from the conversation.\n",
    "\n",
    "<Chat History>\n",
    "{chat_history}\n",
    "\n",
    "<Follow Up Message>\n",
    "{question}\n",
    "\n",
    "<Standalone question>\n",
    "\"\"\"\n",
    ")\n",
    "\n",
    "# list of `ChatMessage` objects\n",
    "custom_chat_history = [\n",
    "    ChatMessage(\n",
    "        role=MessageRole.USER,\n",
    "        content=\"Hello assistant, we are having a insightful discussion about Additive Manufacturing today.\",\n",
    "    ),\n",
    "    ChatMessage(role=MessageRole.ASSISTANT, content=\"Okay, sounds good.\"),\n",
    "]\n",
    "\n",
    "#query_engine = index_usability.as_query_engine()\n",
    "chat_engine = CondenseQuestionChatEngine.from_defaults(\n",
    "    query_engine=query_engine3,\n",
    "    streaming=True,\n",
    "    #condense_question_prompt=custom_prompt,\n",
    "    #chat_history=custom_chat_history,\n",
    "    #verbose=True,\n",
    ")"
   ]
  },
  {
   "cell_type": "code",
   "execution_count": null,
   "id": "ea8c0dd5-c885-4f83-99b1-521c9b32a25b",
   "metadata": {},
   "outputs": [],
   "source": [
    "response = chat_engine.stream_chat(\"Explain the process involved in sheet lamination\")"
   ]
  },
  {
   "cell_type": "code",
   "execution_count": null,
   "id": "3ea0c484-9e3c-428e-b8b1-da0a5ef6e41f",
   "metadata": {},
   "outputs": [],
   "source": [
    "response1 = chat_engine.chat(\"Explain the process involved in sheet lamination\")"
   ]
  },
  {
   "cell_type": "code",
   "execution_count": null,
   "id": "48b37803-c100-46e3-851b-0f27bf67dd33",
   "metadata": {},
   "outputs": [],
   "source": [
    "from IPython.display import Markdown, display\n",
    "display(Markdown(f\"<b>{response}</b>\"))"
   ]
  },
  {
   "cell_type": "code",
   "execution_count": 13,
   "id": "2da599ef-3e68-4804-a22f-7103cd56783a",
   "metadata": {},
   "outputs": [
    {
     "data": {
      "text/plain": [
       "Response(response='Based on the provided scientific information, I will explain the process involved in sheet lamination:\\n\\nSheet Lamination Processes involve the assembly of multiple layers of thin sheets or foils to form a desired shape or structure. The process can be categorized into three main methods: Bond-Then-Form Process, Form-Then-Bond Process, and Sheet Metal Clamping.\\n\\n**Bond-Then-Form Process**:\\nThis process involves placing a laminate over a previous layer, bonding it to the substrate using a heated roller that melts an adhesive material, and then cutting it according to the slice contour. This results in a product with minimal shrinkage, residual stress, or distortion.\\n\\n**Form-Then-Bond Process (Research-based)**:\\nThis method uses computer-aided manufacturing (CAM) and laminated engineering materials (LEM) to create complex shapes. It involves assembling rigid metal laminates into simple shapes using clamping forces that are perpendicular to the laminated surface.\\n\\n**Sheet Metal Clamping**:\\nThis process is a quick, cheap, and design-change-friendly method for assembling rigid metal laminates into simple shapes by clamping or bolting individual sheets together.\\n\\n**Ultrasonic Additive Manufacturing (Sheet Lamination Process)**:\\nThis hybrid sheet lamination process combines CNC milling with ultrasonic metal seam welding. It starts by placing a metal sheet over the base plate or previous layer and then uses an oscillating sonotrode to weld it in place. This is repeated until the desired geometry of the finished part is achieved.\\n\\n**Mechanical Interlocking Bonding Mechanism**:\\nIn this process, atomic forces across nascent metal surfaces facilitate bonding through mechanical interlocking, melting of interface material, diffusion bonding, or solid-state metallurgical bonding.\\n\\nThese processes demonstrate various methods for sheet lamination, each with its advantages and limitations. The choice of process depends on the specific application, desired properties, and materials used.\\n\\nPlease let me know if you have any further questions!', source_nodes=[NodeWithScore(node=TextNode(id_='91406594-55f0-4e4a-b079-dc0130c9add5', embedding=None, metadata={'page_label': '15', 'file_name': '2.pdf', 'file_path': '/home/tom/Python/Tools/RAG and PDF/docs/2.pdf', 'file_type': 'application/pdf', 'file_size': 533773, 'creation_date': '2024-04-22', 'last_modified_date': '2023-01-27'}, excluded_embed_metadata_keys=['file_name', 'file_type', 'file_size', 'creation_date', 'last_modified_date', 'last_accessed_date'], excluded_llm_metadata_keys=['file_name', 'file_type', 'file_size', 'creation_date', 'last_modified_date', 'last_accessed_date'], relationships={<NodeRelationship.SOURCE: '1'>: RelatedNodeInfo(node_id='b2dcf66d-f05a-4b78-982a-4baf2b104928', node_type=<ObjectType.DOCUMENT: '4'>, metadata={'page_label': '15', 'file_name': '2.pdf', 'file_path': '/home/tom/Python/Tools/RAG and PDF/docs/2.pdf', 'file_type': 'application/pdf', 'file_size': 533773, 'creation_date': '2024-04-22', 'last_modified_date': '2023-01-27'}, hash='0254379b831ef9eea6a399536d557060a92fc30ad2a83b88f799a60cfe1cea44'), <NodeRelationship.PREVIOUS: '2'>: RelatedNodeInfo(node_id='c652bee7-e84d-410f-8457-7683764cfba9', node_type=<ObjectType.TEXT: '1'>, metadata={'page_label': '14', 'file_name': '2.pdf', 'file_path': '/home/tom/Python/Tools/RAG and PDF/docs/2.pdf', 'file_type': 'application/pdf', 'file_size': 533773, 'creation_date': '2024-04-22', 'last_modified_date': '2023-01-27'}, hash='d1fb23850559a1c2c6ef59f1891374e0e00ae302da0b5e5c0aacd4503191e158'), <NodeRelationship.NEXT: '3'>: RelatedNodeInfo(node_id='75311c48-4c35-4b11-abc1-cc05b7407c60', node_type=<ObjectType.TEXT: '1'>, metadata={}, hash='39439e251b2149faf6a3f4ba59650adad5598bac49a8327bc74783a17b0db408')}, text='2. Thermal BondingSheet Lamination Processes\\n•3D metallic parts –steel sheets that are diffusion bonded \\nDemonstration of continuity of metallic interface (grain \\nstructure) between layers\\n•Al 3003 sheets with Al  4343 coating -Sheets were laser cut -\\nassembling using mechanical fasteners –bonding by heating up \\nabove the melting point of Al 4343\\n•Sheet lamination using brazing and laser spot welding\\nhttps://www.aluminium -\\nbrazing.com/2010/09/29/cladding -alloys/Disadvantage:\\n•Form -then-bond: Extensive post processing to \\nremove support materials\\n•Bond-then-form: disconnected geometries \\nare hard to align; part specific solutions \\nneeded (not useful for manufacturing )\\nAdvantage :\\n•Large tooling possible\\n•Design ofinternal conformal cooling channels', start_char_idx=0, end_char_idx=761, text_template='{metadata_str}\\n\\n{content}', metadata_template='{key}: {value}', metadata_seperator='\\n'), score=2.6563056721236736e-150), NodeWithScore(node=TextNode(id_='9c7145a8-a890-4852-a887-7bed74b31212', embedding=None, metadata={'page_label': '11', 'file_name': '2.pdf', 'file_path': '/home/tom/Python/Tools/RAG and PDF/docs/2.pdf', 'file_type': 'application/pdf', 'file_size': 533773, 'creation_date': '2024-04-22', 'last_modified_date': '2023-01-27'}, excluded_embed_metadata_keys=['file_name', 'file_type', 'file_size', 'creation_date', 'last_modified_date', 'last_accessed_date'], excluded_llm_metadata_keys=['file_name', 'file_type', 'file_size', 'creation_date', 'last_modified_date', 'last_accessed_date'], relationships={<NodeRelationship.SOURCE: '1'>: RelatedNodeInfo(node_id='eddc6d1b-8594-446f-a78a-0bc7b30fc694', node_type=<ObjectType.DOCUMENT: '4'>, metadata={'page_label': '11', 'file_name': '2.pdf', 'file_path': '/home/tom/Python/Tools/RAG and PDF/docs/2.pdf', 'file_type': 'application/pdf', 'file_size': 533773, 'creation_date': '2024-04-22', 'last_modified_date': '2023-01-27'}, hash='594a02081cd1f81765f403ba5048d71b7e98bface1c12ad74a752703b892adc3'), <NodeRelationship.PREVIOUS: '2'>: RelatedNodeInfo(node_id='173e0745-b559-4aaa-b9ef-32a4cb05e08d', node_type=<ObjectType.TEXT: '1'>, metadata={'page_label': '10', 'file_name': '2.pdf', 'file_path': '/home/tom/Python/Tools/RAG and PDF/docs/2.pdf', 'file_type': 'application/pdf', 'file_size': 533773, 'creation_date': '2024-04-22', 'last_modified_date': '2023-01-27'}, hash='3b870139e6dca447da03b52ceca31183c878e09762f19ba862d8f4196533a703'), <NodeRelationship.NEXT: '3'>: RelatedNodeInfo(node_id='421adb64-65bf-403a-8914-dd1a05aaf2ce', node_type=<ObjectType.TEXT: '1'>, metadata={}, hash='23302643b20e4789d7f6e0a156fdfa04b16c72cce5eea769c603ed5cb0804f4d')}, text='a)Bond-Then-Form Process\\nLimitations:\\n•Paper based materials need to be coated –to prevent \\nmoisture absorption and excessive wear\\n•Accuracy in Z -direction is difficult (swelling, \\ninconsistent sheet material thickness\\n•Mechanical and thermal properties are inhomogeneous \\ndue to glue used between the layers\\n•Small part features are hard to produce –Removal of \\nsupport (manual decubing process)Sheet Lamination Processes', start_char_idx=0, end_char_idx=423, text_template='{metadata_str}\\n\\n{content}', metadata_template='{key}: {value}', metadata_seperator='\\n'), score=3.2374017824632487e-156), NodeWithScore(node=TextNode(id_='75311c48-4c35-4b11-abc1-cc05b7407c60', embedding=None, metadata={'page_label': '16', 'file_name': '2.pdf', 'file_path': '/home/tom/Python/Tools/RAG and PDF/docs/2.pdf', 'file_type': 'application/pdf', 'file_size': 533773, 'creation_date': '2024-04-22', 'last_modified_date': '2023-01-27'}, excluded_embed_metadata_keys=['file_name', 'file_type', 'file_size', 'creation_date', 'last_modified_date', 'last_accessed_date'], excluded_llm_metadata_keys=['file_name', 'file_type', 'file_size', 'creation_date', 'last_modified_date', 'last_accessed_date'], relationships={<NodeRelationship.SOURCE: '1'>: RelatedNodeInfo(node_id='ce299773-04b4-4876-b0d4-b7d9ff9e3d79', node_type=<ObjectType.DOCUMENT: '4'>, metadata={'page_label': '16', 'file_name': '2.pdf', 'file_path': '/home/tom/Python/Tools/RAG and PDF/docs/2.pdf', 'file_type': 'application/pdf', 'file_size': 533773, 'creation_date': '2024-04-22', 'last_modified_date': '2023-01-27'}, hash='9ad2c4cac8e7abb61e033f2336fa4038245397d16ff2afa820cfbce4eda39868'), <NodeRelationship.PREVIOUS: '2'>: RelatedNodeInfo(node_id='91406594-55f0-4e4a-b079-dc0130c9add5', node_type=<ObjectType.TEXT: '1'>, metadata={'page_label': '15', 'file_name': '2.pdf', 'file_path': '/home/tom/Python/Tools/RAG and PDF/docs/2.pdf', 'file_type': 'application/pdf', 'file_size': 533773, 'creation_date': '2024-04-22', 'last_modified_date': '2023-01-27'}, hash='0254379b831ef9eea6a399536d557060a92fc30ad2a83b88f799a60cfe1cea44'), <NodeRelationship.NEXT: '3'>: RelatedNodeInfo(node_id='7fdd0345-9359-4b2b-9ad1-03b3b9384625', node_type=<ObjectType.TEXT: '1'>, metadata={}, hash='2efe2cf1de86052ae003f6811ffaedfcb31c889a02491c7bb65ffa3834906ece')}, text='3. Sheet Metal clampingSheet Lamination Processes\\n•Assembling rigid metal laminates into \\nsimple shapes\\n•clamp or bolt the individual sheets \\ntogether\\nAdvantage:\\n•Quick\\n•Cheap\\n•Design change or recycling is possible when \\nremoving the clamp or bolt\\nDisadvantage:\\n•Clamping forces are perpendicular to laminated \\nsurface –can leave gaps under certain \\ncircumstances –(eg: tooling for injection \\nmolding)\\nGibson:\\nProfiled edge\\nlaminate tool (courtesy\\nFraunhofer CCL)', start_char_idx=0, end_char_idx=464, text_template='{metadata_str}\\n\\n{content}', metadata_template='{key}: {value}', metadata_seperator='\\n'), score=5.209543960986009e-160), NodeWithScore(node=TextNode(id_='c652bee7-e84d-410f-8457-7683764cfba9', embedding=None, metadata={'page_label': '14', 'file_name': '2.pdf', 'file_path': '/home/tom/Python/Tools/RAG and PDF/docs/2.pdf', 'file_type': 'application/pdf', 'file_size': 533773, 'creation_date': '2024-04-22', 'last_modified_date': '2023-01-27'}, excluded_embed_metadata_keys=['file_name', 'file_type', 'file_size', 'creation_date', 'last_modified_date', 'last_accessed_date'], excluded_llm_metadata_keys=['file_name', 'file_type', 'file_size', 'creation_date', 'last_modified_date', 'last_accessed_date'], relationships={<NodeRelationship.SOURCE: '1'>: RelatedNodeInfo(node_id='8ced8abf-e208-4a18-b27e-87bce578578b', node_type=<ObjectType.DOCUMENT: '4'>, metadata={'page_label': '14', 'file_name': '2.pdf', 'file_path': '/home/tom/Python/Tools/RAG and PDF/docs/2.pdf', 'file_type': 'application/pdf', 'file_size': 533773, 'creation_date': '2024-04-22', 'last_modified_date': '2023-01-27'}, hash='d1fb23850559a1c2c6ef59f1891374e0e00ae302da0b5e5c0aacd4503191e158'), <NodeRelationship.PREVIOUS: '2'>: RelatedNodeInfo(node_id='2436b135-63a3-46c2-834c-5d7c62c3de11', node_type=<ObjectType.TEXT: '1'>, metadata={'page_label': '13', 'file_name': '2.pdf', 'file_path': '/home/tom/Python/Tools/RAG and PDF/docs/2.pdf', 'file_type': 'application/pdf', 'file_size': 533773, 'creation_date': '2024-04-22', 'last_modified_date': '2023-01-27'}, hash='5701e7bd78825637d46d0dbeaa1e970d13a087c596f83e89f73ee7bd4dd3d45c'), <NodeRelationship.NEXT: '3'>: RelatedNodeInfo(node_id='91406594-55f0-4e4a-b079-dc0130c9add5', node_type=<ObjectType.TEXT: '1'>, metadata={}, hash='fa986e6c3cacf762462c93394867c7f1301cde1551f857c0558fd57b6a68e39d')}, text='Sheet Lamination Processes\\nb) Form -Then-Bond Process (Research based)\\nCAM-LEM (Computer Aided Manufacturing -Laminated Engineering Materials)\\nGreen \\npartGibson: Additive Manufacturing Technologies', start_char_idx=0, end_char_idx=197, text_template='{metadata_str}\\n\\n{content}', metadata_template='{key}: {value}', metadata_seperator='\\n'), score=2.854071910090607e-160), NodeWithScore(node=TextNode(id_='6b1e1dd9-a8b9-4285-9643-d7911e2926a8', embedding=None, metadata={'page_label': '6', 'file_name': '2.pdf', 'file_path': '/home/tom/Python/Tools/RAG and PDF/docs/2.pdf', 'file_type': 'application/pdf', 'file_size': 533773, 'creation_date': '2024-04-22', 'last_modified_date': '2023-01-27'}, excluded_embed_metadata_keys=['file_name', 'file_type', 'file_size', 'creation_date', 'last_modified_date', 'last_accessed_date'], excluded_llm_metadata_keys=['file_name', 'file_type', 'file_size', 'creation_date', 'last_modified_date', 'last_accessed_date'], relationships={<NodeRelationship.SOURCE: '1'>: RelatedNodeInfo(node_id='4b4a0a7c-cf1d-41b4-9141-0c03a5edb650', node_type=<ObjectType.DOCUMENT: '4'>, metadata={'page_label': '6', 'file_name': '2.pdf', 'file_path': '/home/tom/Python/Tools/RAG and PDF/docs/2.pdf', 'file_type': 'application/pdf', 'file_size': 533773, 'creation_date': '2024-04-22', 'last_modified_date': '2023-01-27'}, hash='2c7338d86841f9f87e36295d3d1a991dd0ce2f0a91c0cf17bdbaa59b5b17edb5'), <NodeRelationship.PREVIOUS: '2'>: RelatedNodeInfo(node_id='92e256e0-7100-4624-bfba-9e502d386ff5', node_type=<ObjectType.TEXT: '1'>, metadata={'page_label': '5', 'file_name': '2.pdf', 'file_path': '/home/tom/Python/Tools/RAG and PDF/docs/2.pdf', 'file_type': 'application/pdf', 'file_size': 533773, 'creation_date': '2024-04-22', 'last_modified_date': '2023-01-27'}, hash='7def3466a59ce1417ae90c96f67f523ead9293cb6449c4c26396e7f854e364be'), <NodeRelationship.NEXT: '3'>: RelatedNodeInfo(node_id='2bec96e8-9e8a-481a-9c2c-9783b0434a48', node_type=<ObjectType.TEXT: '1'>, metadata={}, hash='1d890f611bcb213d9ccefc7c3d37cd506aafa7c89dd74b66941b96b3c4c2bbde')}, text='Sheet Lamination Processes\\nLaminated Object Manufacturing (LOM)\\nLayer by layer lamination of sheet1.Introduction\\nhttps://www.manufacturingguide.com/en\\n/laminated -object -manufacturing -lom', start_char_idx=0, end_char_idx=189, text_template='{metadata_str}\\n\\n{content}', metadata_template='{key}: {value}', metadata_seperator='\\n'), score=1.6637153490586143e-163), NodeWithScore(node=TextNode(id_='7fdd0345-9359-4b2b-9ad1-03b3b9384625', embedding=None, metadata={'page_label': '17', 'file_name': '2.pdf', 'file_path': '/home/tom/Python/Tools/RAG and PDF/docs/2.pdf', 'file_type': 'application/pdf', 'file_size': 533773, 'creation_date': '2024-04-22', 'last_modified_date': '2023-01-27'}, excluded_embed_metadata_keys=['file_name', 'file_type', 'file_size', 'creation_date', 'last_modified_date', 'last_accessed_date'], excluded_llm_metadata_keys=['file_name', 'file_type', 'file_size', 'creation_date', 'last_modified_date', 'last_accessed_date'], relationships={<NodeRelationship.SOURCE: '1'>: RelatedNodeInfo(node_id='f6f4e4ad-eb97-4302-a8b1-0c4d094e5821', node_type=<ObjectType.DOCUMENT: '4'>, metadata={'page_label': '17', 'file_name': '2.pdf', 'file_path': '/home/tom/Python/Tools/RAG and PDF/docs/2.pdf', 'file_type': 'application/pdf', 'file_size': 533773, 'creation_date': '2024-04-22', 'last_modified_date': '2023-01-27'}, hash='cb61f1aac393f541ca605969c065877038c1857fc8dacf311030e2aeaefd658e'), <NodeRelationship.PREVIOUS: '2'>: RelatedNodeInfo(node_id='75311c48-4c35-4b11-abc1-cc05b7407c60', node_type=<ObjectType.TEXT: '1'>, metadata={'page_label': '16', 'file_name': '2.pdf', 'file_path': '/home/tom/Python/Tools/RAG and PDF/docs/2.pdf', 'file_type': 'application/pdf', 'file_size': 533773, 'creation_date': '2024-04-22', 'last_modified_date': '2023-01-27'}, hash='9ad2c4cac8e7abb61e033f2336fa4038245397d16ff2afa820cfbce4eda39868'), <NodeRelationship.NEXT: '3'>: RelatedNodeInfo(node_id='f815939d-dc7b-4207-abd7-9f4d0d223495', node_type=<ObjectType.TEXT: '1'>, metadata={}, hash='6fc4e767c64f8daa6e429c2bedd4040588d41b189c5c52fb4260ee2084a0ddad')}, text='4. Ultrasonic Additive ManufacturingSheet Lamination Processes\\nhttps://www.youtube.com/watch?v=5s0J -\\n7W4i6sHybrid sheet lamination process\\n•CNC milling\\n•Ultrasonic metal seam welding\\nBond-then-form process\\n•Metal sheet (100 -150µm) will be \\nwelded to baseplate or previous \\nlayer using an rotating sonotrode\\nthat is traveling along the sheet.\\n•The sonotrode oscillates \\ntransversely to moving direction \\nat 20kHz\\n•CNC machine will shape the \\ndeposited sheet metal \\n•Next layer will be added until \\ngeometry of finished part is \\nready\\n•Combination of foils laid side by \\nside rather than a single large \\nsheetGibson: Additive \\nManufacturing \\nTechnologies', start_char_idx=0, end_char_idx=654, text_template='{metadata_str}\\n\\n{content}', metadata_template='{key}: {value}', metadata_seperator='\\n'), score=6.319377954331984e-164), NodeWithScore(node=TextNode(id_='5c7bc2a9-34df-447d-8fb3-09b4cb91fb2c', embedding=None, metadata={'page_label': '8', 'file_name': '2.pdf', 'file_path': '/home/tom/Python/Tools/RAG and PDF/docs/2.pdf', 'file_type': 'application/pdf', 'file_size': 533773, 'creation_date': '2024-04-22', 'last_modified_date': '2023-01-27'}, excluded_embed_metadata_keys=['file_name', 'file_type', 'file_size', 'creation_date', 'last_modified_date', 'last_accessed_date'], excluded_llm_metadata_keys=['file_name', 'file_type', 'file_size', 'creation_date', 'last_modified_date', 'last_accessed_date'], relationships={<NodeRelationship.SOURCE: '1'>: RelatedNodeInfo(node_id='39037c65-4213-41e5-a51d-5e3b2fc36db6', node_type=<ObjectType.DOCUMENT: '4'>, metadata={'page_label': '8', 'file_name': '2.pdf', 'file_path': '/home/tom/Python/Tools/RAG and PDF/docs/2.pdf', 'file_type': 'application/pdf', 'file_size': 533773, 'creation_date': '2024-04-22', 'last_modified_date': '2023-01-27'}, hash='96ce4bbd4cc9ded1c72d20ad8e84cce546a6cb8ba738759b8a0afde37901d5ba'), <NodeRelationship.PREVIOUS: '2'>: RelatedNodeInfo(node_id='2bec96e8-9e8a-481a-9c2c-9783b0434a48', node_type=<ObjectType.TEXT: '1'>, metadata={'page_label': '7', 'file_name': '2.pdf', 'file_path': '/home/tom/Python/Tools/RAG and PDF/docs/2.pdf', 'file_type': 'application/pdf', 'file_size': 533773, 'creation_date': '2024-04-22', 'last_modified_date': '2023-01-27'}, hash='63a376e8916870d220a2731ddaab356fc87753843c1c935d0a186b71ccf25ba0'), <NodeRelationship.NEXT: '3'>: RelatedNodeInfo(node_id='294a968c-7756-49ab-97eb-e6cb8702cf3f', node_type=<ObjectType.TEXT: '1'>, metadata={}, hash='f4021890054acc570a1b401f077b07a766da81f789536a416dd4960de2737b70')}, text='a)Bond-Then-Form ProcessSheet Lamination Processes\\nThree steps:\\n1.Placing the laminate over previous layer\\n2.Bonding it to the substrate : A heated roller melts the \\nadhesive material on the layer and bonds it to the previous \\nlayer\\n3.Cutting it according to the slice contour -cutting depth is \\nonly one layer in thickness unused material is left as support \\nmaterial', start_char_idx=0, end_char_idx=368, text_template='{metadata_str}\\n\\n{content}', metadata_template='{key}: {value}', metadata_seperator='\\n'), score=6.83459032638098e-166), NodeWithScore(node=TextNode(id_='173e0745-b559-4aaa-b9ef-32a4cb05e08d', embedding=None, metadata={'page_label': '10', 'file_name': '2.pdf', 'file_path': '/home/tom/Python/Tools/RAG and PDF/docs/2.pdf', 'file_type': 'application/pdf', 'file_size': 533773, 'creation_date': '2024-04-22', 'last_modified_date': '2023-01-27'}, excluded_embed_metadata_keys=['file_name', 'file_type', 'file_size', 'creation_date', 'last_modified_date', 'last_accessed_date'], excluded_llm_metadata_keys=['file_name', 'file_type', 'file_size', 'creation_date', 'last_modified_date', 'last_accessed_date'], relationships={<NodeRelationship.SOURCE: '1'>: RelatedNodeInfo(node_id='84a003c7-a9ca-4bbe-a089-395c52dd1595', node_type=<ObjectType.DOCUMENT: '4'>, metadata={'page_label': '10', 'file_name': '2.pdf', 'file_path': '/home/tom/Python/Tools/RAG and PDF/docs/2.pdf', 'file_type': 'application/pdf', 'file_size': 533773, 'creation_date': '2024-04-22', 'last_modified_date': '2023-01-27'}, hash='3b870139e6dca447da03b52ceca31183c878e09762f19ba862d8f4196533a703'), <NodeRelationship.PREVIOUS: '2'>: RelatedNodeInfo(node_id='294a968c-7756-49ab-97eb-e6cb8702cf3f', node_type=<ObjectType.TEXT: '1'>, metadata={'page_label': '9', 'file_name': '2.pdf', 'file_path': '/home/tom/Python/Tools/RAG and PDF/docs/2.pdf', 'file_type': 'application/pdf', 'file_size': 533773, 'creation_date': '2024-04-22', 'last_modified_date': '2023-01-27'}, hash='04f5c7b27f32dad50411ab9de64513e2626084212dfb32ebe1576568f7fc7881'), <NodeRelationship.NEXT: '3'>: RelatedNodeInfo(node_id='9c7145a8-a890-4852-a887-7bed74b31212', node_type=<ObjectType.TEXT: '1'>, metadata={}, hash='a70b73c82070a93a554e4b2989fa8e03257467ebc49904a6c4f80a16aba2ad1c')}, text='a)Bond-Then-Form Process\\nAdvantages:\\n•Little shrink\\n•No residual stress \\n•No distortion problems\\n•When using paper the finished product is similar to \\nplywood –finished surface without grinding\\n•Large parts can be fabricated rapidly\\n•A lot of different materials can be used \\n\\uf071Paper\\n\\uf071Polymer\\n\\uf071Metal\\n\\uf071Ceramics\\n•Non toxic, stable and easy to handle feedstock\\n•Low material, machine and process costsSheet Lamination Processes', start_char_idx=0, end_char_idx=423, text_template='{metadata_str}\\n\\n{content}', metadata_template='{key}: {value}', metadata_seperator='\\n'), score=8.761633892858023e-167), NodeWithScore(node=TextNode(id_='294a968c-7756-49ab-97eb-e6cb8702cf3f', embedding=None, metadata={'page_label': '9', 'file_name': '2.pdf', 'file_path': '/home/tom/Python/Tools/RAG and PDF/docs/2.pdf', 'file_type': 'application/pdf', 'file_size': 533773, 'creation_date': '2024-04-22', 'last_modified_date': '2023-01-27'}, excluded_embed_metadata_keys=['file_name', 'file_type', 'file_size', 'creation_date', 'last_modified_date', 'last_accessed_date'], excluded_llm_metadata_keys=['file_name', 'file_type', 'file_size', 'creation_date', 'last_modified_date', 'last_accessed_date'], relationships={<NodeRelationship.SOURCE: '1'>: RelatedNodeInfo(node_id='279e7165-d6ca-4bb5-a509-09814e1cb0d7', node_type=<ObjectType.DOCUMENT: '4'>, metadata={'page_label': '9', 'file_name': '2.pdf', 'file_path': '/home/tom/Python/Tools/RAG and PDF/docs/2.pdf', 'file_type': 'application/pdf', 'file_size': 533773, 'creation_date': '2024-04-22', 'last_modified_date': '2023-01-27'}, hash='04f5c7b27f32dad50411ab9de64513e2626084212dfb32ebe1576568f7fc7881'), <NodeRelationship.PREVIOUS: '2'>: RelatedNodeInfo(node_id='5c7bc2a9-34df-447d-8fb3-09b4cb91fb2c', node_type=<ObjectType.TEXT: '1'>, metadata={'page_label': '8', 'file_name': '2.pdf', 'file_path': '/home/tom/Python/Tools/RAG and PDF/docs/2.pdf', 'file_type': 'application/pdf', 'file_size': 533773, 'creation_date': '2024-04-22', 'last_modified_date': '2023-01-27'}, hash='96ce4bbd4cc9ded1c72d20ad8e84cce546a6cb8ba738759b8a0afde37901d5ba'), <NodeRelationship.NEXT: '3'>: RelatedNodeInfo(node_id='173e0745-b559-4aaa-b9ef-32a4cb05e08d', node_type=<ObjectType.TEXT: '1'>, metadata={}, hash='b110b6ad8de6a7153d88ac16112a50490d8e8fc8a3ab28f79a46779e8053e76d')}, text='Sheet Lamination Processes\\na)Bond-Then-Form Process\\nMcor technologies\\nWuhan BinhuDifference: \\n•Useofinkjet printing\\n•only dispense glue where needed \\n•No glue on support material\\n•Easy removal of support material\\n•Color possible\\nSolidoDifference: \\n•Polyvenyl chloride PVC\\n•Used „Anti gluepens“ towrite at areas\\nwhere thelayer needs not tobebonded', start_char_idx=0, end_char_idx=346, text_template='{metadata_str}\\n\\n{content}', metadata_template='{key}: {value}', metadata_seperator='\\n'), score=4.4771903078693566e-167), NodeWithScore(node=TextNode(id_='41a91969-296a-4161-9b3e-9bde5bc468da', embedding=None, metadata={'page_label': '19', 'file_name': '2.pdf', 'file_path': '/home/tom/Python/Tools/RAG and PDF/docs/2.pdf', 'file_type': 'application/pdf', 'file_size': 533773, 'creation_date': '2024-04-22', 'last_modified_date': '2023-01-27'}, excluded_embed_metadata_keys=['file_name', 'file_type', 'file_size', 'creation_date', 'last_modified_date', 'last_accessed_date'], excluded_llm_metadata_keys=['file_name', 'file_type', 'file_size', 'creation_date', 'last_modified_date', 'last_accessed_date'], relationships={<NodeRelationship.SOURCE: '1'>: RelatedNodeInfo(node_id='e4d2bba7-6a98-4717-870a-1c1da3c2b71d', node_type=<ObjectType.DOCUMENT: '4'>, metadata={'page_label': '19', 'file_name': '2.pdf', 'file_path': '/home/tom/Python/Tools/RAG and PDF/docs/2.pdf', 'file_type': 'application/pdf', 'file_size': 533773, 'creation_date': '2024-04-22', 'last_modified_date': '2023-01-27'}, hash='c6824bf73a9df293b6b1603d2846ee17a4b84c87923c9fa06c394c7657868c1b'), <NodeRelationship.PREVIOUS: '2'>: RelatedNodeInfo(node_id='f815939d-dc7b-4207-abd7-9f4d0d223495', node_type=<ObjectType.TEXT: '1'>, metadata={'page_label': '18', 'file_name': '2.pdf', 'file_path': '/home/tom/Python/Tools/RAG and PDF/docs/2.pdf', 'file_type': 'application/pdf', 'file_size': 533773, 'creation_date': '2024-04-22', 'last_modified_date': '2023-01-27'}, hash='c56fbb8e244fe3bfa6e6b2e544a1798a8e4676ce2c50e90c2ebd1a0b4b78ebb5'), <NodeRelationship.NEXT: '3'>: RelatedNodeInfo(node_id='4c491543-11a0-4bf5-834f-5316561b7098', node_type=<ObjectType.TEXT: '1'>, metadata={}, hash='0dd0b661036e9dfe71e7eeca3d1f1ecaf3f0a59d9665ef7e54fca07dba0c1724')}, text='Sheet Lamination Processes\\n4. Ultrasonic Additive Manufacturing\\nBonding mechanismn :\\n1.Mechanical interlocking\\n2.Melting ofinterface material\\n3.Diffusion bonding\\n4.solid state metalurgical bonding\\nAtomic forces across nascent metal\\nsurfaces\\nLinear \\nwelding \\ndensity \\n(LWD) as key \\ncriteriaGibson: Additive \\nManufacturing \\nTechnologies', start_char_idx=0, end_char_idx=334, text_template='{metadata_str}\\n\\n{content}', metadata_template='{key}: {value}', metadata_seperator='\\n'), score=4.4777664791096355e-169), NodeWithScore(node=TextNode(id_='5a5749fb-a1bd-485c-8049-c1d01faa3b45', embedding=None, metadata={'page_label': '21', 'file_name': '4.pdf', 'file_path': '/home/tom/Python/Tools/RAG and PDF/docs/4.pdf', 'file_type': 'application/pdf', 'file_size': 637389, 'creation_date': '2024-04-22', 'last_modified_date': '2023-01-27'}, excluded_embed_metadata_keys=['file_name', 'file_type', 'file_size', 'creation_date', 'last_modified_date', 'last_accessed_date'], excluded_llm_metadata_keys=['file_name', 'file_type', 'file_size', 'creation_date', 'last_modified_date', 'last_accessed_date'], relationships={<NodeRelationship.SOURCE: '1'>: RelatedNodeInfo(node_id='44f036e7-03de-4b10-8ea5-643b48b9ef1e', node_type=<ObjectType.DOCUMENT: '4'>, metadata={'page_label': '21', 'file_name': '4.pdf', 'file_path': '/home/tom/Python/Tools/RAG and PDF/docs/4.pdf', 'file_type': 'application/pdf', 'file_size': 637389, 'creation_date': '2024-04-22', 'last_modified_date': '2023-01-27'}, hash='9be6f397c4aadb449869eb2e34eb3a7332557c8ebab6233357cd5d6856a553e3'), <NodeRelationship.PREVIOUS: '2'>: RelatedNodeInfo(node_id='f0a0cae7-e431-4bac-9bad-3da4e041625e', node_type=<ObjectType.TEXT: '1'>, metadata={'page_label': '20', 'file_name': '4.pdf', 'file_path': '/home/tom/Python/Tools/RAG and PDF/docs/4.pdf', 'file_type': 'application/pdf', 'file_size': 637389, 'creation_date': '2024-04-22', 'last_modified_date': '2023-01-27'}, hash='579e388609737379cbb6daaefcfd0bd4f004729012ee7f30c8b5ed74c764466f'), <NodeRelationship.NEXT: '3'>: RelatedNodeInfo(node_id='9aabf372-de65-46e9-b060-fd6183c7f586', node_type=<ObjectType.TEXT: '1'>, metadata={}, hash='d4eb8a8482e91da0872ad3102412fb6ef6c9fb24e92e500c2bc4b654e4bb1ec0')}, text='Direct Write Technologies\\n2.   Laser transfer DW\\n•Transparent carrier\\n•Coated with transfer material\\n•Impinging laser ablates material forming a \\nplasma or gas\\n•Material impacts the substrate\\n•Forming a coating on substrate\\n•Pulsed laser will deposit a precise amountGibson: Courtesy Douglas B. Chrisey )\\n•Laser pulse ablates a portion of the \\nsurface foil\\n•Ablation and absorption thermal waves and \\nshock wave in the material\\n•The waves transmit through the material\\n•From the opposing side material will \\nfracture (spallation)\\n•Material will propel towards substrate', start_char_idx=0, end_char_idx=569, text_template='{metadata_str}\\n\\n{content}', metadata_template='{key}: {value}', metadata_seperator='\\n'), score=2.214835177083774e-171), NodeWithScore(node=TextNode(id_='4c491543-11a0-4bf5-834f-5316561b7098', embedding=None, metadata={'page_label': '20', 'file_name': '2.pdf', 'file_path': '/home/tom/Python/Tools/RAG and PDF/docs/2.pdf', 'file_type': 'application/pdf', 'file_size': 533773, 'creation_date': '2024-04-22', 'last_modified_date': '2023-01-27'}, excluded_embed_metadata_keys=['file_name', 'file_type', 'file_size', 'creation_date', 'last_modified_date', 'last_accessed_date'], excluded_llm_metadata_keys=['file_name', 'file_type', 'file_size', 'creation_date', 'last_modified_date', 'last_accessed_date'], relationships={<NodeRelationship.SOURCE: '1'>: RelatedNodeInfo(node_id='facd0976-fe26-41de-9691-c437ee86a994', node_type=<ObjectType.DOCUMENT: '4'>, metadata={'page_label': '20', 'file_name': '2.pdf', 'file_path': '/home/tom/Python/Tools/RAG and PDF/docs/2.pdf', 'file_type': 'application/pdf', 'file_size': 533773, 'creation_date': '2024-04-22', 'last_modified_date': '2023-01-27'}, hash='91f06fb5759534b57331b19d9c3beed2780fb55b926d08e0a37359060cb9a134'), <NodeRelationship.PREVIOUS: '2'>: RelatedNodeInfo(node_id='41a91969-296a-4161-9b3e-9bde5bc468da', node_type=<ObjectType.TEXT: '1'>, metadata={'page_label': '19', 'file_name': '2.pdf', 'file_path': '/home/tom/Python/Tools/RAG and PDF/docs/2.pdf', 'file_type': 'application/pdf', 'file_size': 533773, 'creation_date': '2024-04-22', 'last_modified_date': '2023-01-27'}, hash='c6824bf73a9df293b6b1603d2846ee17a4b84c87923c9fa06c394c7657868c1b'), <NodeRelationship.NEXT: '3'>: RelatedNodeInfo(node_id='2d744683-fab9-47bf-8d06-5746a9532ad7', node_type=<ObjectType.TEXT: '1'>, metadata={}, hash='c0edf6651c331ad44f950a03f58a85cc99db3a9023af64b7845408b94380c2d4')}, text='Sheet Lamination Processes\\n4. Ultrasonic Additive Manufacturing\\n1.Mechanical interlocking\\nEspecially for different \\nmaterials\\nWith significant hardness \\ndifferenceBetween\\nfoil–embedded structuresLack of bonding\\nGibson: Additive \\nManufacturing \\nTechnologies', start_char_idx=0, end_char_idx=256, text_template='{metadata_str}\\n\\n{content}', metadata_template='{key}: {value}', metadata_seperator='\\n'), score=1.485297895410798e-171)], metadata={'91406594-55f0-4e4a-b079-dc0130c9add5': {'page_label': '15', 'file_name': '2.pdf', 'file_path': '/home/tom/Python/Tools/RAG and PDF/docs/2.pdf', 'file_type': 'application/pdf', 'file_size': 533773, 'creation_date': '2024-04-22', 'last_modified_date': '2023-01-27'}, '9c7145a8-a890-4852-a887-7bed74b31212': {'page_label': '11', 'file_name': '2.pdf', 'file_path': '/home/tom/Python/Tools/RAG and PDF/docs/2.pdf', 'file_type': 'application/pdf', 'file_size': 533773, 'creation_date': '2024-04-22', 'last_modified_date': '2023-01-27'}, '75311c48-4c35-4b11-abc1-cc05b7407c60': {'page_label': '16', 'file_name': '2.pdf', 'file_path': '/home/tom/Python/Tools/RAG and PDF/docs/2.pdf', 'file_type': 'application/pdf', 'file_size': 533773, 'creation_date': '2024-04-22', 'last_modified_date': '2023-01-27'}, 'c652bee7-e84d-410f-8457-7683764cfba9': {'page_label': '14', 'file_name': '2.pdf', 'file_path': '/home/tom/Python/Tools/RAG and PDF/docs/2.pdf', 'file_type': 'application/pdf', 'file_size': 533773, 'creation_date': '2024-04-22', 'last_modified_date': '2023-01-27'}, '6b1e1dd9-a8b9-4285-9643-d7911e2926a8': {'page_label': '6', 'file_name': '2.pdf', 'file_path': '/home/tom/Python/Tools/RAG and PDF/docs/2.pdf', 'file_type': 'application/pdf', 'file_size': 533773, 'creation_date': '2024-04-22', 'last_modified_date': '2023-01-27'}, '7fdd0345-9359-4b2b-9ad1-03b3b9384625': {'page_label': '17', 'file_name': '2.pdf', 'file_path': '/home/tom/Python/Tools/RAG and PDF/docs/2.pdf', 'file_type': 'application/pdf', 'file_size': 533773, 'creation_date': '2024-04-22', 'last_modified_date': '2023-01-27'}, '5c7bc2a9-34df-447d-8fb3-09b4cb91fb2c': {'page_label': '8', 'file_name': '2.pdf', 'file_path': '/home/tom/Python/Tools/RAG and PDF/docs/2.pdf', 'file_type': 'application/pdf', 'file_size': 533773, 'creation_date': '2024-04-22', 'last_modified_date': '2023-01-27'}, '173e0745-b559-4aaa-b9ef-32a4cb05e08d': {'page_label': '10', 'file_name': '2.pdf', 'file_path': '/home/tom/Python/Tools/RAG and PDF/docs/2.pdf', 'file_type': 'application/pdf', 'file_size': 533773, 'creation_date': '2024-04-22', 'last_modified_date': '2023-01-27'}, '294a968c-7756-49ab-97eb-e6cb8702cf3f': {'page_label': '9', 'file_name': '2.pdf', 'file_path': '/home/tom/Python/Tools/RAG and PDF/docs/2.pdf', 'file_type': 'application/pdf', 'file_size': 533773, 'creation_date': '2024-04-22', 'last_modified_date': '2023-01-27'}, '41a91969-296a-4161-9b3e-9bde5bc468da': {'page_label': '19', 'file_name': '2.pdf', 'file_path': '/home/tom/Python/Tools/RAG and PDF/docs/2.pdf', 'file_type': 'application/pdf', 'file_size': 533773, 'creation_date': '2024-04-22', 'last_modified_date': '2023-01-27'}, '5a5749fb-a1bd-485c-8049-c1d01faa3b45': {'page_label': '21', 'file_name': '4.pdf', 'file_path': '/home/tom/Python/Tools/RAG and PDF/docs/4.pdf', 'file_type': 'application/pdf', 'file_size': 637389, 'creation_date': '2024-04-22', 'last_modified_date': '2023-01-27'}, '4c491543-11a0-4bf5-834f-5316561b7098': {'page_label': '20', 'file_name': '2.pdf', 'file_path': '/home/tom/Python/Tools/RAG and PDF/docs/2.pdf', 'file_type': 'application/pdf', 'file_size': 533773, 'creation_date': '2024-04-22', 'last_modified_date': '2023-01-27'}})"
      ]
     },
     "execution_count": 13,
     "metadata": {},
     "output_type": "execute_result"
    }
   ],
   "source": [
    "response"
   ]
  },
  {
   "cell_type": "code",
   "execution_count": null,
   "id": "eb80bdd5-6953-419e-9cf2-168c4363a6a1",
   "metadata": {},
   "outputs": [],
   "source": [
    "response.metadata"
   ]
  },
  {
   "cell_type": "code",
   "execution_count": null,
   "id": "5c637f1c-ba77-4e52-b5aa-5e6364553e9d",
   "metadata": {},
   "outputs": [],
   "source": [
    "import re\n",
    "if hasattr(response, 'metadata'):\n",
    "    document_info = str(response.metadata)\n",
    "    find = re.findall(r\"'page_label': '[^']*', 'file_name': '[^']*'\", document_info)\n",
    "\n",
    "    print('\\n'+'=' * 60+'\\n')\n",
    "    print('Context Information')\n",
    "    print(str(find))\n",
    "    print('\\n'+'=' * 60+'\\n')"
   ]
  }
 ],
 "metadata": {
  "kernelspec": {
   "display_name": "Python 3 (ipykernel)",
   "language": "python",
   "name": "python3"
  },
  "language_info": {
   "codemirror_mode": {
    "name": "ipython",
    "version": 3
   },
   "file_extension": ".py",
   "mimetype": "text/x-python",
   "name": "python",
   "nbconvert_exporter": "python",
   "pygments_lexer": "ipython3",
   "version": "3.11.8"
  }
 },
 "nbformat": 4,
 "nbformat_minor": 5
}
