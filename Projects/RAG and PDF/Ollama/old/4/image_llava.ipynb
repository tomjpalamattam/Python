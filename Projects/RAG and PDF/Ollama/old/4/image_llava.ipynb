{
 "cells": [
  {
   "cell_type": "code",
   "execution_count": 1,
   "id": "1ad06909-8452-49a2-a7e3-b44c29b23828",
   "metadata": {},
   "outputs": [],
   "source": [
    "import ollama\n",
    "from ollama import generate\n",
    "import glob\n",
    "import pandas as pd\n",
    "from PIL import Image\n",
    "\n",
    "import os\n",
    "from io import BytesIO"
   ]
  },
  {
   "cell_type": "code",
   "execution_count": 2,
   "id": "9068579a-3f30-438e-a7b7-9621a953f030",
   "metadata": {},
   "outputs": [],
   "source": [
    "# Load the DataFrame from a CSV file, or create a new one if the file doesn't exist\n",
    "def load_or_create_dataframe(filename):\n",
    "    if os.path.isfile(filename):\n",
    "        df = pd.read_csv(filename)\n",
    "    else:\n",
    "        df = pd.DataFrame(columns=['image_file', 'description'])\n",
    "    return df\n",
    "\n",
    "df = load_or_create_dataframe('image_descriptions.csv')\n",
    "\n",
    "def get_files(folder_path):\n",
    "    return glob.glob(f\"{folder_path}/*.jpg\")"
   ]
  },
  {
   "cell_type": "code",
   "execution_count": 3,
   "id": "97a6fca3-8a7c-4b21-8708-b27e23937de4",
   "metadata": {},
   "outputs": [
    {
     "name": "stdout",
     "output_type": "stream",
     "text": [
      "['/home/tom/Python/OCR/images/PXL_20220512_211750155-2.jpg', '/home/tom/Python/OCR/images/PXL_20220512_211750155.jpg', '/home/tom/Python/OCR/images/PXL_20220512_214052210-2.jpg']\n",
      "                                          image_file  \\\n",
      "0  /home/tom/Python/OCR/images/PXL_20220512_21175...   \n",
      "1  /home/tom/Python/OCR/images/PXL_20220512_21175...   \n",
      "2  /home/tom/Python/OCR/images/PXL_20220512_21405...   \n",
      "3  /home/tom/Python/OCR/images/PXL_20220512_21405...   \n",
      "4  /home/tom/Python/OCR/images/PXL_20220512_21443...   \n",
      "\n",
      "                                         description  \n",
      "0   The image shows a man taking a selfie in a ba...  \n",
      "1   The image shows a person standing in front of...  \n",
      "2   The image features a person taking a selfie i...  \n",
      "3   In the image, there are two distinct photos p...  \n",
      "4   The image is a photograph of an individual st...  \n"
     ]
    }
   ],
   "source": [
    "# get the list of image files in the folder yopu want to process\n",
    "image_files = get_files(\"/home/tom/Python/OCR/images/\") \n",
    "image_files.sort()\n",
    "\n",
    "print(image_files[:3])\n",
    "print(df.head())"
   ]
  },
  {
   "cell_type": "code",
   "execution_count": null,
   "id": "fc5cccb5-efe1-4d0e-9a9f-c439f51214ae",
   "metadata": {},
   "outputs": [],
   "source": [
    "!ollama pull llava"
   ]
  },
  {
   "cell_type": "code",
   "execution_count": 4,
   "id": "ab22a7eb-0124-4314-b0be-8f80dd84026c",
   "metadata": {},
   "outputs": [],
   "source": [
    "# processing the images \n",
    "def process_image(image_file):\n",
    "    print(f\"\\nProcessing {image_file}\\n\")\n",
    "    with Image.open(image_file) as img:\n",
    "        with BytesIO() as buffer:\n",
    "            img.save(buffer, format='JPEG')\n",
    "            image_bytes = buffer.getvalue()\n",
    "\n",
    "    full_response = ''\n",
    "    # Generate a description of the image\n",
    "    for response in generate(model='llava', \n",
    "                             prompt='describe this image and make sure to include anything notable about it (include text you see in the image):', \n",
    "                             images=[image_bytes], \n",
    "                             stream=True):\n",
    "        # Print the response to the console and add it to the full response\n",
    "        print(response['response'], end='', flush=True)\n",
    "        full_response += response['response']\n",
    "\n",
    "    # Add a new row to the DataFrame\n",
    "    df.loc[len(df)] = [image_file, full_response]"
   ]
  },
  {
   "cell_type": "code",
   "execution_count": 5,
   "id": "3cf3ffbb-2a13-4244-a456-a65736365086",
   "metadata": {},
   "outputs": [],
   "source": [
    "for image_file in image_files:\n",
    "    if image_file not in df['image_file'].values:\n",
    "        process_image(image_file)\n",
    "\n",
    "# Save the DataFrame to a CSV file\n",
    "df.to_csv('image_descriptions.csv', index=False)"
   ]
  },
  {
   "cell_type": "code",
   "execution_count": null,
   "id": "27f24c49-747b-406c-900f-ea7b0caba346",
   "metadata": {},
   "outputs": [],
   "source": []
  }
 ],
 "metadata": {
  "kernelspec": {
   "display_name": "Python 3 (ipykernel)",
   "language": "python",
   "name": "python3"
  },
  "language_info": {
   "codemirror_mode": {
    "name": "ipython",
    "version": 3
   },
   "file_extension": ".py",
   "mimetype": "text/x-python",
   "name": "python",
   "nbconvert_exporter": "python",
   "pygments_lexer": "ipython3",
   "version": "3.11.8"
  }
 },
 "nbformat": 4,
 "nbformat_minor": 5
}
