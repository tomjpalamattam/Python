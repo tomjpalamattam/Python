{
 "cells": [
  {
   "cell_type": "code",
   "execution_count": null,
   "id": "44cf95df-94f0-4eb2-8637-c22a72021bd1",
   "metadata": {},
   "outputs": [],
   "source": [
    "#IMPLEMENTATION 1"
   ]
  },
  {
   "cell_type": "code",
   "execution_count": 1,
   "id": "77266316-87eb-4e08-a93f-1062c02e3c2b",
   "metadata": {},
   "outputs": [],
   "source": [
    "from langchain.llms import Ollama\n",
    "from langchain.prompts import PromptTemplate\n",
    "from langchain.chains import LLMChain, RetrievalQA\n",
    "from langchain.document_loaders import CSVLoader\n",
    "from langchain.vectorstores import Chroma\n",
    "from langchain.embeddings import OllamaEmbeddings"
   ]
  },
  {
   "cell_type": "code",
   "execution_count": 2,
   "id": "4281b70a-4a57-4d8c-bfdf-297ea747d035",
   "metadata": {},
   "outputs": [],
   "source": [
    "def get_insights(question):\n",
    "    # Load and process the CSV data\n",
    "    loader = CSVLoader(\"pokemon.csv\")\n",
    "    documents = loader.load()\n",
    "\n",
    "    # Create embeddings\n",
    "    embeddings = OllamaEmbeddings(model=\"nomic-embed-text\")\n",
    "\n",
    "    chroma_db = Chroma.from_documents(\n",
    "        documents, embeddings, persist_directory=\"./chroma_db\"\n",
    "    )\n",
    "    chroma_db.persist()\n",
    "\n",
    "    llm = Ollama(model=\"llama3\")\n",
    "\n",
    "    prompt_template = PromptTemplate(\n",
    "        input_variables=[\"context\"],\n",
    "        template=\"Given this context: {context}, please directly answer the question: {question}.\",\n",
    "    )\n",
    "\n",
    "    # Set up the question-answering chain\n",
    "    qa_chain = RetrievalQA.from_chain_type(\n",
    "        llm,\n",
    "        retriever=chroma_db.as_retriever(),\n",
    "        chain_type_kwargs={\"prompt\": prompt_template},\n",
    "    )\n",
    "    print(chroma_db.as_retriever())\n",
    "    result = qa_chain({\"query\": question})\n",
    "    return result"
   ]
  },
  {
   "cell_type": "code",
   "execution_count": 3,
   "id": "ceabee39-c174-426a-9f59-92dc36db7d1d",
   "metadata": {},
   "outputs": [
    {
     "name": "stdout",
     "output_type": "stream",
     "text": [
      "tags=['Chroma', 'OllamaEmbeddings'] vectorstore=<langchain_community.vectorstores.chroma.Chroma object at 0x7411805add10>\n"
     ]
    },
    {
     "name": "stderr",
     "output_type": "stream",
     "text": [
      "/home/tom/apps/cache/python-envs/torch/lib/python3.11/site-packages/langchain_core/_api/deprecation.py:119: LangChainDeprecationWarning: The method `Chain.__call__` was deprecated in langchain 0.1.0 and will be removed in 0.2.0. Use invoke instead.\n",
      "  warn_deprecated(\n"
     ]
    }
   ],
   "source": [
    "response = get_insights(\"whats this about?\")"
   ]
  },
  {
   "cell_type": "code",
   "execution_count": 4,
   "id": "da3e6c37-956b-4c34-92bd-ff9295c3859b",
   "metadata": {},
   "outputs": [
    {
     "name": "stdout",
     "output_type": "stream",
     "text": [
      "{'query': 'whats this about?', 'result': 'This appears to be a list of Pokémon with their various stats and characteristics. The names are formatted like \"Name: HoopaHoopa Confined\" and include information such as:\\n\\n* Type(s) (e.g. Dragon, Ground)\\n* Total base stat\\n* HP (health points), Attack, Defense, Special Attack, Special Defense, and Speed\\n* Generation number (indicating the Pokémon\\'s introduction in a particular generation of games)\\n* Legendary status (True or False)\\n\\nIt seems that this list may be used for reference or comparison purposes, possibly for competitive battling or game strategy.'}\n"
     ]
    }
   ],
   "source": [
    "print(response)"
   ]
  },
  {
   "cell_type": "code",
   "execution_count": null,
   "id": "9a8ee476-940d-473e-a62d-ff45727a5a4a",
   "metadata": {},
   "outputs": [],
   "source": [
    "#IMPLEMENTATION 2"
   ]
  },
  {
   "cell_type": "code",
   "execution_count": 7,
   "id": "ddf611b8-ff04-41b2-b76e-012621902b8a",
   "metadata": {},
   "outputs": [],
   "source": [
    "\n",
    "loader = CSVLoader(\"pokemon.csv\")\n",
    "documents = loader.load()\n"
   ]
  },
  {
   "cell_type": "code",
   "execution_count": 8,
   "id": "93bc06ca-066c-4b93-9d03-e7896f794ef2",
   "metadata": {},
   "outputs": [
    {
     "name": "stderr",
     "output_type": "stream",
     "text": [
      "OllamaEmbeddings: 100%|██████████████████████████████████████████████████████████████| 800/800 [01:49<00:00,  7.29it/s]\n"
     ]
    }
   ],
   "source": [
    "# Add documents to vector database in addition to persistant directory (execute this or the one below)\n",
    "vector_db = Chroma.from_documents(\n",
    "    documents=documents, \n",
    "    embedding=OllamaEmbeddings(model=\"nomic-embed-text\",show_progress=True),\n",
    "    collection_name=\"local-rag\",\n",
    "    persist_directory=\"./chroma_db_csv\"\n",
    ")\n"
   ]
  },
  {
   "cell_type": "code",
   "execution_count": null,
   "id": "aa262019-0626-4d17-bf29-5b309212e2cd",
   "metadata": {},
   "outputs": [],
   "source": [
    "#Load from existing persistent directory (execute this or the one above)\n",
    "\n",
    "vector_db = Chroma(\n",
    "    persist_directory=\"./chroma_db_csv\",\n",
    "    embedding_function=OllamaEmbeddings(model=\"nomic-embed-text\",show_progress=True),\n",
    "    collection_name=\"local-rag\"\n",
    ")"
   ]
  },
  {
   "cell_type": "code",
   "execution_count": 10,
   "id": "4506b93c-4405-4f18-920b-450f18f35f92",
   "metadata": {},
   "outputs": [],
   "source": [
    "from langchain.prompts import ChatPromptTemplate, PromptTemplate\n",
    "from langchain_core.output_parsers import StrOutputParser\n",
    "from langchain_community.chat_models import ChatOllama\n",
    "from langchain_core.runnables import RunnablePassthrough\n",
    "from langchain.retrievers.multi_query import MultiQueryRetriever"
   ]
  },
  {
   "cell_type": "code",
   "execution_count": 11,
   "id": "9888fcfa-6831-443a-903e-80b8e4fc57c3",
   "metadata": {},
   "outputs": [],
   "source": [
    "# LLM from Ollama\n",
    "local_model = \"llama3\"\n",
    "llm = ChatOllama(model=local_model)"
   ]
  },
  {
   "cell_type": "code",
   "execution_count": 12,
   "id": "8349e309-9457-451f-9e92-4cf2a7e371cb",
   "metadata": {},
   "outputs": [],
   "source": [
    "QUERY_PROMPT = PromptTemplate(\n",
    "    input_variables=[\"question\"],\n",
    "    template=\"\"\"You are an AI language model assistant. Your task is to generate five\n",
    "    different versions of the given user question to retrieve relevant documents from\n",
    "    a vector database. By generating multiple perspectives on the user question, your\n",
    "    goal is to help the user overcome some of the limitations of the distance-based\n",
    "    similarity search. Provide these alternative questions separated by newlines.\n",
    "    Original question: {question}\"\"\",\n",
    ")"
   ]
  },
  {
   "cell_type": "code",
   "execution_count": 13,
   "id": "875aedcb-54f4-45a6-9893-f0ddb9a21d9c",
   "metadata": {},
   "outputs": [],
   "source": [
    "retriever = MultiQueryRetriever.from_llm(\n",
    "    vector_db.as_retriever(), \n",
    "    llm,\n",
    "    prompt=QUERY_PROMPT\n",
    ")\n",
    "\n",
    "# RAG prompt\n",
    "template = \"\"\"Answer the question based ONLY on the following context:\n",
    "{context}\n",
    "Question: {question}\n",
    "\"\"\"\n",
    "\n",
    "prompt = ChatPromptTemplate.from_template(template)"
   ]
  },
  {
   "cell_type": "code",
   "execution_count": 14,
   "id": "22485f3e-6fcc-41f8-8d3e-242bac8914d2",
   "metadata": {},
   "outputs": [],
   "source": [
    "chain = (\n",
    "    {\"context\": retriever, \"question\": RunnablePassthrough()}\n",
    "    | prompt\n",
    "    | llm\n",
    "    | StrOutputParser()\n",
    ")"
   ]
  },
  {
   "cell_type": "code",
   "execution_count": 15,
   "id": "adf88cda-cfe7-48ec-ba63-5c61b2448ced",
   "metadata": {},
   "outputs": [
    {
     "name": "stdin",
     "output_type": "stream",
     "text": [
      " how many pokemons are there?\n"
     ]
    },
    {
     "name": "stderr",
     "output_type": "stream",
     "text": [
      "OllamaEmbeddings: 100%|██████████████████████████████████████████████████████████████████| 1/1 [00:01<00:00,  1.07s/it]\n",
      "OllamaEmbeddings: 100%|██████████████████████████████████████████████████████████████████| 1/1 [00:00<00:00, 16.32it/s]\n",
      "OllamaEmbeddings: 100%|██████████████████████████████████████████████████████████████████| 1/1 [00:00<00:00,  7.01it/s]\n",
      "OllamaEmbeddings: 100%|██████████████████████████████████████████████████████████████████| 1/1 [00:00<00:00, 16.07it/s]\n",
      "OllamaEmbeddings: 100%|██████████████████████████████████████████████████████████████████| 1/1 [00:00<00:00,  9.66it/s]\n",
      "OllamaEmbeddings: 100%|██████████████████████████████████████████████████████████████████| 1/1 [00:00<00:00,  9.44it/s]\n",
      "OllamaEmbeddings: 100%|██████████████████████████████████████████████████████████████████| 1/1 [00:00<00:00, 15.89it/s]\n",
      "OllamaEmbeddings: 100%|██████████████████████████████████████████████████████████████████| 1/1 [00:00<00:00,  6.97it/s]\n",
      "OllamaEmbeddings: 100%|██████████████████████████████████████████████████████████████████| 1/1 [00:00<00:00,  8.37it/s]\n"
     ]
    },
    {
     "data": {
      "text/plain": [
       "'According to the data you provided, there are 12 Pokémon:\\n\\n1. MewtwoMega Mewtwo X\\n2. Celebi\\n3. MetagrossMega Metagross\\n4. Hippopotas\\n5. Vulpix\\n6. Jirachi\\n7. GroudonPrimal Groudon\\n8. Kadabra\\n9. Exeggcute\\n10. Grovyle\\n11. SceptileMega Sceptile\\n12. Cherubi'"
      ]
     },
     "execution_count": 15,
     "metadata": {},
     "output_type": "execute_result"
    }
   ],
   "source": [
    "#Enter your question in the bracket and press enter\n",
    "chain.invoke(input(\"\"))"
   ]
  },
  {
   "cell_type": "code",
   "execution_count": 16,
   "id": "d52694e0-c978-46e4-a8a1-f3a799679d95",
   "metadata": {},
   "outputs": [
    {
     "name": "stderr",
     "output_type": "stream",
     "text": [
      "OllamaEmbeddings: 100%|██████████████████████████████████████████████████████████████████| 1/1 [00:01<00:00,  1.04s/it]\n",
      "OllamaEmbeddings: 100%|██████████████████████████████████████████████████████████████████| 1/1 [00:00<00:00, 45.05it/s]\n",
      "OllamaEmbeddings: 100%|██████████████████████████████████████████████████████████████████| 1/1 [00:00<00:00,  7.00it/s]\n",
      "OllamaEmbeddings: 100%|██████████████████████████████████████████████████████████████████| 1/1 [00:00<00:00, 16.37it/s]\n",
      "OllamaEmbeddings: 100%|██████████████████████████████████████████████████████████████████| 1/1 [00:00<00:00,  9.89it/s]\n",
      "OllamaEmbeddings: 100%|██████████████████████████████████████████████████████████████████| 1/1 [00:00<00:00,  9.69it/s]\n",
      "OllamaEmbeddings: 100%|██████████████████████████████████████████████████████████████████| 1/1 [00:00<00:00, 16.52it/s]\n",
      "OllamaEmbeddings: 100%|██████████████████████████████████████████████████████████████████| 1/1 [00:00<00:00,  6.57it/s]\n",
      "OllamaEmbeddings: 100%|██████████████████████████████████████████████████████████████████| 1/1 [00:00<00:00, 14.30it/s]\n",
      "OllamaEmbeddings: 100%|██████████████████████████████████████████████████████████████████| 1/1 [00:00<00:00,  9.89it/s]\n",
      "OllamaEmbeddings: 100%|██████████████████████████████████████████████████████████████████| 1/1 [00:00<00:00,  8.33it/s]\n",
      "OllamaEmbeddings: 100%|██████████████████████████████████████████████████████████████████| 1/1 [00:00<00:00, 16.12it/s]\n",
      "OllamaEmbeddings: 100%|██████████████████████████████████████████████████████████████████| 1/1 [00:00<00:00,  5.19it/s]\n"
     ]
    },
    {
     "data": {
      "text/plain": [
       "'A fascinating question!\\n\\nIt appears that you\\'re looking at a collection of documents or records, possibly from a Pokémon database. Each document contains information about a specific Pokémon species, including its name, types (e.g., Fire/Fighting), total stats (HP, Attack, Defense, etc.), and other details.\\n\\nThe metadata associated with each document suggests that they come from a CSV file called \"pokemon.csv\", and the row number and generation number are also provided. This could be useful for someone trying to analyze or work with Pokémon data.\\n\\nIf you have any specific questions about these documents or would like me to help with anything related, feel free to ask!'"
      ]
     },
     "execution_count": 16,
     "metadata": {},
     "output_type": "execute_result"
    }
   ],
   "source": [
    "chain.invoke(\"whats this about?\")"
   ]
  },
  {
   "cell_type": "code",
   "execution_count": null,
   "id": "8cc5301f-bfe1-4e2a-8f5c-629e702b621a",
   "metadata": {},
   "outputs": [],
   "source": []
  }
 ],
 "metadata": {
  "kernelspec": {
   "display_name": "Python 3 (ipykernel)",
   "language": "python",
   "name": "python3"
  },
  "language_info": {
   "codemirror_mode": {
    "name": "ipython",
    "version": 3
   },
   "file_extension": ".py",
   "mimetype": "text/x-python",
   "name": "python",
   "nbconvert_exporter": "python",
   "pygments_lexer": "ipython3",
   "version": "3.11.8"
  }
 },
 "nbformat": 4,
 "nbformat_minor": 5
}
