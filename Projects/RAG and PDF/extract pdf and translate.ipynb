{
 "cells": [
  {
   "cell_type": "code",
   "execution_count": 2,
   "id": "af56bd20-c915-466a-96f6-305fe93aeb28",
   "metadata": {},
   "outputs": [],
   "source": [
    "#source /home/tom/apps/cache/python-envs/pdf-translate/bin/activate && cd \"/home/tom/Python/OCR\" && /home/tom/apps/cache/python-envs/pdf-translate/bin/pip install PyMuPDF deep-translator python-docx"
   ]
  },
  {
   "cell_type": "code",
   "execution_count": 3,
   "id": "761b41c2-5713-42eb-9156-299a7e93523b",
   "metadata": {},
   "outputs": [
    {
     "name": "stdout",
     "output_type": "stream",
     "text": [
      "Text from PDF saved to '/home/tom/Python/OCR/docs_to_OCR/output.docx'.\n"
     ]
    }
   ],
   "source": [
    "import fitz  # PyMuPDF\n",
    "from docx import Document\n",
    "from deep_translator import GoogleTranslator\n",
    "\n",
    "def pdf_to_text(pdf_path):\n",
    "    doc = fitz.open(pdf_path)\n",
    "    pages_text = []\n",
    "    for page_num in range(doc.page_count):\n",
    "        page = doc[page_num]\n",
    "        pages_text.append(page.get_text())\n",
    "    return pages_text\n",
    "\n",
    "def translate_text(text, target_lang='en'):\n",
    "    translator = GoogleTranslator(source='auto', target=target_lang)\n",
    "    translation = translator.translate(text)\n",
    "    return translation\n",
    "\n",
    "def save_to_word(pages_text, output_file):\n",
    "    doc = Document()\n",
    "\n",
    "    for page_num, page_text in enumerate(pages_text, start=1):\n",
    "        # Add a page break between pages, except for the first page\n",
    "        if page_num > 1:\n",
    "            doc.add_page_break()\n",
    "\n",
    "        # Translate the text\n",
    "        translated_text = translate_text(page_text)\n",
    "\n",
    "        # Add the original and translated text to separate paragraphs\n",
    "        #doc.add_paragraph(f\"Page {page_num} (Original)\")\n",
    "        #doc.add_paragraph(page_text)\n",
    "\n",
    "        doc.add_paragraph(f\"Page {page_num} (Translated)\")\n",
    "        doc.add_paragraph(translated_text)\n",
    "\n",
    "    doc.save(output_file)\n",
    "\n",
    "def main():\n",
    "    pdf_path = '/home/tom/Python/OCR/docs_to_OCR/CONFIDENTIAL_MasterThesis_Alexander-Moser.pdf'\n",
    "    pages_text = pdf_to_text(pdf_path)\n",
    "\n",
    "    # Save to Word file\n",
    "    output_word_file = '/home/tom/Python/OCR/docs_to_OCR/output.docx'\n",
    "    save_to_word(pages_text, output_word_file)\n",
    "    print(f\"Text from PDF saved to '{output_word_file}'.\")\n",
    "\n",
    "if __name__ == \"__main__\":\n",
    "    main()\n"
   ]
  },
  {
   "cell_type": "code",
   "execution_count": null,
   "id": "5089983a-ead7-4b78-9476-a8f7d63b3e5d",
   "metadata": {},
   "outputs": [],
   "source": []
  },
  {
   "cell_type": "code",
   "execution_count": null,
   "id": "f9249b6f-7074-41e8-b4f4-5c7c5f1d6740",
   "metadata": {},
   "outputs": [],
   "source": []
  }
 ],
 "metadata": {
  "kernelspec": {
   "display_name": "Python 3 (ipykernel)",
   "language": "python",
   "name": "python3"
  },
  "language_info": {
   "codemirror_mode": {
    "name": "ipython",
    "version": 3
   },
   "file_extension": ".py",
   "mimetype": "text/x-python",
   "name": "python",
   "nbconvert_exporter": "python",
   "pygments_lexer": "ipython3",
   "version": "3.11.6"
  }
 },
 "nbformat": 4,
 "nbformat_minor": 5
}
