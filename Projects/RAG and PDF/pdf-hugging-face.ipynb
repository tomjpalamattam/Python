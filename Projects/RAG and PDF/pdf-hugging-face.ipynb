{
 "cells": [
  {
   "cell_type": "code",
   "execution_count": 20,
   "id": "363f7c08-54fb-4c77-af93-e9e355933c39",
   "metadata": {},
   "outputs": [],
   "source": [
    "# python -m venv /home/tom/apps/cache/python-envs/pdf-gpt && source /home/tom/apps/cache/python-envs/pdf-gpt/bin/activate\n",
    "# pip install beautifulsoup4 langchain huggingface_hub sentence_transformers faiss-cpu\n",
    "# pip install langchain unstructured"
   ]
  },
  {
   "cell_type": "code",
   "execution_count": 21,
   "id": "0269b3c5-93a1-4a19-a4f5-10e37c722685",
   "metadata": {},
   "outputs": [],
   "source": [
    "#for ocr\n",
    "from langchain.document_loaders import UnstructuredPDFLoader\n",
    "from langchain.text_splitter import RecursiveCharacterTextSplitter"
   ]
  },
  {
   "cell_type": "code",
   "execution_count": 22,
   "id": "51167561-eda7-46c7-b4cb-a09752236bb1",
   "metadata": {},
   "outputs": [],
   "source": [
    "#for complete program\n",
    "import requests\n",
    "from bs4 import BeautifulSoup\n",
    "from langchain.document_loaders import TextLoader\n",
    "from langchain.text_splitter import RecursiveCharacterTextSplitter\n",
    "from langchain.embeddings import HuggingFaceEmbeddings\n",
    "from langchain.vectorstores import FAISS\n",
    "from langchain.chains.question_answering import load_qa_chain\n",
    "from langchain import HuggingFaceHub"
   ]
  },
  {
   "cell_type": "code",
   "execution_count": 23,
   "id": "f303259d-bfc0-4e78-be1f-b136c094fcd0",
   "metadata": {},
   "outputs": [],
   "source": [
    "# for pdf (comment this inoder to use text)\n",
    "\n",
    "loader = UnstructuredPDFLoader(\"/home/tom/Desktop/Am-notes/am/8_Binder Jetting BJ_script.pdf\")\n",
    "document = loader.load()"
   ]
  },
  {
   "cell_type": "code",
   "execution_count": 26,
   "id": "4dd16a96-9d82-45c9-afc8-ee1aa0abf0b9",
   "metadata": {},
   "outputs": [],
   "source": [
    "# for txt (comment this inoder to use pdf)\n",
    "\n",
    "loader = TextLoader(\"/home/tom/Python/OCR/vision_method_txt/CE 208 M1 Ktuassist.txt\")\n",
    "document = loader.load()"
   ]
  },
  {
   "cell_type": "code",
   "execution_count": 24,
   "id": "0ec52c3d-7efc-404c-9662-6299314ddabb",
   "metadata": {},
   "outputs": [],
   "source": [
    "text_splitter = RecursiveCharacterTextSplitter(chunk_size = 1000, chunk_overlap=0, separators=[\" \", \",\", \"\\n\"])\n",
    "docs = text_splitter.split_documents(document)"
   ]
  },
  {
   "cell_type": "code",
   "execution_count": 25,
   "id": "8e5ff9a1-4345-4f11-ab79-b04af79feb05",
   "metadata": {},
   "outputs": [
    {
     "data": {
      "text/plain": [
       "Document(page_content='printing-processes-binder- jetting\\n\\nBinder Jetting\\n\\n1. Introduction\\n\\n3 D Priniting (3DP) : A Binder is printed onto a powder bed to form a part cross section. Because it uses powder it was briefly discussed in the section for powder bed fusion (PBF). Difference for most PBF concepts: A laser is used to melt or sinter powder to form a part cross section.\\n\\nhttps://www.engineersgar age.com/articles/3d- printing-processes-binder- jetting\\n\\nBinder Jetting\\n\\n1. Introduction\\n\\nDifference between MJ and BJ: All of the part material will be jetted through the head Not like binder jetting where only the binder is suspense through the head. Therefore only a small portion of the part material will be delivered through the print head. The majority of part material will be delivered through the powder bed.\\n\\nBinder Jetting\\n\\n2. Material\\n\\nCommercially available materials 3D System\\n\\n3D System\\n\\nBinder Jetting\\n\\n2. Material\\n\\nCommercially available materials 3D System\\n\\n3D System\\n\\nBinder Jetting\\n\\n2.', metadata={'source': '/home/tom/Desktop/Am-notes/am/8_Binder Jetting BJ_script.pdf'})"
      ]
     },
     "execution_count": 25,
     "metadata": {},
     "output_type": "execute_result"
    }
   ],
   "source": [
    "docs[1]"
   ]
  },
  {
   "cell_type": "code",
   "execution_count": 26,
   "id": "b1e17d66-10c4-4ba1-9b28-241942783516",
   "metadata": {},
   "outputs": [],
   "source": [
    "# chat pdf"
   ]
  },
  {
   "cell_type": "code",
   "execution_count": 27,
   "id": "e2793b31-4dfc-456f-aa27-fd082630de11",
   "metadata": {},
   "outputs": [],
   "source": [
    "embedding = HuggingFaceEmbeddings()\n",
    "db = FAISS.from_documents(docs, embedding)"
   ]
  },
  {
   "cell_type": "code",
   "execution_count": 28,
   "id": "be20f9b7-8f99-4b8a-b82f-4a5d213529ec",
   "metadata": {},
   "outputs": [],
   "source": [
    "import os\n",
    "os.environ[\"HUGGINGFACEHUB_API_TOKEN\"] = \"put_your_key_here\""
   ]
  },
  {
   "cell_type": "code",
   "execution_count": 29,
   "id": "5d6cb32a-fa42-4c5c-880f-170aa98d5616",
   "metadata": {},
   "outputs": [
    {
     "data": {
      "text/plain": [
       "'process of applying a liquid resin to a printed part to provide strength and specific properties'"
      ]
     },
     "execution_count": 29,
     "metadata": {},
     "output_type": "execute_result"
    }
   ],
   "source": [
    "# see https://huggingface.co/ashishkat/questionAnswer\n",
    "llm=HuggingFaceHub(\n",
    "    repo_id=\"randuser001/chatpdf\", \n",
    "    model_kwargs={\"temperature\":0.2, \"max_length\":256}\n",
    "    )\n",
    "chain = load_qa_chain(llm, chain_type=\"stuff\")\n",
    "query = \"what is infiltration?\"\n",
    "docs = db.similarity_search(query)\n",
    "chain.run(input_documents=docs, question=query)"
   ]
  },
  {
   "cell_type": "code",
   "execution_count": null,
   "id": "47b75c38-16b2-4152-9a35-6d8ccb747e5f",
   "metadata": {},
   "outputs": [],
   "source": []
  }
 ],
 "metadata": {
  "kernelspec": {
   "display_name": "Python 3 (ipykernel)",
   "language": "python",
   "name": "python3"
  },
  "language_info": {
   "codemirror_mode": {
    "name": "ipython",
    "version": 3
   },
   "file_extension": ".py",
   "mimetype": "text/x-python",
   "name": "python",
   "nbconvert_exporter": "python",
   "pygments_lexer": "ipython3",
   "version": "3.11.11"
  }
 },
 "nbformat": 4,
 "nbformat_minor": 5
}
